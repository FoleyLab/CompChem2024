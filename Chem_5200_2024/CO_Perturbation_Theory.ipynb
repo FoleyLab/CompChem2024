{
 "cells": [
  {
   "cell_type": "markdown",
   "id": "947240ff",
   "metadata": {
    "id": "947240ff"
   },
   "source": [
    "## Computing Fundamental Transition of CO under different levels of approximation\n",
    "We will illustrate approximations to the vibrational transition energies, specifically the fundamental ($n=0 \\rightarrow n=1$) transition, using the diatomic molecule CO.  \n",
    "\n",
    "We will use the Morse potential as a model for the \"exact\" interatomic potential, and we will approximate this potential by different orders of a Taylor expansion: including up to quadratic (which is the harmonic oscillator approximation), cubic, and quartic terms.  The harmonic and Morse potentials are exactly solvable, and the eigenfunctions and eigenvalues of the vibrational Hamiltonian with cubic and quartic potentials can be approximated using perturbation theory.  Therefore, we will\n",
    "compare the fundamental  transition computed exactly for harmonic and Morse potentials, and approximately at 2nd order of perturbation theory for cubic and quartic potentials to see the impact of various levels of potential truncation and approximation.\n",
    "\n",
    "\n",
    "Within the Morse model, the vibrational Hamiltonian can be written as\n",
    "\\begin{equation}\n",
    "\\hat{H}_{vib} = -\\frac{\\hbar^2}{2\\mu} \\frac{d^2}{dr^2} + V_{Morse}(r), \\tag{1}\n",
    "\\end{equation}\n",
    "where\n",
    "\\begin{equation}\n",
    "V_{Morse}(r) = D_e \\left(1 - e^{-\\beta(r-r_{eq})} \\right)^2. \\tag{2}\n",
    "\\end{equation}\n",
    "\n",
    "The Morse parameters for ${\\rm CO}$ are as follows: $D_e = 11.225 \\: {\\rm eV}$, $r_{eq} = 1.1283 \\: {\\rm Ang.}$, $\\beta = 2.5944 \\: {\\rm Ang.}^{-1}$,\n",
    "and $\\mu = 6.8606 \\: {\\rm amu}$.\n",
    "\n",
    "The exact energy eigenvalues for Equation (1) can be written as\n",
    "\\begin{equation}\n",
    "E_n = \\hbar \\omega \\left( \\left(n+ \\frac{1}{2} \\right) - \\chi_e \\left(n+ \\frac{1}{2} \\right)^2 \\right) \\tag{3}\n",
    "\\end{equation}\n",
    "where\n",
    "\\begin{equation}\n",
    "\\omega = \\sqrt{\\frac{2D_e \\beta^2}{\\mu}} \\tag{4}\n",
    "\\end{equation}\n",
    "and\n",
    "\\begin{equation}\n",
    "\\chi_e = \\frac{\\hbar \\omega}{4 D_e}. \\tag{5}\n",
    "\\end{equation}\n",
    "\n",
    "The Morse potential can be approximated by a Taylor expansion as follows:\n",
    "\\begin{equation}\n",
    "V_T(r) = \\sum_{n=0}^{\\infty} \\frac{ f^{(n)}(r_{eq})}{n!} \\left(r-r_{eq} \\right)^n, \\tag{6}\n",
    "\\end{equation}\n",
    "where $f^{(n)}(r_{eq})$ is the $n^{th}$-order derivative of the Morse potential evaluated at the equilibrium bondlength, e.g. $f^{(1)}(r_{eq}) = \\frac{d}{dr}V_{Morse}(r_{eq}).$\n",
    "\n",
    "We will define the Harmonic approximation to the potential as\n",
    "\\begin{equation}\n",
    "V_H(r) =  \\frac{ f^{''}(r_{eq})}{2} \\left(r-r_{eq} \\right)^2 = \\frac{1}{2} k \\left(r-r_{eq} \\right)^2 \\tag{7}\n",
    "\\end{equation}\n",
    "the cubic approximation to the potential as\n",
    "\\begin{equation}\n",
    "V_C(r) =  V_H(r) + \\frac{ f^{'''}(r_{eq})}{6} \\left(r-r_{eq} \\right)^3 = V_H(r) + \\frac{1}{6} g \\left(r-r_{eq} \\right)^3,   \\tag{8}\n",
    "\\end{equation}\n",
    "and the quartic approximation as\n",
    "\\begin{equation}\n",
    "V_Q(r) =  V_C(r) + \\frac{ f^{''''}(r_{eq})}{24} \\left(r-r_{eq} \\right)^4 =  V_C(r) + \\frac{1}{24}h(r-r_{eq})^4.  \\tag{9}\n",
    "\\end{equation}\n",
    "\n",
    "Because we are using the Morse model as the \"exact\" interatomic potential in this notebook, we can compute these derivatives at $r_{eq}$ analytically:\n",
    "\\begin{align}\n",
    "k = 2 D_e \\beta^2 \\\\\n",
    "g = -6 D_e \\beta^3 \\tag{10} \\\\\n",
    "h = 14 D_e \\beta^4.\n",
    "\\end{align}\n",
    "However, in general we do not have an analytical form for the interatomic potential, so we must rely on numerical derivatives of the potential evaluated at the $r_{eq}$.  In the context of interatomic potentials computed by quantum chemistry methods (e.g. CCSD(T)), one must first identify the equilibrium geometry, and then compute derivatives by taking a number of single point calculations along all displacement coordinates to compute differences among.  We will write the explicit expression for the second derivative using centered finite differences along the one displacement coordinate relevant for our ${\\rm CO}$ molecule:\n",
    "\\begin{equation}\n",
    "k=\\frac{V_{Morse}(r_{eq}+\\Delta r)-2V_{Morse}(r_{eq})+V_{Morse}(r_{eq}-\\Delta r)}{\\Delta r^2}+\\mathcal O (\\Delta r^2) \\tag{11}\n",
    "\\end{equation}\n",
    "where $\\Delta r$ represents a small displacement along the coordinate $r$.  Higher-order derivatives can also be computed, but will require larger numbers of displacements and therefore more energy evaluations by your quantum chemistry method.  Expressions for higher-order derivatives along a single coordinate can be found [here](https://sameradeeb.srv.ualberta.ca/introduction-to-numerical-analysis/numerical-differentiation/#centred-finite-difference9). Note that the number of displacement coordinates $N$ grows linearly with the number of atoms, and that the number of displacements required to form the $n^{{\\rm th}}$-order approximation to the potential grows as $N^n$.\n",
    "\n",
    "### Perturbation Theory\n",
    "We can compute the exact vibrational transition energies for the Morse oscillator and the Harmonic oscillator using Equation (3), where the Harmonic oscillator transition energies come from Equation (3) with $\\chi_e = 0$.  However, the transition energies when the potential is approximated as $V_C(r)$ or $V_Q(r)$ must be approximated.  We will illustrate the use of Perturbation Theory approximate these transition energies.  \n",
    "\n",
    "Here we will consider the Hamiltonian\n",
    "\\begin{equation}\n",
    "\\hat{H}_{vib} = -\\frac{\\hbar^2}{2\\mu} \\frac{d^2}{dr^2} + V_{H}(r) + V'(r) = \\hat{H}_0 + V'(r) \\tag{12},\n",
    "\\end{equation}\n",
    "where $\\hat{H}_0$ is exactly solved by the Harmonic oscillator energy eigenfunctions and eigenvalues ($\\psi^{(0)}_n(r)$, $E^{(0)}_n$), and $V'(r)$ is the perturbation which will take the form of either\n",
    "$V'(r) = \\frac{1}{6}g(r-r_{eq})^3$ or $V'(r) = \\frac{1}{6}g(r-r_{eq})^3 + \\frac{1}{24}h(r-r_{eq})^4$ in the cubic and quartic approximations, respectively.\n",
    "\n",
    "We can calculate the energy of state $n$ at 2nd order of perturbation theory as follows:\n",
    "\\begin{equation}\n",
    "E_n = E_n^{(0)} +  \\langle \\psi_n^{(0)} | V'(r) | \\psi_n^{(0)} \\rangle + \\sum_{k \\neq n} \\frac{|\\langle \\psi_k^{(0)} | V'(r) | \\psi_n^{(0)}|^2}{E_n^{(0)}-E_k^{(0)}}. \\tag{13}\n",
    "\\end{equation}\n",
    "\n",
    "Recall that for the zeroth-order functions have the form\n",
    "\\begin{align}\n",
    "\\psi_n^{(0)}(r) &= \\sqrt{\\frac{1}{2^n n!}} \\cdot \\left(\\frac{\\alpha}{\\pi} \\right)^{1/4} \\cdot H_n \\left(\\sqrt{\\alpha} r \\right) \\cdot {\\rm exp}\\left(\\frac{-\\alpha }{2} r^2 \\right) \\\\\n",
    "\\alpha &= \\frac{\\mu \\omega}{\\hbar} \\\\\n",
    "\\omega &= \\sqrt{\\frac{k}{\\mu}}\n",
    "\\end{align}\n",
    "\n",
    "### Approach\n",
    "We will compute the fundamental transition ($E_1 - E_0$) using the following approaches:\n",
    "1. Harmonic approximation: $E_1 - E_0 = \\hbar \\omega$\n",
    "2. Exact solution for Morse Hamiltonian: $E_1 - E_0 = \\hbar \\omega (1 - 2\\chi_e)$\n",
    "3. Evaluation of Eq. (13) for $n=0$ and $n=1$ utilizing the cubic contribution for $V'(r)$\n",
    "4. Evaluation of Eq. (13) for $n=0$ and $n=1$ utilizing the cubic and quartic contribution for $V'(r)$\n"
   ]
  },
  {
   "cell_type": "markdown",
   "id": "ed081f6f",
   "metadata": {
    "id": "ed081f6f"
   },
   "source": [
    "### Setting up Morse Oscillator Parameters\n",
    "The following block will establish the parameters for $\\hat{H}_{vib}$ with the Morse potential for the CO molecule."
   ]
  },
  {
   "cell_type": "code",
   "execution_count": null,
   "id": "6703398e",
   "metadata": {
    "id": "6703398e"
   },
   "outputs": [],
   "source": [
    "# library imports for the entire notebook\n",
    "import numpy as np\n",
    "from matplotlib import pyplot as plt\n",
    "import numpy as np\n",
    "from numpy import trapz\n",
    "from scipy.special import hermite\n",
    "from math import factorial\n",
    "\n",
    "# dissociation energy in eV\n",
    "De_eV = 11.225\n",
    "\n",
    "# equilibrium bondlength in Angstroms\n",
    "r_eq_ang = 1.1283\n",
    "\n",
    "# reduced mass in amu\n",
    "mu_amu = 6.8606\n",
    "\n",
    "# potential curvature in inverse angstromgs\n",
    "beta_inv_ang = 2.5994"
   ]
  },
  {
   "cell_type": "markdown",
   "id": "a55e3cda",
   "metadata": {
    "id": "a55e3cda"
   },
   "source": [
    "### Unit conversion\n",
    "We will use atomic units for our calculations and convert to spectroscopic units later.  In the following block, we will store different conversion factors as variables for later use.  "
   ]
  },
  {
   "cell_type": "code",
   "execution_count": null,
   "id": "225e5cbe",
   "metadata": {
    "id": "225e5cbe"
   },
   "outputs": [],
   "source": [
    "# atomic mass units to kg\n",
    "amu_to_kg = 1.66054e-27\n",
    "\n",
    "# angstroms to meters\n",
    "ang_to_m = 1e-10\n",
    "\n",
    "# electron volts to Jouls\n",
    "eV_to_J = 1.60218e-19\n",
    "\n",
    "# electron volts to atomic units of energy (Hartrees)\n",
    "eV_to_au = 1 / 27.211 #0.0367493\n",
    "\n",
    "# angstroms to atomic units of length (Bohr radii)\n",
    "au_to_ang = 0.52917721067121\n",
    "\n",
    "# atomic mass units to atomic units of mass\n",
    "amu_to_au = 1822.89"
   ]
  },
  {
   "cell_type": "markdown",
   "id": "0026139c",
   "metadata": {
    "id": "0026139c"
   },
   "source": [
    "The fllowing block will use the conversion factors above to store the Morse oscillator parameters in atomic units."
   ]
  },
  {
   "cell_type": "code",
   "execution_count": null,
   "id": "9b0ee0fb",
   "metadata": {
    "id": "9b0ee0fb"
   },
   "outputs": [],
   "source": [
    "\n",
    "# dissociation energy in au\n",
    "De_au = De_eV * eV_to_au\n",
    "\n",
    "# reduced mass in SI\n",
    "mu_au = mu_amu * amu_to_au\n",
    "\n",
    "# equilibrium bondlength in SI\n",
    "r_eq_au = r_eq_ang / au_to_ang\n",
    "\n",
    "# beta in SI\n",
    "beta_au = beta_inv_ang * au_to_ang\n",
    "\n",
    "# hbar in SI\n",
    "hbar_au = 1\n",
    "\n",
    "# h in SI\n",
    "h_SI = np.pi * 2\n"
   ]
  },
  {
   "cell_type": "markdown",
   "id": "0177f861",
   "metadata": {
    "id": "0177f861"
   },
   "source": [
    "### Evaluating the Morse potential in atomic units\n",
    "Here we will create an numpy array of bondlength values between $0$ and $2.5 r_{eq}$"
   ]
  },
  {
   "cell_type": "code",
   "execution_count": null,
   "id": "d32f9742",
   "metadata": {
    "id": "d32f9742"
   },
   "outputs": [],
   "source": [
    "def evaluate_Morse(r, De, beta, r_eq):\n",
    "    \"\"\" Helper function to evaluate the Morse potential at a given value of r\n",
    "\n",
    "    Arguments\n",
    "    ---------\n",
    "    r : float\n",
    "        value(s) of r to evaluate potential at\n",
    "\n",
    "    De : float\n",
    "        dissociation energy of the Morse oscillator\n",
    "\n",
    "    beta : float\n",
    "        related to the curvature of the Morse oscillator\n",
    "\n",
    "    r_eq : float\n",
    "        equilibrium bondlength of the Morse oscillator\n",
    "\n",
    "    Returns\n",
    "    -------\n",
    "    V_m : float\n",
    "        value of the Morse potential at value(s) of r\n",
    "\n",
    "    \"\"\"\n",
    "    # <== inert code to compute Morse Oscillator potential and store to V_M\n",
    "    return V_M\n",
    "\n",
    "\n",
    "# array of bondlength values\n",
    "r = np.linspace(0.2, 2.5 * r_eq_au, 20)\n",
    "\n",
    "# array of Morse potential values\n",
    "V_Morse = evaluate_Morse(r, De_au, beta_au, r_eq_au)"
   ]
  },
  {
   "cell_type": "markdown",
   "id": "6893b3d7",
   "metadata": {
    "id": "6893b3d7"
   },
   "source": [
    "### Expanding the Morse potential as a Taylor series\n",
    "In the following block, we will compute the analytical $k$, $g$, and $h$ terms defined in Equation 10.  We will compare the value of $k$ computed analytically to the value computed numerically by Eq. (11), as well.\n",
    "\n",
    "Recall Equation (10) was:\n",
    "\\begin{align}\n",
    "k = 2 D_e \\beta^2 \\\\\n",
    "g = -6 D_e \\beta^3  \\\\\n",
    "h = 14 D_e \\beta^4.\n",
    "\\end{align}\n",
    "\n",
    "and (11) was:\n",
    "\n",
    "\\begin{equation}\n",
    "k=\\frac{V_{Morse}(r_{eq}+\\Delta r)-2V_{Morse}(r_{eq})+V_{Morse}(r_{eq}-\\Delta r)}{\\Delta r^2}+O (\\Delta r^2)\n",
    "\\end{equation}"
   ]
  },
  {
   "cell_type": "code",
   "execution_count": null,
   "id": "f3b5756d",
   "metadata": {
    "id": "f3b5756d",
    "outputId": "245bd2b2-4cc9-4476-b52e-cba9e7ce71a6"
   },
   "outputs": [],
   "source": [
    "# Insert analytical evaluation of k\n",
    "# ,== k =\n",
    "\n",
    "# Insert analytical evaluation of g\n",
    "# <== g =\n",
    "\n",
    "# analytical evalution of h\n",
    "# <== h =\n",
    "\n",
    "# numerical evaluation of k\n",
    "\n",
    "# small displacement along r\n",
    "delta_r = 0.001 * r_eq_au\n",
    "\n",
    "# value of Morse potential at forward displacement\n",
    "# <== V_f =\n",
    "\n",
    "# value of Morse potential at equilibrium\n",
    "#<== V_eq =\n",
    "\n",
    "# value of Morse potential at backward displacement\n",
    "# <== V_b =\n",
    "\n",
    "# CFD approximation to k\n",
    "# <== k_num =\n",
    "\n",
    "# compare the numerical and analytic evaluation of k\n",
    "print(k_num, k)\n",
    "if np.isclose(k, k_num):\n",
    "    print(\" The numerical and analytical values for k agree to within +/- 0.0001 atomic units.\")\n"
   ]
  },
  {
   "cell_type": "markdown",
   "id": "83d28077",
   "metadata": {
    "id": "83d28077"
   },
   "source": [
    "Next we will evaluate the Harmonic, cubic, and quartic models for the interatomic potential and plot all against the Morse potential."
   ]
  },
  {
   "cell_type": "code",
   "execution_count": null,
   "id": "1d82af2c",
   "metadata": {
    "id": "1d82af2c",
    "outputId": "965fb51b-e015-4063-f3b3-e547e8573219"
   },
   "outputs": [],
   "source": [
    "# Harmonic potential\n",
    "V_H = 1/2 * k * (r -r_eq_au) ** 2\n",
    "\n",
    "# cubic\n",
    "V_C = V_H + 1/6 * g * (r - r_eq_au) ** 3\n",
    "\n",
    "# quartic\n",
    "V_Q = V_C + 1/24 * h * (r - r_eq_au) ** 4\n",
    "\n",
    "plt.plot(r, V_Morse, 'purple', label=\"Morse Potential\")\n",
    "plt.plot(r, V_H, 'r--', label=\"Harmonic Potential\")\n",
    "plt.plot(r, V_C, 'b--', label=\"Cubic Potential\")\n",
    "plt.plot(r, V_Q, 'g--', label=\"Quartic Potential\")\n",
    "plt.xlim(0.5 * r_eq_au, 2.5 * r_eq_au)\n",
    "plt.ylim(0, 1)\n",
    "plt.xlabel(\"Bondlength (Bohr radii)\")\n",
    "plt.ylabel(\"Energy (Hartrees)\")\n",
    "plt.legend()\n",
    "plt.show()"
   ]
  },
  {
   "cell_type": "markdown",
   "id": "77d0019a",
   "metadata": {
    "id": "77d0019a"
   },
   "source": [
    "### Compute $E_1$ and $E_2$ using Perturbation Theory\n",
    "We will need access to the zeroth-order states $\\psi_n^{(0)}(r)$ to compute the 1st and 2nd order energy corrections.\n",
    "The following helper functions will give us access to these states and will also perform the operations necessary to compute the perturbative corrections."
   ]
  },
  {
   "cell_type": "code",
   "execution_count": null,
   "id": "67da5a03",
   "metadata": {
    "id": "67da5a03"
   },
   "outputs": [],
   "source": [
    "def compute_alpha(k, mu, hbar):\n",
    "    \"\"\" Helper function to compute \\alpha = \\sqrt{k * \\omega / \\hbar}\n",
    "\n",
    "    Arguments\n",
    "    ---------\n",
    "    k : float\n",
    "        the Harmonic force constant\n",
    "\n",
    "    mu : float\n",
    "        the reduced mass\n",
    "\n",
    "    hbar : float\n",
    "        reduced planck's constant\n",
    "\n",
    "    Returns\n",
    "    -------\n",
    "    alpha : float\n",
    "        \\alpha = \\sqrt{k * \\omega / \\hbar}\n",
    "\n",
    "    \"\"\"\n",
    "    # compute omega\n",
    "    # <== omega =\n",
    "\n",
    "    # compute alpha\n",
    "    # <== alpha\n",
    "\n",
    "    # return alpha\n",
    "    return alpha\n",
    "\n",
    "def N(n, alpha):\n",
    "    \"\"\" Helper function to take the quantum number n of the Harmonic Oscillator and return the normalization constant\n",
    "\n",
    "    Arguments\n",
    "    ---------\n",
    "    n : int\n",
    "        the quantum state of the harmonic oscillator\n",
    "\n",
    "    Returns\n",
    "    -------\n",
    "    N_n : float\n",
    "        the normalization constant\n",
    "    \"\"\"\n",
    "\n",
    "    return  np.sqrt( 1 / (2 ** n * factorial(n)) ) * ( alpha / np.pi ) ** (1/4)\n",
    "\n",
    "def psi(n, alpha, r, r_eq):\n",
    "    \"\"\" Helper function to evaluate the Harmonic Oscillator energy eigenfunction for state n\n",
    "\n",
    "    Arguments\n",
    "    ---------\n",
    "    n : int\n",
    "        the quantum state of the harmonic oscillator\n",
    "\n",
    "    alpha : float\n",
    "        alpha value\n",
    "\n",
    "\n",
    "    r : float\n",
    "        position at which psi_n will be evaluated\n",
    "\n",
    "    r_eq : float\n",
    "        equilibrium bondlength\n",
    "\n",
    "    Returns\n",
    "    -------\n",
    "    psi_n : float\n",
    "        value of the harmonic oscillator energy eigenfunction\n",
    "\n",
    "    \"\"\"\n",
    "\n",
    "    Hr = hermite(n)\n",
    "\n",
    "    psi_n = N(n, alpha) * Hr( np.sqrt(alpha) * ( r - r_eq )) * np.exp( -0.5 * alpha  * (r - r_eq)**2)\n",
    "\n",
    "    return psi_n\n",
    "\n",
    "def harmonic_eigenvalue(n, k, mu, hbar):\n",
    "    \"\"\" Helper function to evaluate the energy eigenvalue of the harmonic oscillator for state n\"\"\"\n",
    "\n",
    "    return hbar * np.sqrt(k/mu) * (n + 1/2)\n",
    "\n",
    "def morse_eigenvalue(n, k, mu, De, hbar):\n",
    "    \"\"\" Helper function to evaluate the energy eigenvalue of the Morse oscillator for state n\"\"\"\n",
    "\n",
    "    omega = np.sqrt( k / mu )\n",
    "    xi = hbar * omega / (4 * De)\n",
    "\n",
    "    return hbar * omega * ( (n + 1/2) - xi * (n + 1/2) ** 2)\n",
    "\n",
    "def potential_matrix_element(n, m, alpha, r, r_eq, V_p):\n",
    "    \"\"\" Helper function to compute <n|V_p|m> where V_p is the perturbing potential\n",
    "\n",
    "    Arguments\n",
    "    ---------\n",
    "    n : int\n",
    "        quantum number of the bra state\n",
    "\n",
    "    m : int\n",
    "        quantum number of the ket state\n",
    "\n",
    "    alpha : float\n",
    "        alpha constant for bra/ket states\n",
    "\n",
    "    r : float\n",
    "        position grid for bra/ket states\n",
    "\n",
    "    r_eq : float\n",
    "        equilibrium bondlength for bra/ket states\n",
    "\n",
    "    V_p : float\n",
    "        potential array\n",
    "\n",
    "    Returns\n",
    "    -------\n",
    "    V_nm : float\n",
    "        <n | V_p | m >\n",
    "\n",
    "    \"\"\"\n",
    "    # bra\n",
    "    psi_n = psi(n, alpha, r, r_eq)\n",
    "\n",
    "    # ket\n",
    "    psi_m = psi(m, alpha, r, r_eq)\n",
    "\n",
    "    # integrand\n",
    "    integrand = np.conj(psi_n) * V_p * psi_m\n",
    "\n",
    "    # integrate\n",
    "    V_nm = np.trapz(integrand, r)\n",
    "\n",
    "    return V_nm"
   ]
  },
  {
   "cell_type": "markdown",
   "id": "3200b113",
   "metadata": {
    "id": "3200b113"
   },
   "source": [
    "# Test out the eigenfunctions\n",
    "Here we will plot $\\psi_0^{(0)}$ against the Harmonic potential and will also test to make sure it is properly normalized."
   ]
  },
  {
   "cell_type": "code",
   "execution_count": null,
   "id": "3a6cf336",
   "metadata": {
    "id": "3a6cf336",
    "outputId": "9f62ad43-2bad-4fc1-c31c-cc4928d70e63"
   },
   "outputs": [],
   "source": [
    "# compute alpha\n",
    "alpha = compute_alpha(k, mu_au, hbar_au)\n",
    "\n",
    "# compute psi_0 along the r grid\n",
    "psi_0 =psi(0, alpha, r, r_eq_au)\n",
    "\n",
    "# is it normalized?\n",
    "Integral = trapz(psi_0 ** 2, r)\n",
    "\n",
    "assert np.isclose(Integral, 1.0)\n",
    "\n",
    "\n",
    "# Harmonic potential\n",
    "plt.plot(r, psi_0, label='$\\psi_0$')\n",
    "plt.plot(r, V_H, 'r--', label=\"Harmonic Potential\")\n",
    "plt.xlim(0, 2 * r_eq_au)\n",
    "plt.legend()\n",
    "plt.show()"
   ]
  },
  {
   "cell_type": "markdown",
   "id": "f48a7225",
   "metadata": {
    "id": "f48a7225"
   },
   "source": [
    "# Compute the fundamental transition energies\n",
    "Now we will compute the fundamental transition energies at all levels of theory and plot the results in both atomic units and in wavenumbers."
   ]
  },
  {
   "cell_type": "code",
   "execution_count": null,
   "id": "979f7abd",
   "metadata": {
    "id": "979f7abd",
    "outputId": "a271466f-ec39-4539-b5dd-ccd33b97cdc3"
   },
   "outputs": [],
   "source": [
    "# fundamental transition energy at HO level\n",
    "fundamental_HO = harmonic_eigenvalue(1, k, mu_au, hbar_au) - harmonic_eigenvalue(0, k, mu_au, hbar_au)\n",
    "\n",
    "# fundamental transition energy at Morse level\n",
    "fundamental_Morse = morse_eigenvalue(1, k, mu_au, De_au, hbar_au) - morse_eigenvalue(0, k, mu_au, De_au, hbar_au)\n",
    "\n",
    "# 1st order correction using the cubic potential\n",
    "pt1_cubic = potential_matrix_element(0, 0, alpha, r, r_eq_au, (V_C - V_H))\n",
    "\n",
    "# 1st order correction using the quartic potential\n",
    "pt1_quartic = potential_matrix_element(0, 0, alpha, r, r_eq_au, (V_Q - V_H))\n",
    "\n",
    "# 2nd order corrections using cubic and quartic potentials\n",
    "pt2_cubic = 0\n",
    "pt2_quartic = 0\n",
    "\n",
    "# sum over |<j|V'|n>|^2/(Ej-En)\n",
    "for j in range(1, 50):\n",
    "    E_j = harmonic_eigenvalue(j, k, mu_au, hbar_au)\n",
    "    Vc_j0 = potential_matrix_element(j, 0, alpha, r, r_eq_au, (V_C - V_H))\n",
    "    pt2_cubic += Vc_j0 ** 2 / (fundamental_HO - E_j)\n",
    "    Vq_j0 = potential_matrix_element(j, 0, alpha, r, r_eq_au, (V_Q - V_H))\n",
    "    pt2_quartic += Vq_j0 ** 2 / (fundamental_HO - E_j)\n",
    "\n"
   ]
  },
  {
   "cell_type": "code",
   "execution_count": null,
   "id": "869e407a",
   "metadata": {
    "id": "869e407a",
    "outputId": "a878b99e-07a2-4ec0-d02f-e61e23a24c5c"
   },
   "outputs": [],
   "source": [
    "import matplotlib.pyplot as plt\n",
    "\n",
    "cubic_fo = fundamental_HO + pt1_cubic\n",
    "quartic_fo = fundamental_HO + pt1_quartic\n",
    "\n",
    "cubic_so = cubic_fo + pt2_cubic\n",
    "quartic_so = quartic_fo + pt2_quartic\n",
    "\n",
    "au_to_wn = 219474.63068\n",
    "\n",
    "morse_plot = np.array([fundamental_Morse * au_to_wn, 1.0])\n",
    "HO_plot = np.array([fundamental_HO * au_to_wn, 1.0])\n",
    "cubic_so_plot = np.array([cubic_so * au_to_wn, 1.0])\n",
    "quartic_so_plot = np.array([quartic_so * au_to_wn, 1.0])\n",
    "\n",
    "\n",
    "\n",
    "\n",
    "\n",
    "\n",
    "plt.stem(morse_plot[0], morse_plot[1], \"black\", label=\"Morse\")\n",
    "plt.stem(HO_plot[0], HO_plot[1], \"blue\", label=\"Harmonic\")\n",
    "plt.stem(cubic_so_plot[0], cubic_so_plot[1], \"red\", label=\"Cubic - PT2\")\n",
    "plt.stem(quartic_so_plot[0], quartic_so_plot[1], \"green\", label=\"Quartic - PT2\")\n",
    "plt.xlim(2400, 2500)\n",
    "plt.ylim(0, 1)\n",
    "plt.xlabel(\"Transition Energy (cm$^{-1}$)\")\n",
    "plt.legend()\n",
    "plt.show()\n"
   ]
  },
  {
   "cell_type": "markdown",
   "id": "2a9f7e3a",
   "metadata": {
    "id": "2a9f7e3a"
   },
   "source": [
    "Create and fit Morse potential in atomic units"
   ]
  },
  {
   "cell_type": "markdown",
   "id": "d94a598f",
   "metadata": {
    "id": "d94a598f"
   },
   "source": [
    "Now plot the potential and compute some eigenvalues"
   ]
  },
  {
   "cell_type": "code",
   "execution_count": null,
   "id": "f1272941-1ba3-4aeb-93a6-6e072ae8dd58",
   "metadata": {},
   "outputs": [],
   "source": [
    "import psi4 \n",
    "mol_tmpl = \"\"\"\n",
    "C\n",
    "O 1 **R**\n",
    "symmetry c2v\n",
    "\"\"\"\n",
    "\n",
    "r_angstrom = np.array([0.6, 0.7, 0.8, 0.9, 1.0, 1.1, 1.2, 1.3, 1.4, 1.5, 1.6, 1.7, 1.8, 1.9, 2.0, 2.1])\n",
    "options_dict = {\n",
    "    \"basis\": \"cc-pVTZ\",\n",
    "    \"e_convergence\": 1e-10,\n",
    "    \"d_convergence\": 1e-10,\n",
    "}\n",
    "\n",
    "psi4.set_options(options_dict)\n",
    "#mol = psi4.geometry(mol_tmpl)\n",
    "\n",
    "#ccsdt_e = psi4.energy('ccsd')\n",
    "\n",
    "ccsdt_energy = []\n",
    "\n",
    "for r_val in r_angstrom:\n",
    "    mol_str = mol_tmpl.replace(\"**R**\", str(r_val))\n",
    "    mol = psi4.geometry(mol_str)\n",
    "    ccsdt_e = psi4.energy('ccsd')\n",
    "    ccsdt_energy.append(ccsdt_e)\n"
   ]
  },
  {
   "cell_type": "code",
   "execution_count": null,
   "id": "a8e9a1f5-6384-4f5c-845f-be313b06481d",
   "metadata": {},
   "outputs": [],
   "source": [
    "V_min_ccsdt = np.min(ccsdt_energy)\n",
    "print(V_min_ccsdt)"
   ]
  },
  {
   "cell_type": "code",
   "execution_count": null,
   "id": "5194ba51-c1cd-46f6-b335-0c8f25a7b2b6",
   "metadata": {},
   "outputs": [],
   "source": [
    "plt.plot(r, V_Morse, 'purple', label=\"Morse Potential\")\n",
    "plt.plot(r_angstrom / au_to_ang, ccsdt_energy-V_min_ccsdt, 'ro', label=\"CCSD(T)/cc-pVTZ\")\n",
    "#plt.plot(r, V_H, 'r--', label=\"Harmonic Potential\")\n",
    "#plt.plot(r, V_C, 'b--', label=\"Cubic Potential\")\n",
    "#plt.plot(r, V_Q, 'g--', label=\"Quartic Potential\")\n",
    "plt.xlim(0.5 * r_eq_au, 2.5 * r_eq_au)\n",
    "plt.ylim(0, 1)\n",
    "plt.xlabel(\"Bondlength (Bohr radii)\")\n",
    "plt.ylabel(\"Energy (Hartrees)\")\n",
    "plt.legend()\n",
    "plt.show()"
   ]
  },
  {
   "cell_type": "markdown",
   "id": "99615f64-7964-4cf3-a328-e024ffac5405",
   "metadata": {},
   "source": [
    "# Assignment\n",
    "1. Locate the equilibrium bondlength at the CCSD/cc-pVTZ level and report it in Angstroms and Bohr units.  Report the error and percentage error compared to the $R_{eq}$ used in the Morse potential.\n",
    "\n",
    "2. Utilize second-order schemes for [finite differences](https://www.mech.kth.se/~ardeshir/courses/literature/fd.pdf) to approximate $k$, $g$, and $h$ at the CCSD/cc-pVTZ level and report these in atomic units.  **Hint** Make sure your displacements are in atomic units!  Report the error and percentage error compared to these values that were derived from the Morse potential.\n",
    "\n",
    "3. Build a quartic potential model for CO using coefficients $k$, $g$, and $h$ derived from the previous step.  Plot the Harmonic, Cubic, Quartic components along with the raw CCSD/cc-pVTZ data and the original Morse potential.\n",
    "\n",
    "4. Compute the fundamental transition energy from CO using the quartic potential and 2nd-order perturbation theory.  Make a table that includes the fundamental computed using this approximation, the fundamental from the Morse model, and the experimental value for the CO fundamental.  Include a column for the percentage error of both approximations relative to the experimental value."
   ]
  },
  {
   "cell_type": "markdown",
   "id": "ece3666d-6520-4c47-bd6f-d1a5235ce799",
   "metadata": {},
   "source": [
    "# Minimal coupling Hamiltonian\n",
    "\n",
    "We will build a matrix for the ``${\\bf p} \\cdot {\\bf A}$'' Hamiltonian for CO coupled to a cavity mode in the basis of the vibrational states $|0\\rangle$ and $|1\\rangle$ and photon states $|0\\rangle$ and $|1\\rangle$.\n",
    "\n",
    "We can write the Hamiltonian as \n",
    "\n",
    "$$ \\hat{H} = \\frac{1}{2m} \\hat{p}^2  + \\frac{1}{2} m \\omega^2 \\hat{x}^2 + \\hbar \\omega_p \\left(\\hat{b}^{\\dagger} \\hat{b} + \\frac{1}{2} \\right) +  \\frac{z^2}{2m} \\hat{A}^2 - \\frac{z}{m} \\hat{p} \\hat{A}.$$\n",
    "\n",
    "Recall $\\hat{A} = \\sqrt{ \\frac{\\hbar}{2 \\omega_p \\epsilon_0 L^3} } \\left( \\hat{b}^{\\dagger} + \\hat{b} \\right)$.\n",
    "The first two terms is the matter Harmonic oscillator Hamiltonian, $\\hat{H}_m$, the third terms is the photonic Harmonic oscillator Hamiltonian $\\hat{H}_p$, the fourth term is sometimes called the diamagnetic term $\\hat{H}_d$, and the final term is the coupling term, \n",
    "$\\hat{H}_c$.\n",
    "\n",
    "\n",
    "\n",
    "Let's consider matrix elements of each of the terms with respect to an arbitrary composite bra state $\\langle P_m | \\langle Q_p|$\n",
    "and ket state $| R_m \\rangle | S_p \\rangle$\n",
    "\n",
    "\\begin{align} \n",
    "& \\langle P_m | \\langle Q_p | \\hat{H}_m | R_m \\rangle | S_p \\rangle \\\\\n",
    "&= \\langle Q_p |  S_p \\rangle \\langle P_m |  \\hat{H}_m | R_m \\rangle \\\\\n",
    "&= E_m \\langle P_m | R_m \\rangle \\langle Q_p |  S_p \\rangle \\\\\n",
    "&= E_m \\delta_{PR} \\delta_{QS}\n",
    "\\end{align}\n",
    "\n",
    "\n",
    "\\begin{align} \n",
    "& \\langle P_m | \\langle Q_p | \\hat{H}_p | R_m \\rangle | S_p \\rangle \\\\\n",
    "&= \\langle P_m |  R_m \\rangle \\langle Q_m |  \\hat{H}_p | S_p \\rangle \\\\\n",
    "&= E_p \\langle P_m | R_m \\rangle \\langle Q_p |  S_p \\rangle \\\\\n",
    "&= E_p \\delta_{PR} \\delta_{QS}\n",
    "\\end{align}\n",
    "\n",
    "To consider the diagmatic term, lets consider the product of operator strings \n",
    "\\begin{align}\n",
    "& \\left(\\hat{b}^{\\dagger} + \\hat{b} \\right) \\left( \\hat{b}^{\\dagger} + \\hat{b}\\right) \\\\\n",
    "&= \\hat{b}^{\\dagger} \\hat{b}^{\\dagger} + \\hat{b}^{\\dagger} \\hat{b} + \\hat{b} \\hat{b}^{\\dagger} + \\hat{b} \\hat{b}\n",
    "\\end{align}\n",
    "\n",
    "\n",
    "\\begin{align} \n",
    "& \\langle P_m | \\langle Q_p | \\hat{H}_d | R_m \\rangle | S_p \\rangle \\\\\n",
    "&= \\langle P_m |  R_m \\rangle \\langle Q_m |  \\hat{H}_d | S_p \\rangle \\\\\n",
    "&= E_p \\langle P_m | R_m \\rangle \\langle Q_p |  S_p \\rangle \\\\\n",
    "&= E_p \\delta_{PR} \\delta_{QS}\n",
    "\\end{align}"
   ]
  },
  {
   "cell_type": "code",
   "execution_count": null,
   "id": "56ecf4a0-2ed3-4be0-8780-a0fc460ba690",
   "metadata": {},
   "outputs": [],
   "source": []
  }
 ],
 "metadata": {
  "colab": {
   "provenance": [
    {
     "file_id": "https://github.com/ESCIP/escip.github.io/blob/jbook/notebooks/CO_Fundamental.ipynb",
     "timestamp": 1704237181480
    }
   ]
  },
  "kernelspec": {
   "display_name": "Python 3 (ipykernel)",
   "language": "python",
   "name": "python3"
  },
  "language_info": {
   "codemirror_mode": {
    "name": "ipython",
    "version": 3
   },
   "file_extension": ".py",
   "mimetype": "text/x-python",
   "name": "python",
   "nbconvert_exporter": "python",
   "pygments_lexer": "ipython3",
   "version": "3.12.0"
  }
 },
 "nbformat": 4,
 "nbformat_minor": 5
}
