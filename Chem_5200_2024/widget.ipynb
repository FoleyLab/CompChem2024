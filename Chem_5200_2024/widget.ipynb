{
 "cells": [
  {
   "cell_type": "markdown",
   "id": "40897861",
   "metadata": {},
   "source": [
    "**Step 3: Build a Widget that scans through polaritonic potential energy surfaces as a function of coupling strength $ g$**\n",
    "\n",
    "We will build a widget that will provide you with an interactive plot of the polaritonic potential energy surfaces as a function of $g$.  This will help us to vizualize the way that the fundamental coupling strength impacts the \n",
    "shapes of the polaritonic potential surface, and can also help us to estimate a quantitative relationship\n",
    "between the coupling strength $g = {\\bf A} \\cdot \\mu$ and the so-called Rabi splitting that occurs between \n",
    "the surfaces at a particular value of the bondlength $R_{deg}$, where we define $R_{deg}$ as the bondlength \n",
    "at which the following is satisfied for a particular value of the photon energy $\\omega_0$:\n",
    "\n",
    "$$ E_g(R_{deg}) + \\hbar \\omega_0 = E_e(R_{deg}) \\tag{5}$$.\n",
    "\n",
    "If we set $\\omega_0$ to be equal to the transition energy at $R = 2.5$ Angstroms as before, then we have \n",
    "$R_{deg} = 2.5$ Angstroms by definition. As we worked out in an earlier cell, this value of $\\omega_0$ would\n",
    "correspond to approximately $0.1487$ atomic units or $4.048$ eV.  We will use this value for $\\omega$ for the rest of this notebook.\n",
    "\n",
    "We already have a function that will build the Rabi Hamiltonian as a function of the fundamental coupling strength, the photon energy, and the bondlength value.  The next step is to build a function that can be called by the widget to return the lower- and upper-poloriton potential energy surfaces ($E_{LP}(R)$ and $E_{UP}(R)$) by diagonalizing this Hamiltonian and returning the 2nd and 3rd eigenvalues, respectively.  We will use the `eigh` function of numpy's linear algebra package (given the alias `LA` in our import statement at the top of the notebook) to diagonalize the Hamiltonian and store the eigenvalues.  The syntax follows:\n",
    "\n",
    "`vals, vecs = LA.eigh(matrix)`\n",
    "\n",
    "where `vals` are the eigenvalues, `vecs` are the eigenvectors, and `matrix` is the Hermitian matrix.\n",
    "\n",
    "The following function `polariton_surfaces` will compute and return $E_{LP}(R)$ and $E_{UP}(R)$ in this way."
   ]
  },
  {
   "cell_type": "code",
   "execution_count": null,
   "id": "e0cac34a",
   "metadata": {},
   "outputs": [],
   "source": [
    "%matplotlib widget\n",
    "import ipympl\n",
    "import ipywidgets as widgets\n",
    "import matplotlib.pyplot as plt\n",
    "import numpy as np\n",
    "from IPython.display import display\n",
    "from scipy.interpolate import InterpolatedUnivariateSpline\n",
    "from numpy import linalg as LA\n"
   ]
  },
  {
   "cell_type": "code",
   "execution_count": null,
   "id": "a4728e1c",
   "metadata": {},
   "outputs": [],
   "source": [
    "# Create a slider widget and a widget to hold the plot.\n",
    "slider = widgets.FloatSlider(description = r'$g$',\n",
    "                            value = 0,\n",
    "                            min = 0,\n",
    "                            max = 5,  \n",
    "                            step = 1)\n",
    "# We can use HTML styles to control the appearance of the widget.\n",
    "plot_widget = widgets.Output(layout = {'width':'100%', 'border': '1px solid black'})"
   ]
  },
  {
   "cell_type": "code",
   "execution_count": null,
   "id": "9f9d1be3",
   "metadata": {},
   "outputs": [],
   "source": [
    "# function to return upper-polariton surface\n",
    "def lp(amplitude, omega, r_val, g_spline, e_spline, tdm_spline):\n",
    "    H = np.zeros((3,3))\n",
    "    lp_vals = np.zeros_like(r_val)\n",
    "    for i in range(0, len(r_val)):\n",
    "        H[0,0] = g_spline(r_val[i])\n",
    "        H[1,1] = g_spline(r_val[i]) + omega\n",
    "        H[1,2] = amplitude * tdm_spline(r_val[i])\n",
    "        H[2,1] = amplitude * tdm_spline(r_val[i])\n",
    "        H[2,2] = e_spline(r_val[i])\n",
    "        vals, vecs = LA.eigh(H)\n",
    "        lp_vals[i] = vals[1]\n",
    "        \n",
    "    return lp_vals\n",
    "\n",
    "\n",
    "# function to return lower-polariton surface\n",
    "def up(amplitude, omega, r_val, g_spline, e_spline, tdm_spline):\n",
    "    H = np.zeros((3,3))\n",
    "    up_vals = np.zeros_like(r_val)\n",
    "    for i in range(0, len(r_val)):\n",
    "        H[0,0] = g_spline(r_val[i])\n",
    "        H[1,1] = g_spline(r_val[i]) + omega\n",
    "        H[1,2] = amplitude * tdm_spline(r_val[i])\n",
    "        H[2,1] = amplitude * tdm_spline(r_val[i])\n",
    "        H[2,2] = e_spline(r_val[i])\n",
    "        vals, vecs = LA.eigh(H)\n",
    "        up_vals[i] = vals[2]\n",
    "        \n",
    "    return up_vals\n",
    "\n",
    "# bondlength grid\n",
    "rs = np.array([1.3, 1.42, 1.54, \n",
    "               1.6600000000000001, 1.78, 1.9, \n",
    "               2.02, 2.14, 2.26, 2.38, 2.5, \n",
    "               2.62, 2.74, 2.8600000000000003, \n",
    "               2.98, 3.0999999999999996, 3.2199999999999998, \n",
    "               3.34, 3.46, 3.58])\n",
    "\n",
    "# ground-state energy array from TDDFT\n",
    "Eg = np.array([-200.34317863, -200.36733437, -200.3788335,  -200.38211913, -200.38005015,\n",
    " -200.37454644, -200.36693436, -200.35813969, -200.34880828, -200.33938762,\n",
    " -200.33018284, -200.32139619, -200.3131552,  -200.30553287, -200.29856231,\n",
    " -200.29224756, -200.28657217, -200.2815057,  -200.27700922, -200.27303916])\n",
    "\n",
    "# excited-state energy array from TDDFT\n",
    "Ee = np.array([-200.11946659, -200.15343212, -200.17455494, -200.18699014, -200.19340378,\n",
    " -200.19564856, -200.19506567, -200.19266834, -200.18922925, -200.18533058,\n",
    " -200.18141088, -200.17778616, -200.17467719, -200.17223017, -200.17053044,\n",
    " -200.16961006, -200.16945866, -200.17002824, -200.17124271, -200.17300921])\n",
    "\n",
    "# transition dipole moment array from TDDFT\n",
    "mu = np.array([1.41026992, 1.46500868, 1.53226812, 1.60873137, 1.69113032, 1.77658259,\n",
    " 1.86280274, 1.9479899,  2.03067753, 2.10965627, 2.18375603, 2.25178818,\n",
    " 2.31244456, 2.36432877, 2.40606639, 2.43656128, 2.45526201, 2.46232396,\n",
    " 2.45859393, 2.44546058])\n",
    "\n",
    "# fit splines\n",
    "Eg_spline = InterpolatedUnivariateSpline(rs, Eg, k=3)\n",
    "Ee_spline = InterpolatedUnivariateSpline(rs, Ee, k=3)\n",
    "mu_spline = InterpolatedUnivariateSpline(rs, mu, k=3)\n",
    "\n",
    "# photon frequency\n",
    "om = 4.048 / 27.211\n"
   ]
  },
  {
   "cell_type": "code",
   "execution_count": null,
   "id": "67a3f2cc",
   "metadata": {},
   "outputs": [],
   "source": [
    "\n",
    "# Turn off interactive mode before creating the \n",
    "# plot so it doesn't display too early.\n",
    "plt.ioff() # Turn off interactive mode\n",
    "fig, ax = plt.subplots(constrained_layout = True, figsize=[5,4]);\n",
    "plt.ion() # Turn on interactive mode\n",
    "line1, = ax.plot(rs, lp(0.00, om, rs, Eg_spline, Ee_spline, mu_spline));\n",
    "line2, = ax.plot(rs, up(0.00, om, rs, Eg_spline, Ee_spline, mu_spline));\n",
    "ax.set_ylabel(r'$E(R)$')\n",
    "ax.set_xlabel(r'$R$')\n",
    "ax.grid(True)\n",
    "\n",
    "# force the figure to display in the plot_widget\n",
    "with plot_widget:\n",
    "    display(fig.canvas)\n"
   ]
  },
  {
   "cell_type": "code",
   "execution_count": null,
   "id": "1922e27c",
   "metadata": {},
   "outputs": [],
   "source": [
    "# Create a function to re-draw the plot using the value of the slider. It is \n",
    "# faster to change the y-data but you can erase the plot and draw a new one.\n",
    "def update(value):\n",
    "    '''We can use `slider.value` or `value.new` to get the new slider value.'''\n",
    "    with plot_widget:\n",
    "        line1.set_ydata(lp(slider.value*0.001, om, rs, Eg_spline, Ee_spline, mu_spline))\n",
    "        line2.set_ydata(up(slider.value*0.001, om, rs, Eg_spline, Ee_spline, mu_spline))\n",
    "        fig.canvas.draw()\n",
    "\n",
    "# Set an observer to call `update` whenever the value changes.\n",
    "slider.observe(update)"
   ]
  },
  {
   "cell_type": "markdown",
   "id": "a272dbee",
   "metadata": {},
   "source": [
    "Use the slider below to change the coupling strength, $g$."
   ]
  },
  {
   "cell_type": "code",
   "execution_count": null,
   "id": "09d8deca",
   "metadata": {
    "tags": []
   },
   "outputs": [],
   "source": [
    "widgets.VBox([plot_widget, slider])"
   ]
  },
  {
   "cell_type": "markdown",
   "id": "e0186204",
   "metadata": {},
   "source": [
    "**Question 6**  We can define the Rabi splitting as the difference between the upper- and lower-polariton surfaces\n",
    "right at $R = R_{deg}$:\n",
    "\n",
    "$$ E_{RS} = E_{UP}(R_{deg}) - E_{LP}(R_{deg})\\tag{6}. $$\n",
    "\n",
    "Use the slider to estimate the different values of $E_{RS}$ as a function of $g$ and fill in \n",
    "the value in the table below.  *Note:* The $A$ value displayed by the widget is scaled by $10^{-3}$ atomic units before computing the potential energy surfaces. \n",
    "\n",
    "| $g$  | $E_{UP}$ |$E_{LP}$ | $E_{RS}$ |\n",
    "| :- | :- |:- |:-: |\n",
    "| 0 | -200.1810 |-200.1810 |0|\n",
    "| 1 | -200.1785 |-200.1832|0.0046 |\n",
    "| 2 | - |- |- |\n",
    "| 3 | - |-|- |\n",
    "| 4 | - |-| - |\n",
    "| 5 |- |-| - |\n",
    "\n",
    "    \n",
    "**Question 7** Create a plot of $E_{RS}$ vs $g$.  Do you think the relationship is linear, quadratic, cubic, or a higher-order polynomial?  Justify your answer in a few sentences."
   ]
  },
  {
   "cell_type": "code",
   "execution_count": null,
   "id": "045db082",
   "metadata": {},
   "outputs": [],
   "source": [
    " "
   ]
  }
 ],
 "metadata": {
  "kernelspec": {
   "display_name": "Python 3 (ipykernel)",
   "language": "python",
   "name": "python3"
  },
  "language_info": {
   "codemirror_mode": {
    "name": "ipython",
    "version": 3
   },
   "file_extension": ".py",
   "mimetype": "text/x-python",
   "name": "python",
   "nbconvert_exporter": "python",
   "pygments_lexer": "ipython3",
   "version": "3.9.13"
  },
  "toc-autonumbering": true,
  "toc-showcode": true,
  "toc-showmarkdowntxt": true
 },
 "nbformat": 4,
 "nbformat_minor": 5
}
