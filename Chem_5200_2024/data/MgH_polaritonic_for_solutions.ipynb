{
 "cells": [
  {
   "cell_type": "code",
   "execution_count": 1,
   "metadata": {},
   "outputs": [],
   "source": [
    "\"\"\"MgH+ Polaritonic Potential Energy Surfaces\"\"\"\n",
    "\n",
    "__authors__ = [\"Ruby Manderna, Lane Tolley, Figen Suchanek, Jonathan J. Foley, \"]\n",
    "__email__   = [\"rmandern@uncc.edu, ptolley1@uncc.edu, suchanekf@wpunj.edu, jfoley19@uncc.edu, \"]\n",
    "__credits__ = [\"Ruby Manderna, Lane Tolley, Figen Suchanek, Jonathan J. Foley\"]\n",
    "__copyright__ = \"(c) 2008-2020, The Psi4Education Developers\"\n",
    "__license__   = \"BSD-3-Clause\"\n",
    "__date__      = \"2021-02-11\"\n",
    "\n",
    "\n",
    "### Import libraries to be used throughout\n",
    "# basic psi4 library\n",
    "import psi4\n",
    "# pyplot\n",
    "from matplotlib import pyplot as plt\n",
    "# numpy\n",
    "import numpy as np\n",
    "# scipy\n",
    "from scipy.interpolate import InterpolatedUnivariateSpline\n",
    "# linear algebra package from numpy\n",
    "from numpy import linalg as LA\n",
    "# time-dependent scf library from psi4 for computing excited states and transition dipole moments\n",
    "from psi4.driver.procrouting.response.scf_response import tdscf_excitations\n",
    "#from matplotlib import pyplot as plt\n",
    "\n",
    "\n",
    "_expected_lambda = 309.9604960590\n",
    "_expected_V = 853.9819621540001\n",
    "_expected_Eg_val = -200.33018284449852\n",
    "_expected_Ee_val = -200.18141088127473\n",
    "_expected_tdm_val = 2.1837588170011095\n",
    "_expected_deltaE_eV = 4.04823389128266\n",
    "\n",
    "_expected_H_Rabi = np.array([[-2.00330183e+02,  0.00000000e+00,  0.00000000e+00],\n",
    "                            [ 0.00000000e+00, -2.00181411e+02,  6.55127645e-03],\n",
    "                            [ 0.00000000e+00,  6.55127645e-03, -2.00181411e+02]])\n",
    "\n",
    "\n",
    "\n",
    "\n",
    "n_geoms = 25\n",
    "_expected_rs = []\n",
    "for i in range(0,n_geoms):\n",
    "    _expected_rs.append(1.1 + i*0.1)\n",
    "    \n",
    "_expected_Eg_array = np.array([-200.25367486, -200.30835506, -200.34317863, -200.36433935, -200.37609145,\n",
    " -200.38129671, -200.38191454, -200.37932951, -200.37454644, -200.36830617,\n",
    " -200.36115804, -200.35350922, -200.34566042, -200.33783194, -200.33018284,\n",
    " -200.32282542, -200.31583611, -200.30926385, -200.30313622, -200.29746454,\n",
    " -200.29224756, -200.28747484, -200.28312913, -200.27918888, -200.27562959])\n",
    "\n",
    "_expected_Ee_array = np.array([-200.01466921, -200.07666894, -200.11946658, -200.14880628, -200.16864693,\n",
    " -200.18166725, -200.18969265, -200.19402683, -200.19564857, -200.19531169,\n",
    " -200.19361608, -200.19103812, -200.18795606, -200.18466878, -200.18141086,\n",
    " -200.17835946, -200.1756464,  -200.17336483, -200.17157804, -200.17032261,\n",
    " -200.16961004, -200.16943208, -200.16976269, -200.17056035, -200.17177513])\n",
    "\n",
    "_expected_tdm_array = np.array([1.35621453, 1.3765366,  1.41027036, 1.45492843, 1.50865744, 1.56955814,\n",
    " 1.63570115, 1.70523104, 1.7765825,  1.84846023, 1.91980311, 1.98972481,\n",
    " 2.05748777, 2.12237872, 2.18375882, 2.24092718, 2.29313572, 2.33957417,\n",
    " 2.37942975, 2.41195173, 2.43656045, 2.45296981, 2.46122806, 2.46173081,\n",
    " 2.45518776])\n",
    "\n",
    "psi4.core.set_output_file('output.dat', False)"
   ]
  },
  {
   "cell_type": "markdown",
   "metadata": {},
   "source": [
    "## Polaritonic chemistry for a simple diatomic molecule strongly interacting with light\n",
    "\n",
    "#### Learning Objectives\n",
    "\n",
    "- Students will be able to define a molecular polariton\n",
    "\n",
    "- Students will be able to explain how forming molecular polaritons can modify chemical structure and reactivity\n",
    "\n",
    "- Students will be able to use quantum chemistry calculations to parameterize a Rabi model Hamiltonian for a molecular polariton\n",
    "\n",
    "- Students will be able to construct polaritonic potential energy surfaces using the Rabi model\n",
    "\n",
    "- Students will be able to estimate a qualitative relationship between the coupling strength and splitting between polaritonic potential energy surfaces\n",
    "\n",
    "#### Supplementary learning objective\n",
    "\n",
    "- Students will be able to apply the rules of 2nd quantized operators to derive the Rabi Hamiltonian matrix\n",
    "\n",
    "#### Background\n",
    "Nanostructured materials can be designed to strongly confine light down to nanoscale dimensions, which \n",
    "greatly enhances the energy density of light and increases its interaction with molecular excitations.\n",
    "When molecules through their excitations *strongly* interact with light, new quantum states, called polariton states, emerge that have\n",
    "properties of light and of matter.  \n",
    "\n",
    "Consider the image below that shows the MgH+ molecule strongly \n",
    "interacting with a nanoconfined photon trapped between two parallel mirrors (aka a cavity). This cavity \n",
    "confines a photon with electric field $\\vec{E}$ aligned with the transition dipole moment $\\vec{\\mu}_{i\\rightarrow f}$  connecting the ground to first singlet excited state of MgH+.  When the energy of the trapped photon ($\\hbar \\omega$) matches this excitation energy in a particular region of the MgH+ potential energy surface, energy can be \n",
    "rapidly exchanged between the molecular excitation and the cavity.  We can think of this exchange as cylcing between  the molecule absorbing the trapped photon and becoming excited, and relaxing back to the ground-state and emitting the a photon which becomes trapped in the cavity.  When this cycling is rapid, as is the case when the interaction \n",
    "is strong, the cycling of energy makes it impossible to distinguish between the quantum state of the excited molecule and the quantum state of the photon localized in the cavity.  Rather, we think of this situation as a hybrid state that is part light part matter, and we call this state a polariton.  One fascinating feature of molecular polaritons\n",
    "is that their potential energy surfaces may be dramatically different than the potential energy surfaces of their\n",
    "molecular constituents.  Consequently, new and different chemical reactivity may be realized by putting molecules in cavities!  This notebook will explore the reshaping of the potential energy surfaces of the simple diatomic\n",
    "MgH+ by placing it in a cavity.\n",
    "\n",
    "<img src=\"data/MgH_polariton.png\" width=300 height=300 />\n",
    " \n",
    "\n",
    "\n",
    "\n",
    "##### What is a molecular polariton?\n",
    "\n",
    "A *molecular polariton* can be understood as quantum state that mixes the quantum states of a photon and the quantum states of a molecule.  The two criteria for forming a molecular polariton are that\n",
    "\n",
    "1. The photon energy should match the transition energy between molecular quantum states\n",
    "\n",
    "2. The energy scale of the interaction between the photon and the molecular transition should be large compared to dissipation energy scales in the individual molecular and photonic systems\n",
    "\n",
    "\n"
   ]
  },
  {
   "cell_type": "markdown",
   "metadata": {},
   "source": [
    "**Question 1** Let's consider the first criteria for electronic transitions in the MgH+ system.  The the relevant electronic transition (ground to first singlet excited state) energy is on the order of 4 eV.  What photon wavelength can be used to form a molecular polariton with this electronic transition assuming a transition energy of 4 eV?\n",
    "\n",
    "*Answer goes here!* \n",
    "\n",
    "*Hint:* $ E = \\hbar \\omega $ and $ \\lambda_p = \\frac{2\\pi c}{\\omega} $ and for the conversion between atomic units of length and nanometers, $1 \\; {\\rm nm} = 18.8972 \\: {\\rm a.u.}$."
   ]
  },
  {
   "cell_type": "code",
   "execution_count": 2,
   "metadata": {},
   "outputs": [
    {
     "name": "stdout",
     "output_type": "stream",
     "text": [
      "The photon wavelength is 309.960 nm\n"
     ]
    }
   ],
   "source": [
    "transition_energy = 4.0 # g -> e transition energy in eV\n",
    "\n",
    "hbar_eV_s = 6.582119569e-16 # -> hbar in eV * s\n",
    "\n",
    "c_SI = 299792458 # -> speed of light in m / s\n",
    "\n",
    "m_to_nm = 1e9 # -> conversion between meters and nanometers\n",
    "\n",
    "# ==> Write code to compute wavelength in meters here <==\n",
    "lambda_m = hbar_eV_s * 2 * np.pi * c_SI / transition_energy\n",
    "\n",
    "# ==> Write code to convert wavelength from meters to nanometers here... store in variable lambda_nm <==\n",
    "lambda_nm = lambda_m * m_to_nm\n",
    "\n",
    "print(f'The photon wavelength is {lambda_nm:.3f} nm')"
   ]
  },
  {
   "cell_type": "markdown",
   "metadata": {},
   "source": [
    "Let's consider the second criteria that the interaction energy scale must be large compared to the dissipation energy scales of the individual molecular and photonic system. Specifically, we have the criteria \n",
    "$$ 4g > \\gamma \\tag{1}$$ \n",
    "\n",
    "where $g$ represents the interaction energy rate between the molecular transition and the photon and $\\gamma$ represents the dissipation rate of the molecular excitation and the photon.  Usually the dissipation rate of the photon is much faster than the dissipation of the molecular excitation, so $\\gamma$ can be approximated as the inverse of the lifetime of the occupation of the photon in the cavity.  \n",
    "\n",
    "We can define $g$ as follows:\n",
    "\n",
    "$$ g = {\\bf A} \\cdot \\mu_{ge}, \\tag{2}$$\n",
    "where ${\\bf A}$ is related to the electric field of the photon and\n",
    "has a magnitude defined as \n",
    "$$ A = \\sqrt{\\frac{\\omega}{2 \\epsilon_0 V}}, \\tag{3}$$\n",
    "$\\mu_{eg}$ is the transition dipole moment associated with the electronic transition, $\\omega$ is the\n",
    "frequency of the photon, $\\epsilon_0$ is the permittivity of vacuum, and\n",
    "$V$ represents the volume of the cavity that confines the photon (and molecule).  Here we can\n",
    "see that for a given value of the transition dipole moment, increasing the confinement of the photon by decreasing $V$ increases the interaction energy scale by increasing the fundamental coupling strength $A$. \n",
    "\n",
    "**Question 2**\n",
    "If we can assume that (in atomic units) $\\mu_{ge} = 1$, $\\omega = 0.1469$, and $\\gamma = 0.0016$, what is the value of $A$ required to satisfy $ 4g = \\gamma $?  Store this value in the variable `A_au`.\n",
    "\n",
    "\n",
    "\n",
    "\n"
   ]
  },
  {
   "cell_type": "markdown",
   "metadata": {},
   "source": [
    "**Note** Although both ${\\bf A}$ and $\\mu_{eq}$ are technically vector quantities, in this excercise we are considering only the component along the $z$ axis, so we will treat them as scalars from here on out!\n",
    "\n",
    "*Answer goes here!* \n",
    "\n",
    "*Note* In atomic units, $\\frac{1}{\\epsilon_0} = 4 \\pi$"
   ]
  },
  {
   "cell_type": "code",
   "execution_count": 3,
   "metadata": {},
   "outputs": [
    {
     "name": "stdout",
     "output_type": "stream",
     "text": [
      "The magnitude of A is 4.000e-04 atomic units\n",
      "The cavity volume is 853.982 nm^3\n"
     ]
    }
   ],
   "source": [
    "mu_ge_au = 1 # -> transition dipole moment in atomic units \n",
    "\n",
    "gamma_au = 0.0016 # -> photon dissipation rate in atomic units\n",
    "\n",
    "omega_au = 0.1469 # -> photon frequency in atomic units\n",
    "\n",
    "au_to_nm = 0.0529 # -> conversion factor for atomic units of length to nanometers\n",
    "\n",
    "# ==> Write code to compute A_au (in atomic units) here <== \n",
    "A_au = gamma_au / (4 * mu_ge_au)\n",
    "\n",
    "\n",
    "# ==> Pre-written: Convert A to volume in atomic units to volume in nm^3 <==\n",
    "V_au = omega_au * np.pi * 2 / A_au ** 2\n",
    "V_nm = V_au * au_to_nm ** 3\n",
    "\n",
    "print(f'The magnitude of A is {A_au:.3e} atomic units')\n",
    "print(f'The cavity volume is {V_nm:.3f} nm^3')\n",
    "\n",
    "assert np.isclose(V_nm, _expected_V)"
   ]
  },
  {
   "cell_type": "markdown",
   "metadata": {},
   "source": [
    "#### Model system\n",
    "We will consider the diatomic cation MgH+ in a cavity chosen such that it can trap a photon with a \n",
    "frequency of approximately $\\hbar \\omega = 4.0$ eV. \n",
    "We will compute the singlet ground state and first singlet excited state potential energy surfaces along the\n",
    "Mg-H+ stretch coordinate $R$ using density functional theory (DFT) and time-dependent density functional theory (TDDFT), respectively.  DFT provides an efficient method for computing the ground-state energy of a quantum mechanical system using the electron density (rather than the wavefunction) as the primary variable, and TDDFT provides an efficient method for estimating the energies and properties of excited-states starting from the DFT ground state.    We denote the ground \n",
    "state ket as $|g\\rangle$ with an associated energy eigenvalue $E_g(R)$, and the excited-state $|e\\rangle$\n",
    "with associated energy eigenvalue $E_e(R)$ where $R$ is the bondlength.  The transition dipole\n",
    "moment between $|g\\rangle$ and $|e\\rangle$ will also be computed using TDDFT, yielding $\\mu_{ge}(R)$. \n",
    "While\n",
    "the transition dipole moment and the electric field are vector quantities, in this case $\\mu_{ge}(R)$ is oriented along the internuclear coordinate ($R$), and so for simplicity we consider an electric field oriented soley along\n",
    "$R$ as well and treat both quantities as scalars.\n",
    "\n",
    "We will consider two quantum states for the photon - no photon in the cavity, denoted by $|0\\rangle$, and 1 photon in the cavity $|1\\rangle$.  The photon has an energy of $\\hbar \\omega$. At the same time, we will allow for the molecule to be in its electronic ground state $|g\\rangle$ or its first electronic excited state $|e\\rangle$.  \n",
    "This leads to the following basis states for the composite system:\n",
    "\n",
    "$|g,0\\rangle \\rightarrow$ The molecule is in the ground state and there is no photon in the cavity.\n",
    "\n",
    "$|g,1\\rangle \\rightarrow$ The molecule is in the ground state and there is one photon in the cavity.\n",
    "\n",
    "$|e,0\\rangle \\rightarrow$ The molecule is in its first electronic excited state and there is no photon in the cavity.\n",
    "\n",
    "We will neglect the $|e,1\\rangle$ state for simplicity, and if desired, it can be shown that its inclusion does not impact the results.\n",
    "\n",
    "In this 3-state basis, we will model this system with a generalized Rabi Hamiltonian that can be written as:\n",
    "\\begin{equation}\n",
    "    {\\bf H} =\n",
    "    \\begin{pmatrix}\n",
    "    E_g(R)  & 0 & 0 \\\\\n",
    "    0 & E_g(R) + \\hbar \\omega &   A \\cdot \\mu_{ge}(R) \\\\\n",
    "    0 &  A \\cdot \\mu_{ge}(R) & E_e(R)\n",
    "    \\end{pmatrix}. \\tag{4}\n",
    "\\end{equation}\n",
    "where $E_g(R)$ denotes the ground-state potential energy surface, i.e. the energy of state $|g\\rangle$ at bondlength $R$, $E_e(R)$ denotes the potential energy surface of the first excited state (energy of state $|e\\rangle$ at bondlength $R$), and $\\mu_{ge}(R)$ denotes the transition dipole moment between state $|g\\rangle$ and $|e\\rangle$.  Applying second quantized operators to derive this Hamiltonian matrix is supplementary learning outcome; interested students are directed to [Derivation](#Derivation) cell for the derivation.\n",
    "\n",
    "We can see that the molecular and photonic basis states interact with each other (i.e. the Hamiltonian in this basis is not diagonal).  We can diagonalize this matrix to yield the *polaritonic* states.  We will \n",
    "use the following nomenclature for these eigenpairs that define these polaritonic states:\n",
    "\n",
    "$E_g|\\psi_g\\rangle \\rightarrow$ The ground-state energy and eigenstate of the interacting system, which is approximately equal to $E_g$ and $|g,0\\rangle$ from before.  This corresponds to the lowest eigenvalue of the Rabi Hamiltonian.\n",
    "\n",
    "$E_{LP}|\\psi_{LP}\\rangle \\rightarrow$ The lower-polariton energy and eigenstate.  The lower-polariton eigenstate is a linear \n",
    "combination of the $|g,1\\rangle$ and $|e,0\\rangle$ states.  This corresponds to the second-lowest eigenvalue of the Rabi Hamiltonian.\n",
    "\n",
    "$E_{UP}|\\psi_{UP}\\rangle \\rightarrow$ The upper-polariton energy and eigenstate.  The upper-polariton eigenstate is also a linear \n",
    "combination of the $|g,1\\rangle$ and $|e,0\\rangle$ states.  This corresponds to the third-lowest eigenvalue of the Rabi Hamiltonian (or highest eigenvalue in the case we are using only the 3 basis states defined above).\n",
    "\n",
    "\n",
    "\n",
    "##### Procedure\n",
    "We will build and diagonalize this matrix across a range of bondlength values ($R$), and the \n",
    "resulting eigenvalues will comprise the polaritonic potential energy surfaces.  The resulting \n",
    "eigenvectors will comprise the polaritonic energy eigenstates.  We will utilize the `psi4` package to compute\n",
    "$E_g(R)$, $E_e(R)$, and $\\mu_{ge}(R)$ to be used in the model Hamiltonian above.\n",
    "\n",
    "We will import psi4 to have access to the DFT engine for computation of ground-state properties, and the scf_response library of psi4 to have access to TDDFT methods for obtaining excited-state properties.  We will also import numpy and scipy libraries to help with constructing and diagonalizing the Rabi Hamiltonian."
   ]
  },
  {
   "cell_type": "markdown",
   "metadata": {},
   "source": [
    "To compute $E_g(R)$, $E_e(R)$, and $\\mu_{ge}(R)$, we will use DFT/TDDFT at the B3LYP/cc-pVDZ level for 25 different geometries from $R = 1.1$ to $R = 3.5$ Angstroms.\n",
    "\n",
    "The scan of different $R$ values uses similar syntax as has been demonstrated in other Psi4Education labs, see for example the lab on the [calculation of spectroscopic constants](https://github.com/Psi4Education/psi4education/blob/master/labs/spectroscopic_constants/spectroscopic_constants_student.ipynb).\n",
    "\n",
    "Extracting the excitation energy and the transition dipole moment requires that we run the `tdscf_excitations` method from the psi4 package, which we have explicitly imported.  This method returns a dictionary containing different information about the excited-state energies and properties. \n",
    "\n",
    "##### The tdscf_excitations method and dictionary\n",
    "The syntax for computing singlet excited-state properties with the tdscf_excitations method is as follows:\n",
    "\n",
    "`res = tdscf_excitations(wfn, states=n, triplets='None')`\n",
    "\n",
    "where `wfn` is the wavefunction object that can be obtained from a prior ground-state calculation, `states=n` specifies the number `n` of excited-states you wish to compute, `triplets='None'` specifies that only singlet exited states will be obtained, and `res` is the name specified for the nested dictionary that the method returns to store the excited-state information.  \n",
    "\n",
    "Dictionaries are used to store data values in key:value pairs, and nested dictionaries have multiple dictionaries inside a dictionary.  This construction is useful for the excited-state calculations because there are many excited states, each having properties that can be specified by the same key.   \n",
    "\n",
    "We are interested in two keys for our calculation.\n",
    "The key `\"EXCITATION ENERGY\"` can be used to access the excitation energy from the ground state to a given excited state obtained from the calculation, and the key `\"ELECTRIC DIPOLE TRANSITION MOMENT (LEN)\"` can be used to access the transition dipole moments associated with the computed states (ground-to-excited state only).  Because we are interested in these properties only for the first excited state, we will access them as follows:\n",
    "\n",
    "`res[0][\"EXCITATION ENERGY\"]`: $E_e(R) - E_g(R)$\n",
    "\n",
    "`res[0][\"ELECTRIC DIPOLE TRANSITION MOMENT (LEN)\"]`: $\\mu_{ge}(R)$.\n",
    "\n",
    "Information about the second excited-state would be obtained from keys associated with `res[1]['KEY']`, etc.\n",
    "\n",
    "To see all of the keys of the nested dictionary called `res`, you can type `res[0].keys()`.   For a more general discussion of nested dictionaries, see [here](https://www.programiz.com/python-programming/nested-dictionary).\n"
   ]
  },
  {
   "cell_type": "code",
   "execution_count": 4,
   "metadata": {},
   "outputs": [],
   "source": [
    "# set basis\n",
    "psi4.set_options({\n",
    "    'basis':'cc-pVDZ'\n",
    "})\n",
    "\n",
    "# set the number of electronic states... this is the ground state + n_states more\n",
    "# we will get 1 excited-state\n",
    "n_states = 1\n",
    "\n",
    "# set the number of bond lengths to compute the stretch along\n",
    "n_geoms = 25\n",
    "\n",
    "# initialize geometry list\n",
    "geoms = []\n",
    "\n",
    "# initialize energy list... note\n",
    "# there will be the ground state energy + n_states excited state energies\n",
    "Es = np.zeros((n_states+1, n_geoms))\n",
    "\n",
    "# initialize z-component of transition dipole list\n",
    "mu_z = np.zeros((n_states, n_geoms))\n",
    "\n",
    "# generate bond lengths\n",
    "rs = []\n",
    "for i in range(0,n_geoms):\n",
    "    rs.append(1.1 + i*0.1)\n",
    "\n",
    "# loop over bond lengths\n",
    "ctr = 0\n",
    "for i in rs:\n",
    "    # generate the MgH+ molecule using a z-matrix and set the Mg-H+ bond length\n",
    "    mol = psi4.geometry(\"\"\"\n",
    "    Mg\n",
    "    H 1 \"\"\" + str(i) + \"\"\"\n",
    "    symmetry c1\n",
    "    1 1\n",
    "    \"\"\")\n",
    "    # save the geometry\n",
    "    geoms.append(mol.geometry().to_array())\n",
    "    psi4.set_options({\n",
    "    'save_jk': True,\n",
    "    })  \n",
    "   \n",
    "    # calculate and save the ground-state energy and wavefunction\n",
    "    e, wfn = psi4.energy(\"b3lyp/cc-pVDZ\", return_wfn=True, molecule=mol)\n",
    "    \n",
    "    # calculate the excited-state energies and save them to a dictionary called 'res'\n",
    "    res = tdscf_excitations(wfn, states=n_states, triplets = \"NONE\")\n",
    "    \n",
    "    # parse the excitation energies from the 'res' dictionary \n",
    "    delta_e = [r[\"EXCITATION ENERGY\"] for r in res]\n",
    "    \n",
    "    # parse the transition dipole moment from the 'res' dictionary\n",
    "    mu = [r[\"ELECTRIC DIPOLE TRANSITION MOMENT (LEN)\"] for r in res]\n",
    "    Es[0,ctr] = e\n",
    "    \n",
    "    # store the results to the respective arrays\n",
    "    for j in range(0, n_states):\n",
    "        Es[j+1,ctr] = e + delta_e[j]\n",
    "        # we only want the z-component which is index 2\n",
    "        mu_z[j,ctr] = np.absolute(mu[j][2])\n",
    "\n",
    "    \n",
    "    # increment the counter!\n",
    "    ctr += 1\n",
    "    \n",
    "\n"
   ]
  },
  {
   "cell_type": "code",
   "execution_count": 24,
   "metadata": {},
   "outputs": [
    {
     "name": "stdout",
     "output_type": "stream",
     "text": [
      "[-5.75071720e-05 -5.72661117e-05 -5.43269470e-05 -4.54299029e-05\n",
      " -3.56442630e-05 -2.11576048e-05 -8.25578454e-06  2.27680015e-06\n",
      "  1.51805561e-05  2.71329155e-05  3.60127999e-05  4.25701892e-05\n",
      "  5.24029410e-05  5.81363157e-05  6.70437245e-05  7.61122875e-05\n",
      "  8.54939604e-05  9.37728687e-05  1.06730615e-04  1.16197456e-04\n",
      "  1.30519372e-04  1.42533901e-04  1.44689686e-04  1.55522580e-04\n",
      "  1.55953962e-04]\n"
     ]
    },
    {
     "ename": "AssertionError",
     "evalue": "",
     "output_type": "error",
     "traceback": [
      "\u001b[0;31m---------------------------------------------------------------------------\u001b[0m",
      "\u001b[0;31mAssertionError\u001b[0m                            Traceback (most recent call last)",
      "Cell \u001b[0;32mIn[24], line 10\u001b[0m\n\u001b[1;32m      8\u001b[0m \u001b[38;5;28;01massert\u001b[39;00m np\u001b[38;5;241m.\u001b[39mallclose(Eg_array, _expected_Eg_array)\n\u001b[1;32m      9\u001b[0m \u001b[38;5;28;01massert\u001b[39;00m np\u001b[38;5;241m.\u001b[39mallclose(Ee_array, _expected_Ee_array)\n\u001b[0;32m---> 10\u001b[0m \u001b[38;5;28;01massert\u001b[39;00m np\u001b[38;5;241m.\u001b[39mallclose(tdm_array, _expected_tdm_array)\n",
      "\u001b[0;31mAssertionError\u001b[0m: "
     ]
    }
   ],
   "source": [
    "# Take slices of information for Eg, Ee, and mu_eg only\n",
    "Eg_array = np.copy(Es[0,:])\n",
    "Ee_array = np.copy(Es[1,:])\n",
    "tdm_array = np.copy(mu_z[0,:])\n",
    "\n",
    "\n",
    "assert np.allclose(Eg_array, _expected_Eg_array)\n",
    "assert np.allclose(Ee_array, _expected_Ee_array)\n",
    "assert np.allclose(tdm_array, _expected_tdm_array)"
   ]
  },
  {
   "cell_type": "code",
   "execution_count": 6,
   "metadata": {},
   "outputs": [
    {
     "name": "stdout",
     "output_type": "stream",
     "text": [
      "dict_keys(['EXCITATION ENERGY', 'ELECTRIC DIPOLE TRANSITION MOMENT (LEN)', 'OSCILLATOR STRENGTH (LEN)', 'ELECTRIC DIPOLE TRANSITION MOMENT (VEL)', 'OSCILLATOR STRENGTH (VEL)', 'MAGNETIC DIPOLE TRANSITION MOMENT', 'ROTATORY STRENGTH (LEN)', 'ROTATORY STRENGTH (VEL)', 'SYMMETRY', 'SPIN', 'RIGHT EIGENVECTOR ALPHA', 'LEFT EIGENVECTOR ALPHA', 'RIGHT EIGENVECTOR BETA', 'LEFT EIGENVECTOR BETA'])\n"
     ]
    }
   ],
   "source": [
    "# This will print all of the keys associated with the `res` dictionary.\n",
    "print(res[0].keys())"
   ]
  },
  {
   "cell_type": "markdown",
   "metadata": {},
   "source": [
    "Let's plot the ground- and excited-state potential energy surfaces for MgH+ just computed above."
   ]
  },
  {
   "cell_type": "code",
   "execution_count": 7,
   "metadata": {},
   "outputs": [
    {
     "data": {
      "image/png": "[encoded data removed]",
      "text/plain": [
       "<Figure size 640x480 with 1 Axes>"
      ]
     },
     "metadata": {},
     "output_type": "display_data"
    }
   ],
   "source": [
    "\n",
    "plt.plot(rs,Eg_array, label='Ground state')\n",
    "plt.plot(rs,Ee_array, label='Excited state')\n",
    "plt.legend()\n",
    "plt.xlabel('Bondlength (Angstroms)')\n",
    "plt.ylabel('Energy (Hartrees)')\n",
    "plt.title('DFT/TDDFT Potential Energy Surfaces')\n",
    "plt.grid(True)\n",
    "plt.show()"
   ]
  },
  {
   "cell_type": "markdown",
   "metadata": {},
   "source": [
    "#### Building the Rabi model Hamiltonian \n",
    "\n",
    "1. Fit each surface to a spline\n",
    "\n",
    "2. Define functions that build the Rabi Hamiltonian and extract the eigenstates from them.  For reasons of convenience with the plotting widget, we will create two almost identical functions that extract the lower-polariton and upper-polariton roots separately. \n",
    "\n",
    "3. (Separate notebook) Define a widget that allows the display of polaritonic potential energy surfaces with variable values of the coupling strength $g$.  "
   ]
  },
  {
   "cell_type": "markdown",
   "metadata": {},
   "source": [
    "##### Step 1: Fitting a spline\n",
    "We will fit a cubic spline to the data obtained for the ground- and excited-state potential energy surfaces ($E_g(R)$ and $E_e(R)$) obtained from the TDDFT calculations.  A cubic spline is a simple model function of the form $f(R) = a + bR + cR^2 + dR^3$ that allows estimation of the potential energy curves at arbitrary values of $R$ within the finite range scanned by the *ab initio* calculations.  We will do the same for the transition dipole moment, $\\mu_{ge}(R)$.\n",
    "\n",
    "The syntax for generating a cubic spline is as follows:\n",
    "\n",
    "`spline = InterpolatedUnivariateSpline(x_values, y_values, k=3)`\n",
    "\n",
    "where `x_values` is a list or numpy array containing the independent variable data, `y_values` is a list or numpy array containing the corresponding dependent variable data, `k=3` indicates a cubic spline, and `spline` is the spline object returned by the `InterpolatedUnivariateSpline` method.  \n",
    "\n",
    "Recall that the independent variable data are the bondlengths $R$ stored in the numpy array `rs`, and the dependent variable data are the ground- and excited-state potential energy surface data stored in the `Es` array.  The transition dipole moment data is stored in the array `mu_z`. \n",
    "\n",
    "*Note on units* The bondlength data is stored in Angstroms, whereas the energies and transition dipole moments are all stored in atomic units.\n",
    "\n",
    "**Question 3**  Fit a spline called `Eg_spline` to the ground-state potential energy surface data, a spline called `Ee_spline` to the excited-state potential energy surface data, and a spline called `mu_spline` to the transition dipole moment data.\n"
   ]
  },
  {
   "cell_type": "code",
   "execution_count": 8,
   "metadata": {},
   "outputs": [],
   "source": [
    "# fit all surfaces to a spline\n",
    "# ==> Code to fit splines goes here! <== #\n",
    "Eg_spline = InterpolatedUnivariateSpline(rs, Eg_array, k=3)\n",
    "Ee_spline = InterpolatedUnivariateSpline(rs, Ee_array, k=3)\n",
    "mu_spline = InterpolatedUnivariateSpline(rs, tdm_array, k=3)"
   ]
  },
  {
   "cell_type": "markdown",
   "metadata": {},
   "source": [
    "Once the splines have been defined, they can be evaluated at a particular value(s) of $R$ using the following syntax `spline(R)`.  Note if you pass the spline a numpy array of $R$ values, it will return a numpy array of \n",
    "dependent variable values evaluated at each value of the $R$ array.  \n",
    "\n",
    "In the following blocks, add code to evaluate `Eg_spline`, `Ee_spline` and `mu_spline` at `R_val = 2.5` Anstroms; store the values to variables named `Eg_val`, `Ee_val`, and `tdm_val` respectively."
   ]
  },
  {
   "cell_type": "code",
   "execution_count": 9,
   "metadata": {},
   "outputs": [],
   "source": [
    "# ==> Code to evaluate Eg_spline, Ee_spline, and mu_spline at R_val = 2.5 Angstroms goes here! <== #\n",
    "R_val = 2.5\n",
    "\n",
    "Eg_val = Eg_spline(R_val)\n",
    "\n",
    "Ee_val = Ee_spline(R_val)\n",
    "\n",
    "tdm_val = np.absolute(mu_spline(R_val))"
   ]
  },
  {
   "cell_type": "markdown",
   "metadata": {},
   "source": [
    "**Question 4** What is the transition energy in (expressed in atomic units and in electron volts) between the ground and first excited state at $R = 2.5$ Angstroms?  \n",
    "\n",
    "*Answer in atomic units goes here!* \n",
    "\n",
    "*Answer in electron volts goes here!*\n",
    "\n",
    "*Hint* The conversion factor between atomic units of energy and electron volts is $27.211 \\frac{{\\rm eV}}{{\\rm atomic \\: unit}}$.  Store the transition energy in a variable called `transition_energy_eV`."
   ]
  },
  {
   "cell_type": "code",
   "execution_count": 21,
   "metadata": {},
   "outputs": [
    {
     "name": "stdout",
     "output_type": "stream",
     "text": [
      "0.14875103097031683\n",
      "4.047723804145679\n"
     ]
    }
   ],
   "source": [
    "# conversion factor for au -> eV\n",
    "au_to_eV = 27.2114\n",
    "\n",
    "# ==> Code to compute transition energy in atomic units and convert to eV goes here! <== #\n",
    "transition_energy_au = Ee_val - Eg_val\n",
    "transition_energy_eV = transition_energy_au * au_to_eV\n",
    "print(transition_energy_au)\n",
    "print(transition_energy_eV)"
   ]
  },
  {
   "cell_type": "markdown",
   "metadata": {},
   "source": [
    "**Checking your results:** The next cell will check the values you obtained from your splines.  We will use an `assert` statement to compare your computed values to the expected values. The `assert` statement will pass if the comparison returns true, and will fail if the comparison returns false.  \n",
    "\n",
    "**If one or more `assert` statements fail, you should go back and check your code in the last few blocks!**  \n",
    "\n",
    "The comparison is performed by the numpy function `isclose()`.  For more information about the `isclose()` function, see [here](https://numpy.org/doc/stable/reference/generated/numpy.isclose.html).  "
   ]
  },
  {
   "cell_type": "code",
   "execution_count": 23,
   "metadata": {},
   "outputs": [
    {
     "ename": "AssertionError",
     "evalue": "",
     "output_type": "error",
     "traceback": [
      "\u001b[0;31m---------------------------------------------------------------------------\u001b[0m",
      "\u001b[0;31mAssertionError\u001b[0m                            Traceback (most recent call last)",
      "Cell \u001b[0;32mIn[23], line 4\u001b[0m\n\u001b[1;32m      2\u001b[0m \u001b[38;5;28;01massert\u001b[39;00m np\u001b[38;5;241m.\u001b[39misclose(Ee_val, _expected_Ee_val)\n\u001b[1;32m      3\u001b[0m \u001b[38;5;66;03m#assert np.isclose(tdm_val, _expected_tdm_val)\u001b[39;00m\n\u001b[0;32m----> 4\u001b[0m \u001b[38;5;28;01massert\u001b[39;00m np\u001b[38;5;241m.\u001b[39misclose(transition_energy_eV, _expected_deltaE_eV)\n",
      "\u001b[0;31mAssertionError\u001b[0m: "
     ]
    }
   ],
   "source": [
    "\n",
    "assert np.isclose(Eg_val, _expected_Eg_val)\n",
    "assert np.isclose(Ee_val, _expected_Ee_val)\n",
    "#assert np.isclose(tdm_val, _expected_tdm_val)\n",
    "assert np.isclose(transition_energy_eV, _expected_deltaE_eV)\n",
    "\n"
   ]
  },
  {
   "cell_type": "markdown",
   "metadata": {},
   "source": [
    "##### Step 2: Building the Rabi Hamiltonian\n",
    "\n",
    "Next we will define a function that will build and return the Rabi Hamiltonian (Eq. (4)).  We will pass \n",
    "5 arguments to this function:\n",
    "\n",
    "`A_value` : Electric field strength $A$ as defined in Eq. (3)\n",
    "\n",
    "`omega_value` : Photon frequency $\\omega$ that appears in the diagonals of Eq. (4)\n",
    "\n",
    "`r_value` : An $R$ value at which the Rabi Hamiltoninan will be evaluated\n",
    "\n",
    "`g_spline` : A spline fit to the ground state potential energy surface as a function of $R$\n",
    "\n",
    "`e_spline` : A spline fit to the excited state potential energy surface as a function of $R$\n",
    "\n",
    "`tdm_spline` : A spline fit to the transition dipole moment surface as a function of $R$\n",
    "\n",
    "A template for this function follows:\n",
    "\n",
    "```\n",
    "def Rabi_Hamiltonian(lambda_value, omega_value, r_value, g_spline, e_spline, tdm_spline):\n",
    "    \"\"\"Function to compute the Rabi Hamiltonian\n",
    "\n",
    "    Arguments\n",
    "    ----------\n",
    "    A_value : float\n",
    "        electric field strength\n",
    "        \n",
    "    omega_value : float\n",
    "        photon energy\n",
    "        \n",
    "    r_value : float\n",
    "        value of the bondlength\n",
    "        \n",
    "    g_spline : scipy spline object\n",
    "        spline that is fit to the ground-state potential energy surface\n",
    "        \n",
    "    e_spline : scipy spline object\n",
    "        spline that is fit to the excited-state potential energy surface\n",
    "        \n",
    "    tdm_spline : scipy spline object\n",
    "        spline that is fit to the transition dipole moment surface\n",
    "        \n",
    "    Returns\n",
    "    -------\n",
    "    H : numpy array\n",
    "        3x3 Rabi Hamiltonian matrix\n",
    "    \"\"\"\n",
    "\n",
    "    # create 3x3 numpy array to store the Rabi Hamiltonian\n",
    "    H = np.zeros((3,3)) \n",
    "    \n",
    "    # ==> Code to compute elements of the Rabi Hamiltonian <== #\n",
    "    \n",
    "    # return the Hamiltonian\n",
    "    return H\n",
    "\n",
    "```"
   ]
  },
  {
   "cell_type": "code",
   "execution_count": 12,
   "metadata": {},
   "outputs": [],
   "source": [
    "def Rabi_Hamiltonian(A_value, omega_value, r_value, g_spline, e_spline, tdm_spline):\n",
    "    \"\"\"Function to compute the Rabi Hamiltonian\n",
    "\n",
    "    Arguments\n",
    "    ----------\n",
    "    A_value : float\n",
    "        electric field strength\n",
    "        \n",
    "    omega_value : float\n",
    "        photon energy\n",
    "        \n",
    "    r_value : float\n",
    "        value of the bondlength\n",
    "        \n",
    "    g_spline : scipy spline object\n",
    "        spline that is fit to the ground-state potential energy surface\n",
    "        \n",
    "    e_spline : scipy spline object\n",
    "        spline that is fit to the excited-state potential energy surface\n",
    "        \n",
    "    tdm_spline : scipy spline object\n",
    "        spline that is fit to the transition dipole moment surface\n",
    "        \n",
    "    Returns\n",
    "    -------\n",
    "    H : numpy array\n",
    "        3x3 Rabi Hamiltonian matrix\n",
    "    \"\"\"\n",
    "    \n",
    "    # initialize 3x3 Hamiltonian matrix\n",
    "    H = np.zeros((3,3))\n",
    "    \n",
    "    # diagonal entries\n",
    "    H[0,0] = g_spline(r_value)\n",
    "    H[1,1] = g_spline(r_value) + omega_value\n",
    "    H[2,2] = e_spline(r_value)\n",
    "    \n",
    "    # off-diagonal entries\n",
    "    H[1,2] = A_value * tdm_spline(r_value)\n",
    "    H[2,1] = A_value * tdm_spline(r_value)\n",
    "    \n",
    "    # return the matrix\n",
    "    return H\n"
   ]
  },
  {
   "cell_type": "markdown",
   "metadata": {},
   "source": [
    "**Question 5** Evaluate the Rabi Hamiltonian with $A = 0.003$ atomic units, $R = 2.5$ Angstroms, \n",
    "and $\\omega$ defined such that it matches the transition energy at this bondlength.  Store the resulting\n",
    "matrix to a variable named `H_Rabi`.\n",
    "\n",
    "*Hint:* Your $\\omega$ value should be in atomic units."
   ]
  },
  {
   "cell_type": "code",
   "execution_count": 13,
   "metadata": {},
   "outputs": [],
   "source": [
    "A_value = 0.003\n",
    "\n",
    "H_Rabi = Rabi_Hamiltonian(A_value, transition_energy_au, R_val, Eg_spline, Ee_spline, mu_spline)\n"
   ]
  },
  {
   "cell_type": "markdown",
   "metadata": {},
   "source": [
    "**Checking your results:** The next cell will check the Hamiltonian computed in the last block.\n",
    "\n",
    "**If this `assert` statements fail, you should go back and check the code in your Rabi_Hamiltonian function and the values of the arguments you passed to this function!**  "
   ]
  },
  {
   "cell_type": "code",
   "execution_count": 14,
   "metadata": {},
   "outputs": [
    {
     "ename": "AssertionError",
     "evalue": "",
     "output_type": "error",
     "traceback": [
      "\u001b[0;31m---------------------------------------------------------------------------\u001b[0m",
      "\u001b[0;31mAssertionError\u001b[0m                            Traceback (most recent call last)",
      "Cell \u001b[0;32mIn[14], line 1\u001b[0m\n\u001b[0;32m----> 1\u001b[0m \u001b[38;5;28;01massert\u001b[39;00m np\u001b[38;5;241m.\u001b[39mallclose(H_Rabi, _expected_H_Rabi)\n",
      "\u001b[0;31mAssertionError\u001b[0m: "
     ]
    }
   ],
   "source": [
    "assert np.allclose(H_Rabi, _expected_H_Rabi)"
   ]
  },
  {
   "cell_type": "markdown",
   "metadata": {},
   "source": [
    "**Step 3: Compute and plot polariton potential energy surfaces**\n",
    "\n",
    "We will compute and plot the polaritonic potential energy surfaces for $A = 0.003$ atomic units.  This will help us to vizualize the so-called Rabi splitting that occurs between \n",
    "the surfaces at a particular value of the bondlength $R_{deg}$, where we define $R_{deg}$ as the bondlength \n",
    "at which the following is satisfied for a particular value of the photon energy $\\omega_0$:\n",
    "\n",
    "$$ E_g(R_{deg}) + \\hbar \\omega_0 = E_e(R_{deg}) \\tag{5}$$.\n",
    "\n",
    "If we set $\\omega_0$ to be equal to the transition energy at $R = 2.5$ Angstroms as before, then we have \n",
    "$R_{deg} = 2.5$ Angstroms by definition. As we worked out in an earlier cell, this value of $\\omega_0$ would\n",
    "correspond to approximately $0.1487$ atomic units or $4.048$ eV.  We will use this value for $\\omega$ for the rest of this notebook.\n",
    "\n",
    "We already have a function that will build the Rabi Hamiltonian as a function of the fundamental coupling strength, the photon energy, and the bondlength value.  The next step is to build a function that will build and diagonalize\n",
    "this matrix for a range of bondlengths to return the so-called lower- and upper-poloriton potential energy surfaces ($E_{LP}(R)$ and $E_{UP}(R)$).  We will use the `eigh` function of numpy's linear algebra package (given the alias `LA` in our import statement at the top of the notebook) to diagonalize the Hamiltonian and store the eigenvalues.  The syntax follows:\n",
    "\n",
    "`vals, vecs = LA.eigh(matrix)`\n",
    "\n",
    "where `vals` are the eigenvalues, `vecs` are the eigenvectors, and `matrix` is the Hermitian matrix.\n",
    "\n",
    "The following function `polariton_surfaces` will compute and return $E_{LP}(R)$ and $E_{UP}(R)$ in this way."
   ]
  },
  {
   "cell_type": "code",
   "execution_count": 15,
   "metadata": {},
   "outputs": [],
   "source": [
    "def polariton_surfaces(A_value, omega_value, r_values, g_spline, e_spline, tdm_spline):\n",
    "    \"\"\"Function to compute the lower- and upper-polariton potential energy surfaces\n",
    "\n",
    "    Arguments\n",
    "    ----------\n",
    "    A_value : float\n",
    "        electric field strength\n",
    "        \n",
    "    omega_value : float\n",
    "        photon energy\n",
    "        \n",
    "    r_value : float\n",
    "        value of the bondlength\n",
    "        \n",
    "    g_spline : scipy spline object\n",
    "        spline that is fit to the ground-state potential energy surface\n",
    "        \n",
    "    e_splien : scipy spline object\n",
    "        spline that is fit to the excited-state potential energy surface\n",
    "        \n",
    "    tdm_spline : scipy spline object\n",
    "        spline that is fit to the transition dipole moment surface\n",
    "        \n",
    "    Returns\n",
    "    -------\n",
    "    E_LP_of_R : numpy array\n",
    "        lower-polariton potential energy surface defined at each value of r_values\n",
    "        \n",
    "    E_UP_of_R : numpy array\n",
    "        upper-polariton potential energy surface defined at each value of r_values\n",
    "    \"\"\"\n",
    "    # initialize lp and up surfaces\n",
    "    lp_surface = np.zeros_like(r_values)\n",
    "    up_surface = np.zeros_like(r_values)\n",
    "    \n",
    "    # loop through r values, build Rabi Hamiltonian, diagonalize, and store!\n",
    "    \n",
    "    for i in range(0, len(r_values)):\n",
    "        \n",
    "        # if there is no coupling, then we don't need to diagonalize anything\n",
    "        if A_value == 0:\n",
    "            lp_surface[i] = g_spline(r_values[i]) + omega_value\n",
    "            up_surface[i] = e_spline(r_values[i])\n",
    "        \n",
    "        # otherwise build Hamiltonian and diagonalize\n",
    "        else:\n",
    "            # Build the Rabi Hamiltonian\n",
    "            H = Rabi_Hamiltonian(A_value, omega_value, r_values[i], g_spline, e_spline, tdm_spline)\n",
    "            \n",
    "            # diagonalize\n",
    "            vals, vecs = LA.eigh(H)\n",
    "            \n",
    "            # store lp and up values\n",
    "            lp_surface[i] = vals[1]\n",
    "            up_surface[i] = vals[2]\n",
    "    \n",
    "    # return the surfaces\n",
    "    return lp_surface, up_surface\n"
   ]
  },
  {
   "cell_type": "code",
   "execution_count": 16,
   "metadata": {},
   "outputs": [],
   "source": [
    "# run this cell to compute the polariton PES\n",
    "lp_surface, up_surface = polariton_surfaces(A_value, transition_energy_au, rs, Eg_spline, Ee_spline, mu_spline)"
   ]
  },
  {
   "cell_type": "code",
   "execution_count": 17,
   "metadata": {},
   "outputs": [
    {
     "data": {
      "image/png": "[encoded data removed]",
      "text/plain": [
       "<Figure size 640x480 with 1 Axes>"
      ]
     },
     "metadata": {},
     "output_type": "display_data"
    }
   ],
   "source": [
    "plt.plot(rs, Eg_spline(rs)+transition_energy_au, \"r--\", label=\"Eg + $\\hbar \\omega$\")\n",
    "plt.plot(rs, Ee_spline(rs), \"b--\", label=\"Ee\")\n",
    "plt.plot(rs, lp_surface, \"red\", label=\"lower polariton\")\n",
    "plt.plot(rs, up_surface, \"blue\", label=\"upper polariton\")\n",
    "plt.grid(True)\n",
    "plt.legend()\n",
    "plt.show()"
   ]
  },
  {
   "cell_type": "markdown",
   "metadata": {},
   "source": [
    "<a id=’Derivation’></a>\n",
    "### Derivation"
   ]
  },
  {
   "cell_type": "markdown",
   "metadata": {},
   "source": [
    "We will consider two quantum states for the photon - no photon in the cavity, denoted by $|0\\rangle$ with associated energy eigenvalue $0$\n",
    "and one photon in the cavity, denoted by $|1\\rangle$ with associated energy eigenvalue $\\hbar \\omega$.  Note that essentially shifts the photon Hamiltonian by the zero-point energy $\\hbar \\frac{\\omega}{2}$.\n",
    "We will model this system with a generalized Rabi Hamiltonian that can be written as:\n",
    "\n",
    "$$ \\hat{H} = E_g(R) |g\\rangle \\langle g| + E_e(R) |g\\rangle \\langle g| + \n",
    "\\hbar \\omega \\hat{b} \\hat{b}^{\\dagger}  + \\hbar {\\bf A} \\cdot \\mu_{ge}(R) \\left(\\hat{b} + \\hat{b}^{\\dagger} \\right) \\left(|g\\rangle \\langle e| +  |e\\rangle \\langle g|\\right). $$\n",
    "The polaritonic potential energy surfaces may be obtained by building a Hamiltonian matrix in the following basis and diagonalizing as a function of the bond length $R$: $ |\\phi\\rangle \\in \\{|g,0\\rangle , |g,1\\rangle , |e,0\\rangle, |e,1\\rangle \\}. $\n",
    "\n",
    "#### Review of Dirac Bra-Ket notation\n",
    "We have used Dirac's bra-ket notation for both the electronic and the photonic states.  In this notation,\n",
    "$|n\\rangle = \\psi_n$ is known as the *ket* for state $n$, \n",
    "and $\\langle m| = \\psi_m^*$ is known as the *bra* for state $m$.  This applies\n",
    "to both electronic and photonic states, where we are specifically\n",
    "using the notation $|g\\rangle$ to denote the ground electronic ket, $|e\\rangle$ to denote\n",
    "the first-excited electronic ket, $|0\\rangle$ to denote the 0-photon ket, and $|1\\rangle$ to \n",
    "denote the 1-photon ket.\n",
    "\n",
    "An important rule in this notation is the\n",
    "following:\n",
    "\n",
    "$$ \\langle n | m \\rangle = \\int \\psi^*_n \\psi_m d\\tau = \\delta_{nm} $$\n",
    "\n",
    "where the Kronicker delta function $\\delta_{nm}$ is equal to 1 if $n = m$ and 0 otherwise.\n",
    "We can use this rule to compute different terms in the Hamiltonian matrix.\n",
    "\n",
    "\n",
    "#### Review of rules for the projection operators for electronic states\n",
    "\n",
    "The projection operators for molecular electronic states are denoted\n",
    "$|n\\rangle \\langle m|$ where again $|n\\rangle = \\psi_n$ is known as the *ket* for electronic state $n$, \n",
    "and $\\langle m |= \\psi_m^*$ is known as the *bra* for electronic state $m$. \n",
    "In this notebook, we will restrict the electronic states to the ground state (denoted $|g\\rangle$) \n",
    "and the first excited state (denoted $|e\\rangle$).  \n",
    "Let us examine the contribution that arises from the $E_g(R) |g\\rangle \\langle g|$\n",
    "term in the Hamiltonian between the basis state $|g,0\\rangle = |g\\rangle |0\\rangle$\n",
    "on the bra and the ket:\n",
    "\n",
    "\\begin{align}\n",
    "& \\langle g|\\langle0| \\left( E_g(R) |g\\rangle \\langle g|\\right)| g\\rangle  |0\\rangle \\\\\n",
    "= & \\langle 0|0\\rangle \\langle g | \\left( E_g(R) |g\\rangle \\langle g|\\right)| g\\rangle \\\\\n",
    "=& 1 \\cdot \\langle g | E_g(R) |g\\rangle \\cdot 1 \\\\\n",
    "&= E_g(R)  \\langle g | g \\rangle \\\\\n",
    "&= E_g(R)\n",
    "\\end{align}\n",
    "where we have used the fact that the projection operator $|g\\rangle \\langle g|$\n",
    "only acts on the electronic states, so we were able to factor out our photonic bra\n",
    "and kets $\\langle 0 | 0 \\rangle = 1$, and then we were also able \n",
    "to bring the ground-state energy eigenvalue $E_g(R)$ outside the integral in the second-to-last step just leaving $E_g(R) \\langle g | g \\rangle = E_g(R)$.\n",
    "\n",
    "##### Question 1: Combine these rules to evaluate the following:\n",
    "\\begin{align}\n",
    "\\langle g| \\left(E_g(R) |g\\rangle \\langle g|\\right)|e\\rangle \\\\\n",
    "\\langle e| \\left(E_g(R) |g\\rangle \\langle g|\\right)|e\\rangle\\\\\n",
    "\\langle g| \\left(E_e(R) |e\\rangle \\langle e|\\right)|e\\rangle \\\\\n",
    "\\langle e| \\left(E_e(R) |e\\rangle \\langle e|\\right)|e\\rangle \\\\\n",
    "\\langle e| \\left({\\bf A} \\cdot \\mu_{eg} |e\\rangle \\langle g|\\right)|e\\rangle \\\\\n",
    "\\langle e| \\left({\\bf A} \\cdot \\mu_{eg} |e\\rangle \\langle g|\\right)|g\\rangle\n",
    "\\end{align}\n",
    "\n",
    "The photonic raising operators generally obey $\\hat{b}^{\\dagger}|n\\rangle = \\sqrt{n+1}|n+1\\rangle$,\n",
    "where $n$ denotes the number of photons that occupy the cavity.  \n",
    "For the basis states in question, we have the following:\n",
    "\\begin{align}\n",
    "\\hat{b}^{\\dagger}|0\\rangle = |1\\rangle \\\\\n",
    "\\hat{b}^{\\dagger}|1\\rangle = \\sqrt{2}|2\\rangle\n",
    "\\end{align}\n",
    "where $|\\rangle$ denotes a fermionic Fock vacuum state.\n",
    "\n",
    "The photonic lowering operators generally obey $\\hat{b}|n\\rangle = \\sqrt{n}|n-1\\rangle$, so for the\n",
    "basis states in question, we have:\n",
    "\\begin{align}\n",
    "\\hat{b}|1\\rangle = |0\\rangle \\\\\n",
    "\\hat{b}|0\\rangle = 0.\n",
    "\\end{align}\n",
    "\n",
    "##### Question 2: Combine the molecular and photonic creation and annihilation operator rules to derive elements of the Hamiltonian matrix\n",
    "\n",
    "This matrix as a function of the bond-length $R$ is as follows:\n",
    "\\begin{equation}\n",
    "{\\bf H}(R)\n",
    "  \\mbox{=} \n",
    "  \\begin{array}{c|cccc}\n",
    "       & |g,0\\rangle & |g,1\\rangle & |e,0\\rangle \\\\\n",
    "    \\hline\n",
    "    \\langle g,0| & E_g(R)   &     0   & 0  \\\\\n",
    "    \\langle g,1| & 0        &   E_g(R) +  \\hbar \\omega  & \\hbar {\\bf A} \\cdot \\mu_{eg} (R) \\\\\n",
    "    \\langle e,0| & 0        &    \\hbar {\\bf A} \\cdot \\mu_{eg}  & E_e(R)+\\hbar \\omega\\\\\n",
    "  \\end{array}\n",
    "\\end{equation}"
   ]
  },
  {
   "cell_type": "code",
   "execution_count": null,
   "metadata": {},
   "outputs": [],
   "source": []
  }
 ],
 "metadata": {
  "kernelspec": {
   "display_name": "Python 3 (ipykernel)",
   "language": "python",
   "name": "python3"
  },
  "language_info": {
   "codemirror_mode": {
    "name": "ipython",
    "version": 3
   },
   "file_extension": ".py",
   "mimetype": "text/x-python",
   "name": "python",
   "nbconvert_exporter": "python",
   "pygments_lexer": "ipython3",
   "version": "3.9.18"
  },
  "latex_envs": {
   "LaTeX_envs_menu_present": true,
   "autoclose": false,
   "autocomplete": true,
   "bibliofile": "biblio.bib",
   "cite_by": "apalike",
   "current_citInitial": 1,
   "eqLabelWithNumbers": true,
   "eqNumInitial": 1,
   "hotkeys": {
    "equation": "Ctrl-E",
    "itemize": "Ctrl-I"
   },
   "labels_anchors": false,
   "latex_user_defs": false,
   "report_style_numbering": true,
   "user_envs_cfg": true
  }
 },
 "nbformat": 4,
 "nbformat_minor": 4
}
