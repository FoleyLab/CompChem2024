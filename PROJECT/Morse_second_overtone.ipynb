{
 "cells": [
  {
   "cell_type": "code",
   "execution_count": 1,
   "id": "79405478",
   "metadata": {},
   "outputs": [
    {
     "name": "stdout",
     "output_type": "stream",
     "text": [
      "Effective charge of HF is -0.4688158269027078 atomic units\n"
     ]
    },
    {
     "data": {
      "image/png": "[encoded data removed]",
      "text/plain": [
       "<Figure size 640x480 with 1 Axes>"
      ]
     },
     "metadata": {},
     "output_type": "display_data"
    }
   ],
   "source": [
    "import numpy as np\n",
    "from matplotlib import pyplot as plt\n",
    "from morse import Morse\n",
    "\n",
    "\n",
    "# Atom masses in atomic mass units\n",
    "mH, mF = 1., 19.\n",
    "\n",
    "# Equilibrium bondlength in meters\n",
    "re = 0.915801e-10\n",
    "\n",
    "# dipole moment of HF at the equilibrium bondlength\n",
    "dipole_au = -0.8113388\n",
    "\n",
    "# frequency of second overtone in cm^-1\n",
    "omega_p_so_wn = 11286.23\n",
    "omega_p_so_au = omega_p_so_wn / 219474.63068\n",
    "\n",
    "\n",
    "# potential energy at minimum, ok to set at zero\n",
    "Te = 0\n",
    "\n",
    "# Morse parameters in atomic units \n",
    "we_au, wexe_au = 0.01911889333688861, 0.0004944018798851136\n",
    "# Morse parameters in wavenumbers\n",
    "we, wexe = 4196.112054123941, 108.50866999528301\n",
    "\n",
    "# create Morse object \n",
    "X = Morse(mH, mF, we, wexe, re, Te, dipole_au, 0.001, omega_p_so_au)\n",
    "\n",
    "# create Morse grid - will make grids in SI (self.r) and atomic units (self.r_au)\n",
    "X.make_rgrid()\n",
    "\n",
    "# create Morse potential on SI grid, will make potential in SI (self.V) and atomic units (self.V_au)\n",
    "X.V = X.Vmorse(X.r)\n",
    "\n",
    "\n",
    "print(F'Effective charge of HF is {X.q_au} atomic units')\n",
    "\n",
    "\n",
    "# plot Morse potential in atomic units\n",
    "plt.plot(X.r_au, X.V_au)\n",
    "plt.xlabel(\"Bond length (atomic units)\")\n",
    "plt.ylabel(\"Potential (atomic units)\")\n",
    "plt.show()"
   ]
  },
  {
   "cell_type": "code",
   "execution_count": null,
   "id": "089a5c4f",
   "metadata": {},
   "outputs": [],
   "source": [
    "# calculate an eigenstate of the Morse oscillator\n",
    "# self.psi_si will be normalized in SI units \n",
    "# self.psi_au will be normalized in atomic units\n",
    "\n",
    "# calculate psi_20\n",
    "psi = X.calc_psi_z(3)\n",
    "\n",
    "# check normalization in SI units\n",
    "norm_si = np.trapz(X.psi_si ** 2, X.r)\n",
    "\n",
    "# check normalization in atomic units\n",
    "norm_au = np.trapz(X.psi_au ** 2,  X.r_au)\n",
    "print(F'Norm in au is {norm_au}')\n",
    "print(F'Norm in si is {norm_si}')\n",
    "\n",
    "# plot the normalized eigenfunction in atomic units against the potential in atomic units\n",
    "plt.plot(X.r_au, X.V_au)\n",
    "plt.plot(X.r_au, X.psi_au)\n",
    "#plt.plot(X.r_au, X.r_au-X.r_eq_au)\n",
    "plt.show()"
   ]
  },
  {
   "cell_type": "code",
   "execution_count": null,
   "id": "1bae08fb-6242-44f4-9bc3-0125484e6fa3",
   "metadata": {},
   "outputs": [],
   "source": [
    "print(X.compute_Morse_transition_au(0, 1))\n",
    "print(X.compute_Morse_transition_wn(0, 1))\n",
    "\n",
    "print(X.compute_coupling_element_p_dot_A(0, 1, 1, 2))\n",
    "x_01 = X.position_matrix_element(0,1)\n",
    "deltaE_01 = X.compute_Morse_transition_au(1, 0)\n",
    "\n",
    "\n",
    "print(F'charge: {X.q_au}')\n",
    "print(F'A0: {X.A0_au}')\n",
    "print(F'x_01: {x_01}')\n",
    "print(F'dE_01: {deltaE_01}')\n",
    "\n",
    "total_element = (0+1j) * X.q_au * deltaE_01 * np.sqrt(2) * X.A0_au * x_01\n",
    "print(F'Expected element is {total_element}')\n",
    "agrees = np.isclose(total_element, X.compute_coupling_element_p_dot_A(0, 1, 1, 2))\n",
    "print(F' Agrees: {agrees}')"
   ]
  },
  {
   "cell_type": "markdown",
   "id": "623dddde-221f-439a-beec-30b5cd023e25",
   "metadata": {},
   "source": [
    "Recall the three coupled Hamiltonians:\n",
    "p dot A Hamiltonian,\n",
    "\\begin{equation}\n",
    "    \\hat{H}_{\\rm p \\cdot A} = \\frac{\\hat{p}^2}{2m} + V(\\hat{x})  + \\hbar \\omega \\hat{b}^{\\dagger} \\hat{b} -  \\frac{z}{m} \\hat{p} \\cdot  {\\bf A}_0 ( \\hat{b}^{\\dagger} + \\hat{b}) + \\frac{z^2}{2m}  {\\bf A}_0^2 ( \\hat{b}^{\\dagger} + \\hat{b})^2,\n",
    "\\end{equation}\n",
    "the d dot E Hamiltonian,\n",
    "\\begin{equation}\n",
    "    \\hat{H}_{\\rm d \\cdot E} = \\frac{\\hat{p}^2}{2m} + V(\\hat{x}) + \\hbar \\omega \\hat{b}^{\\dagger} \\hat{b} + i\\omega \\hat{\\mu} \\cdot {\\bf A}_0 ( \\hat{b}^{\\dagger} - \\hat{b}) +\\frac{\\omega_{{\\rm cav}}}{\\hbar} ( \\hat{\\mu} \\cdot {\\bf A}_0)^2\n",
    "\\end{equation}\n",
    "or the Pauli-Fierz (PF) Hamiltonian,\n",
    "\\begin{equation}\n",
    "    \\hat{H}_{\\rm d \\cdot E} = \\frac{\\hat{p}^2}{2m}+ V(\\hat{x}) + \\hbar \\omega \\hat{b}^{\\dagger} \\hat{b} - \\omega \\hat{\\mu} \\cdot {\\bf A}_0 ( \\hat{b}^{\\dagger} + \\hat{b}) +\\frac{\\omega_{{\\rm cav}}}{\\hbar} ( \\hat{\\mu} \\cdot {\\bf A}_0)^2\n",
    "\\end{equation}\n",
    "\n",
    "The matter Hamiltonian terms $\\frac{\\hat{p}^2}{2m} + V(\\hat{x})$ have been solved by either our Morse, quartic perturbation, or finite difference approach and our photon Hamiltonian term $\\hbar \\omega \\hat{b}^{\\dagger} \\hat{b}$ is also already known.  We need to evaluate \n",
    "the additional coupling elements.  For the d.E and PF Hamiltonians, the coupling elements will involve matter matrix elements with of the form \n",
    "\\begin{equation}\n",
    "\\langle \\psi_i | \\hat{\\mu} | \\psi_f \\rangle = z \\langle \\psi_i | \\hat{x} | \\psi_f \\rangle\n",
    "\\end{equation}\n",
    "and the p.A Hamiltonian will have matrix elements of the form\n",
    "\\begin{equation}\n",
    "\\langle \\psi_i | \\hat{p} | \\psi_f \\rangle = i m \\left(E_i - E_f \\right) \\langle \\psi_i | \\hat{x} | \\psi_f \\rangle\n",
    "\\end{equation}\n",
    "where $E_n$ is the energy associated with matter state $n$, $m$ is the reduced mass, and $i$ is the imaginary unit.  Hence, we need to be able to compute matrix elements of the position operator with our matter states.  The following function will accomplish this.\n"
   ]
  },
  {
   "cell_type": "code",
   "execution_count": null,
   "id": "eb007d24-fef0-4686-8899-4de1502dc68d",
   "metadata": {},
   "outputs": [],
   "source": [
    "X.photon_dim = 5\n",
    "X.matter_dim = 5\n",
    "X.build_basis()\n",
    "print(X.basis)\n",
    "print(len(X.basis))"
   ]
  },
  {
   "cell_type": "code",
   "execution_count": null,
   "id": "c4e543df-553b-44bf-9966-f0b0aac2eccd",
   "metadata": {},
   "outputs": [],
   "source": []
  },
  {
   "cell_type": "code",
   "execution_count": null,
   "id": "06f933af-b1e2-45f3-ad93-288ce5fd8e77",
   "metadata": {},
   "outputs": [],
   "source": [
    "X.build_p_dot_A_Hamiltonian()\n",
    "\n",
    "print(X.H_p_dot_A)\n",
    "H_pda = X.H_p_dot_A\n",
    "print(np.allclose(H_pda, H_pda.conj().T))"
   ]
  },
  {
   "cell_type": "code",
   "execution_count": null,
   "id": "7b69cde9-b9ab-4675-a6de-b53cc32258b1",
   "metadata": {},
   "outputs": [],
   "source": [
    "from numpy import linalg as la\n",
    "X.build_d_dot_E_Hamiltonian()\n",
    "X.build_PF_Hamiltonian()\n",
    "print(np.real(X.H_PF) * X.au_to_wn)\n",
    "print((X.H_PF[1,1]-X.H_PF[0,0]) * X.au_to_wn)\n",
    "print(X.omega_p * X.au_to_wn)\n"
   ]
  },
  {
   "cell_type": "code",
   "execution_count": null,
   "id": "de954d16-fff6-4725-b73b-8ade2e700d3b",
   "metadata": {},
   "outputs": [],
   "source": [
    "X.A0_au = 0.001\n",
    "X.build_PF_Hamiltonian()\n",
    "print(X.H_matter * X.au_to_wn)\n",
    "print(X.H_dse * X.au_to_wn)\n",
    "print(X.H_coup * X.au_to_wn)\n",
    "print(X.H_pho * X.au_to_wn)"
   ]
  },
  {
   "cell_type": "code",
   "execution_count": null,
   "id": "6100fe63-bcf7-4ade-97e5-f9b4b2d1e7ce",
   "metadata": {},
   "outputs": [],
   "source": [
    "vals_PdA, vecs_PdA = la.eigh(X.H_p_dot_A)\n",
    "vals_DdE, vecs_EdE = la.eigh(X.H_d_dot_E)\n",
    "vals_PF, vecs_PF = la.eigh(X.H_PF)"
   ]
  },
  {
   "cell_type": "code",
   "execution_count": null,
   "id": "9fb64187-6a9a-461d-bd94-9545ca9377ba",
   "metadata": {},
   "outputs": [],
   "source": [
    "print(vals_DdE[2]-vals_DdE[1])\n",
    "print(vals_PdA[2]-vals_PdA[1])\n",
    "print(vals_PF[2]-vals_PF[1])"
   ]
  },
  {
   "cell_type": "code",
   "execution_count": null,
   "id": "f612b5f1-3ee1-4487-bd83-d34f1ae61181",
   "metadata": {},
   "outputs": [],
   "source": [
    "print(vals_DdE[0])\n",
    "print(vals_PdA[0])\n",
    "print(vals_PF[0])"
   ]
  },
  {
   "cell_type": "code",
   "execution_count": null,
   "id": "e6ec964c-449a-48dc-8485-0acc67caa7e9",
   "metadata": {},
   "outputs": [],
   "source": [
    "\n",
    "A_vals = np.array([0, 0.002, 0.004, 0.006, 0.008, 0.010, 0.012, 0.014, 0.016, 0.018, 0.02]) * 50\n",
    "from matplotlib import pyplot as plt\n",
    "\n",
    "pda_vals = np.zeros((11,10))\n",
    "dde_vals = np.zeros((11,10))\n",
    "pf_vals = np.zeros((11,10))\n",
    "\n",
    "idx = 0\n",
    "for Av in A_vals:\n",
    "    X.A0_au = Av\n",
    "    X.build_d_dot_E_Hamiltonian()\n",
    "    X.build_p_dot_A_Hamiltonian()\n",
    "    X.build_PF_Hamiltonian()\n",
    "    vals_PdA, vecs_PdA = la.eigh(X.H_p_dot_A)\n",
    "    vals_DdE, vecs_EdE = la.eigh(X.H_d_dot_E)\n",
    "    vals_PF, vecs_PF = la.eigh(X.H_PF)\n",
    "    pda_vals[idx,:] = vals_PdA[:10]\n",
    "    dde_vals[idx,:] = vals_DdE[:10]\n",
    "    pf_vals[idx,:] = vals_PF[:10]\n",
    "    idx += 1\n",
    "\n",
    "    \n",
    "    \n"
   ]
  },
  {
   "cell_type": "code",
   "execution_count": null,
   "id": "567193be-8467-4618-978b-19ad85a913c5",
   "metadata": {},
   "outputs": [],
   "source": [
    "#plt.plot(A_vals, pda_vals[:,0], label=\"p.A\")\n",
    "#plt.plot(A_vals, dde_vals[:,0], label=\"d.E\")\n",
    "#plt.plot(A_vals, pf_vals[:,0])\n",
    "#plt.plot(A_vals, pf_vals[:,0], label=\"PF |0>\")\n",
    "#plt.plot(A_vals, pf_vals[:,1], label=\"PF |1>\")\n",
    "#plt.plot(A_vals, pf_vals[:,2], label=\"PF |2>\")\n",
    "plt.plot(A_vals, pf_vals[:,3], label=\"PF |3>\")\n",
    "plt.plot(A_vals, pf_vals[:,4], label=\"PF |4>\")\n",
    "#plt.plot(A_vals, pf_vals[:,5], label=\"PF |5>\")\n",
    "#plt.plot(A_vals, pf_vals[:,2])\n",
    "plt.legend()\n",
    "plt.show()\n",
    "\n",
    "plt.plot(A_vals, pda_vals[:,1] * X.au_to_wn, label=\"p.A\")\n",
    "plt.plot(A_vals, dde_vals[:,1] * X.au_to_wn, label=\"d.E\")\n",
    "plt.plot(A_vals, pf_vals[:,1] * X.au_to_wn, 'ro', label=\"PF\")\n",
    "plt.plot(A_vals, pda_vals[:,2] * X.au_to_wn, label=\"p.A\")\n",
    "plt.plot(A_vals, dde_vals[:,2] * X.au_to_wn, label=\"d.E\")\n",
    "plt.plot(A_vals, pf_vals[:,2] * X.au_to_wn, 'ro', label=\"PF\")\n",
    "#plt.plot(A_vals, pf_vals[:,2])\n",
    "plt.legend()\n",
    "\n",
    "plt.show()\n"
   ]
  },
  {
   "cell_type": "code",
   "execution_count": null,
   "id": "80b688d0-abf4-49b3-ba43-f6c834fe5683",
   "metadata": {},
   "outputs": [],
   "source": [
    "x_avg = X.position_matrix_element(0, 0)\n",
    "print(x_avg * X.q_au)\n",
    "print(X.au_to_wn)"
   ]
  },
  {
   "cell_type": "code",
   "execution_count": null,
   "id": "d99d7f34-d095-4037-9317-0cc2e84d7730",
   "metadata": {},
   "outputs": [],
   "source": [
    "dipole_exp_00 = -0.8255014706095443\n",
    "dipole_in = -0.8113388 \n",
    "_expected_Rabi = 9.287223303551098"
   ]
  },
  {
   "cell_type": "code",
   "execution_count": null,
   "id": "d73d532f-baee-41a1-b344-39cf7f9be393",
   "metadata": {},
   "outputs": [],
   "source": [
    "print(dipole_in -0.014162670609544311)"
   ]
  },
  {
   "cell_type": "code",
   "execution_count": null,
   "id": "d1dea9a7-ce2d-49f0-9e26-aab381afe077",
   "metadata": {},
   "outputs": [],
   "source": [
    "Rabi_Splitting = (pf_vals[10,2] - pf_vals[10,1]) * X.au_to_wn"
   ]
  },
  {
   "cell_type": "code",
   "execution_count": null,
   "id": "0349d0b3-f74d-4e68-8496-175475fdb9a2",
   "metadata": {},
   "outputs": [],
   "source": [
    "print(Rabi_Splitting)"
   ]
  },
  {
   "cell_type": "code",
   "execution_count": null,
   "id": "68f0872c-f4c7-43fc-9bca-ad882e78ee1e",
   "metadata": {},
   "outputs": [],
   "source": [
    "pf_vals[10,0] * X.au_to_wn"
   ]
  },
  {
   "cell_type": "code",
   "execution_count": null,
   "id": "7afdab51-41c5-4f80-ba3b-0c2929f25f22",
   "metadata": {},
   "outputs": [],
   "source": [
    "PF_Ground_State_displaced_x_hat = 4060.4789770537204"
   ]
  },
  {
   "cell_type": "code",
   "execution_count": null,
   "id": "4e3862f2-3d05-46c3-9cf3-8a4cc5468a1a",
   "metadata": {},
   "outputs": [],
   "source": []
  }
 ],
 "metadata": {
  "kernelspec": {
   "display_name": "Python 3 (ipykernel)",
   "language": "python",
   "name": "python3"
  },
  "language_info": {
   "codemirror_mode": {
    "name": "ipython",
    "version": 3
   },
   "file_extension": ".py",
   "mimetype": "text/x-python",
   "name": "python",
   "nbconvert_exporter": "python",
   "pygments_lexer": "ipython3",
   "version": "3.9.18"
  }
 },
 "nbformat": 4,
 "nbformat_minor": 5
}
