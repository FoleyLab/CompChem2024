{
 "cells": [
  {
   "cell_type": "code",
   "execution_count": 1,
   "id": "921e5cb9-076b-4366-b63c-905924d7f490",
   "metadata": {},
   "outputs": [
    {
     "ename": "ImportError",
     "evalue": "cannot import name 'core' from partially initialized module 'psi4' (most likely due to a circular import) (/Users/jfoley19/Code/psi4/objdir-Release/stage/lib/psi4/__init__.py)",
     "output_type": "error",
     "traceback": [
      "\u001b[0;31m---------------------------------------------------------------------------\u001b[0m",
      "\u001b[0;31mImportError\u001b[0m                               Traceback (most recent call last)",
      "Cell \u001b[0;32mIn[1], line 1\u001b[0m\n\u001b[0;32m----> 1\u001b[0m \u001b[38;5;28;01mimport\u001b[39;00m \u001b[38;5;21;01mpsi4\u001b[39;00m\n\u001b[1;32m      2\u001b[0m \u001b[38;5;28;01mimport\u001b[39;00m \u001b[38;5;21;01mnumpy\u001b[39;00m \u001b[38;5;28;01mas\u001b[39;00m \u001b[38;5;21;01mnp\u001b[39;00m\n\u001b[1;32m      5\u001b[0m options_dict \u001b[38;5;241m=\u001b[39m {\n\u001b[1;32m      6\u001b[0m     \u001b[38;5;124m\"\u001b[39m\u001b[38;5;124mbasis\u001b[39m\u001b[38;5;124m\"\u001b[39m: \u001b[38;5;124m\"\u001b[39m\u001b[38;5;124mcc-pVDZ\u001b[39m\u001b[38;5;124m\"\u001b[39m,\n\u001b[1;32m      7\u001b[0m     \u001b[38;5;124m\"\u001b[39m\u001b[38;5;124me_convergence\u001b[39m\u001b[38;5;124m\"\u001b[39m: \u001b[38;5;241m1e-10\u001b[39m,\n\u001b[1;32m      8\u001b[0m     \u001b[38;5;124m\"\u001b[39m\u001b[38;5;124md_convergence\u001b[39m\u001b[38;5;124m\"\u001b[39m: \u001b[38;5;241m1e-10\u001b[39m,\n\u001b[1;32m      9\u001b[0m }\n",
      "File \u001b[0;32m~/Code/psi4/objdir-Release/stage/lib/psi4/__init__.py:71\u001b[0m\n\u001b[1;32m     68\u001b[0m data_dir \u001b[38;5;241m=\u001b[39m \u001b[38;5;28mstr\u001b[39m(data_dir)\n\u001b[1;32m     70\u001b[0m \u001b[38;5;66;03m# Init core\u001b[39;00m\n\u001b[0;32m---> 71\u001b[0m \u001b[38;5;28;01mfrom\u001b[39;00m \u001b[38;5;21;01m.\u001b[39;00m \u001b[38;5;28;01mimport\u001b[39;00m core\n\u001b[1;32m     73\u001b[0m \u001b[38;5;28;01mfrom\u001b[39;00m \u001b[38;5;21;01mpsi4\u001b[39;00m\u001b[38;5;21;01m.\u001b[39;00m\u001b[38;5;21;01mcore\u001b[39;00m \u001b[38;5;28;01mimport\u001b[39;00m get_num_threads, set_num_threads\n\u001b[1;32m     74\u001b[0m core\u001b[38;5;241m.\u001b[39minitialize()\n",
      "\u001b[0;31mImportError\u001b[0m: cannot import name 'core' from partially initialized module 'psi4' (most likely due to a circular import) (/Users/jfoley19/Code/psi4/objdir-Release/stage/lib/psi4/__init__.py)"
     ]
    }
   ],
   "source": [
    "import psi4\n",
    "import numpy as np\n",
    "\n",
    "\n",
    "options_dict = {\n",
    "    \"basis\": \"cc-pVDZ\",\n",
    "    \"e_convergence\": 1e-10,\n",
    "    \"d_convergence\": 1e-10,\n",
    "}\n",
    "mol = psi4.geometry(\"pubchem:benzene\")\n",
    "psi4.set_options(options_dict)\n",
    "psi4.energy('ccsd')\n",
    "\n"
   ]
  },
  {
   "cell_type": "code",
   "execution_count": null,
   "id": "42292831-6136-4195-9296-995e68c51ff7",
   "metadata": {},
   "outputs": [],
   "source": []
  }
 ],
 "metadata": {
  "kernelspec": {
   "display_name": "Python 3 (ipykernel)",
   "language": "python",
   "name": "python3"
  },
  "language_info": {
   "codemirror_mode": {
    "name": "ipython",
    "version": 3
   },
   "file_extension": ".py",
   "mimetype": "text/x-python",
   "name": "python",
   "nbconvert_exporter": "python",
   "pygments_lexer": "ipython3",
   "version": "3.12.3"
  }
 },
 "nbformat": 4,
 "nbformat_minor": 5
}
