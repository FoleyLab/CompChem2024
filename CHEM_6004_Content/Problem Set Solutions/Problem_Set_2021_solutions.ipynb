{
 "cells": [
  {
   "cell_type": "markdown",
   "metadata": {},
   "source": [
    "**Problems for Quantum Materials Chemistry – Due Friday, March 13th at 4:00 pm**\n",
    "A 1-time 10 point deduction will be made for problem sets submitted after 4:00 pm on Friday, March 8th.  \n",
    "\n",
    "Each question is worth 20 points.\n",
    "\n",
    "You are expected to adhere to the collaboration policy described in the syllabus.  As such, if you discuss strategies for solving problems with other students, you must declare this in the problem set solution you submit.  Sharing solutions with other students does not constitute acceptable collaboration, even if declared, and will be treated as academic dishonesty.\n"
   ]
  },
  {
   "cell_type": "markdown",
   "metadata": {},
   "source": [
    "1.  Consider an electron in a 1-D box of length $L=1$ nm that has energy eigenstates given by \n",
    "\\begin{equation}\n",
    "\\psi_n(x) = \\sqrt{2} {\\rm sin}(n \\pi x)\n",
    "\\end{equation}\n",
    "when $x$ has units of nanometers.  Now consider that an atomically-precise hammer is used to deform the bottom of the box such that the electron feels an effective potential given by \n",
    "\\begin{equation}\n",
    "V(x) = V(x)= -2(x-0.5)^3+0.5.\n",
    "\\end{equation}\n",
    "\n",
    "    a.  Compute the energy expectation value of an electron described by $\\psi_1(x)$ after the box is deformed.\n",
    "\n",
    "    b.  Explain if you think the original energy eigenstates, $\\psi_n(x)$, are stationary states in the deformed box.  \n",
    "**Solution to 1.a**\n",
    "\n",
    "**Note** *The length was supposed to be 1 atomic unit, not 1 nanometer!*  \n",
    "\n",
    "In atomic units, we have\n",
    "the original particle in a box Hamiltonian as \n",
    "\n",
    "$$ \\hat{H}_0 = \\frac{-\\hbar^2}{2m} \\frac{d^2}{dx^2} = \\frac{-1}{2} \\frac{d^2}{dx^2} $$ \n",
    "since the electron mass $m$ and reduced Planck's constant $\\hbar$ are 1 in atomic units.\n",
    "The Hamiltonian for the deformed box is therefore\n",
    "\n",
    "$$ \\hat{H} = \\frac{-1}{2} \\frac{d^2}{dx^2} + V(x) = \\hat{H}_0 + V(x) $$\n",
    "\n",
    "The functions $\\psi_n(x) = \\sqrt{2} {\\rm sin}(n \\pi x)$ are eigenfunctions of $\\hat{H}_0$:\n",
    "\n",
    "$$ \\hat{H}_0 \\psi_n(x) = E_n \\psi_n(x) $$\n",
    "\n",
    "where \n",
    "\n",
    "$$ E_n = \\frac{\\hbar^2 \\pi^2 n^2}{2 m L^2} =\\frac{\\pi^2 n^2}{2}  $$ \n",
    "\n",
    "since again, the electron mass $m$, reduced Planck's constant $\\hbar$, and the box length $L$ are all 1 in atomic units.\n",
    "\n",
    "The energy expectation value of $\\psi_1(x)$ is therefore\n",
    "\\begin{align}\n",
    " \\langle E \\rangle &= \\langle \\psi_1(x) | \\hat{H} | \\psi_1(x) \\rangle \\\\\n",
    " &= \\langle \\psi_1(x) | \\hat{H}_0 + V(x) | \\psi_1(x) \\rangle \\\\\n",
    " &= \\langle \\psi_1(x) | \\hat{H}_0 | \\psi_1(x) \\rangle + \\langle \\psi_1(x) | V(x) | \\psi_1(x) \\rangle \\\\ \n",
    " &= \\langle \\psi_1(x) | E_1 | \\psi_1(x) \\rangle + \\langle \\psi_1(x) | V(x) | \\psi_1(x) \\rangle \\\\\n",
    " &= E_1 \\langle \\psi_1(x) | \\psi_1(x) \\rangle + \\langle \\psi_1(x) | V(x) | \\psi_1(x) \\rangle \\\\\n",
    " &= E_1 + \\langle \\psi_1(x) | V(x) | \\psi_1(x) \\rangle \\\\\n",
    " &= \\frac{\\pi^2}{2} + \\langle \\psi_1(x) | V(x) | \\psi_1(x) \\rangle. \n",
    "\\end{align}\n",
    "So, we need only to compute the integral \n",
    "$$ \\langle \\psi_1(x) | V(x) | \\psi_1(x) \\rangle = \\int_0^1 \\psi_1(x) \\left(-2(x-0.5)^3+0.5 \\right) \\psi_1(x) dx. $$\n",
    "\n",
    "You may compute this integral in a variety of ways, including using Wolfram Alpha, but I will compute it\n",
    "numerically using the numpy function `trapz(y, x)` that uses the trapezoid rule to integrate the function\n",
    "stored in the array `y` along the x-variable stored in `x`.\n"
   ]
  },
  {
   "cell_type": "code",
   "execution_count": 42,
   "metadata": {},
   "outputs": [
    {
     "name": "stdout",
     "output_type": "stream",
     "text": [
      " energy expectation value is:  5.434802200544679 atomic units\n",
      " eigenvalue of psi_1 in the unperturbed box:  4.934802200544679 atomic units\n"
     ]
    },
    {
     "data": {
      "image/png": "[encoded data removed]",
      "text/plain": [
       "<Figure size 432x288 with 1 Axes>"
      ]
     },
     "metadata": {
      "needs_background": "light"
     },
     "output_type": "display_data"
    }
   ],
   "source": [
    "import numpy as np\n",
    "from matplotlib import pyplot as plt\n",
    "\n",
    "# length of the box in atomic units\n",
    "L = 1\n",
    "\n",
    "# array for x values in atomic units\n",
    "x = np.linspace(0,L,100)\n",
    "\n",
    "# array for psi_1\n",
    "psi_1 = np.sqrt(2/L) * np.sin(np.pi * x / L)\n",
    "\n",
    "# array for the potential in atomic units\n",
    "Vx = -2 * (x - 0.5)**3 + 0.5\n",
    "\n",
    "# let's just plot this stuff to see what it looks like\n",
    "plt.plot(x, psi_1, 'red')\n",
    "plt.plot(x, Vx, 'blue')\n",
    "\n",
    "# the energy expectation value will be the integral from 0 to 1 of psi_1 * Vx * psi_1\n",
    "integrand = psi_1 * Vx * psi_1\n",
    "# compute the integral\n",
    "integral = np.trapz(integrand, x)\n",
    "# get the expectation value with H_0, which is just the first energy eigenvalue\n",
    "E1 = np.pi**2 / 2\n",
    "expectation =  E1 + integral\n",
    "\n",
    "print(\" energy expectation value is: \", expectation, \"atomic units\")\n",
    "print(\" eigenvalue of psi_1 in the unperturbed box: \", E1, \"atomic units\")"
   ]
  },
  {
   "cell_type": "markdown",
   "metadata": {},
   "source": [
    "**solution to 1.b**  \n",
    "Stationary states must be eigenfunctions of the Hamiltonian.  \n",
    "We can test $\\psi_n(x)$ with the perturbed Hamiltonian to see if it is an eigenstate.\n",
    "In particular, if it is an eigenstate, then the following will be true:\n",
    "\n",
    "\\begin{align}\n",
    "\\frac{ \\hat{H} \\psi_n(x)}{\\psi_n(x)} &=  \\frac{ \\left(\\hat{H}_0 + V(x) \\right)\\psi_n(x)}{\\psi_n(x)} \\\\\n",
    "&= \\frac{ \\hat{H}_0 \\psi_n(x) + V(x) \\psi_n(x)}{\\psi_n(x)} \\\\\n",
    "&= \\frac{ E_n \\psi_n(x) + V(x) \\psi_n(x)}{\\psi_n(x)} \\\\\n",
    "&= \\frac{ \\left(E_n + V_n \\right)\\psi_n(x)}{\\psi_n(x)} = E_n + V_n,\n",
    "\\end{align}\n",
    "where $V_n$ is just a constant.  In other words, we can just see if $\\psi_n(x)$ is an eigenfunction of\n",
    "$V(x)$, and if it is not, then $\\psi_n(x)$ cannot be an eigenfunction of $\\hat{H}$.\n",
    "\n",
    "One way to see if this is the case is to just plot $\\frac{V(x)\\psi_1(x)}{\\psi_1(x)}$ and see if it is a constant for all values of $x$ or not.  We see below that it is not, so then we know that $\\psi_n(x)$ is not generally\n",
    "an eigenfunction of $\\hat{H}$, which means they are not stationary states.\n"
   ]
  },
  {
   "cell_type": "code",
   "execution_count": 43,
   "metadata": {},
   "outputs": [
    {
     "name": "stderr",
     "output_type": "stream",
     "text": [
      "<ipython-input-43-a5a94178241a>:2: RuntimeWarning: invalid value encountered in true_divide\n",
      "  plt.plot(x, Vx*psi_1/psi_1)\n"
     ]
    },
    {
     "data": {
      "text/plain": [
       "[<matplotlib.lines.Line2D at 0x7f86403b8b20>]"
      ]
     },
     "execution_count": 43,
     "metadata": {},
     "output_type": "execute_result"
    },
    {
     "data": {
      "image/png": "[encoded data removed]",
      "text/plain": [
       "<Figure size 432x288 with 1 Axes>"
      ]
     },
     "metadata": {
      "needs_background": "light"
     },
     "output_type": "display_data"
    }
   ],
   "source": [
    "# plot to test of psi_1 is an eigenfunction of Vx\n",
    "plt.plot(x, Vx*psi_1/psi_1)"
   ]
  },
  {
   "cell_type": "markdown",
   "metadata": {},
   "source": [
    "2.  Considering the modified box in Question 1, write down the Hamiltonian operator after the box has been modified.  Using this Hamiltonian, use the linear variational method and a basis of the first 10 energy eigenstates of the ordinary particle in a box to estimate the ground state energy of the modified system.\n",
    "\n",
    "**Solution 2** \n",
    "The Hamiltonian of the modified system, in atomic units, is\n",
    "\n",
    "$$ \\hat{H} = \\frac{-1}{2} \\frac{d^2}{dx^2} -2 \\left(x - 0.5\\right)^3 + 0.5 $$.\n",
    "To use the linear variational method, we will build and diagonalize a Hamiltonian matrix with elements defined by\n",
    "\n",
    "\\begin{align}\n",
    "H_{nm} &= \\langle \\psi_n(x) | \\hat{H} | \\psi_m(x) \\rangle \\\\\n",
    " &= \\langle \\psi_n(x) | \\hat{H}_0 + V(x) | \\psi_m(x) \\rangle \\\\\n",
    " &= \\langle \\psi_n(x) | \\hat{H}_0 | \\psi_m(x) \\rangle + \\langle \\psi_n(x) | V(x) | \\psi_m(x) \\rangle \\\\ \n",
    " &= \\langle \\psi_n(x) | E_m | \\psi_m(x) \\rangle + \\langle \\psi_n(x) | V(x) | \\psi_m(x) \\rangle \\\\\n",
    " &= E_m \\langle \\psi_n(x) | \\psi_m(x) \\rangle + \\langle \\psi_n(x) | V(x) | \\psi_m(x) \\rangle \\\\\n",
    " &=  E_m \\delta_{nm} + \\langle \\psi_n(x) | V(x) | \\psi_m(x) \\rangle.\n",
    "\\end{align}\n",
    "with $n, m \\in [1...10]$.\n",
    "\n",
    "We will write a python function to compute the matrix elements, create\n",
    "a numpy array for ${\\bf H}$, then loop through\n",
    "$n$ and $m$ values to compute and store the elements of ${\\bf H}$, then\n",
    "diagonalize it using numpys `eig` function.\n",
    "\n",
    "**The lowest energy eigenvalue in this basis is found to be 5.434748443809412 atomic units**\n"
   ]
  },
  {
   "cell_type": "code",
   "execution_count": 45,
   "metadata": {},
   "outputs": [
    {
     "name": "stdout",
     "output_type": "stream",
     "text": [
      "5.434748443809412\n",
      "[ 9.99998322e-01 -1.81351567e-03  5.15318484e-07 -2.56242489e-04\n",
      "  1.96268124e-07 -3.27909166e-05  3.05276686e-08 -7.67338646e-06\n",
      " -6.23986934e-09 -2.49673048e-06]\n"
     ]
    }
   ],
   "source": [
    "### function to compute Hamiltonian matrix elements\n",
    "### we will pass it the quantum numbers, the\n",
    "### array of x values, and the potential evaluated along x\n",
    "def H_nm(n, m, x, potential):\n",
    "    # compute psi_n\n",
    "    psi_n = np.sqrt(2) * np.sin(n * np.pi * x)\n",
    "    # compute psi_m \n",
    "    psi_m = np.sqrt(2) * np.sin(m * np.pi * x)\n",
    "    # compute psi_n * potential * psi_m integrand\n",
    "    integrand = psi_n * potential * psi_m\n",
    "    \n",
    "    # integral over psi_n potential psi_m always contributes to matrix element\n",
    "    matrix_element = np.trapz(integrand, x)\n",
    "    \n",
    "    # if n==m, then E_m also contributes\n",
    "    if n==m:\n",
    "        matrix_element += np.pi**2 * m**2 / 2\n",
    "    \n",
    "    return matrix_element\n",
    "\n",
    "### create numpy array for H\n",
    "H = np.zeros((10,10))\n",
    "\n",
    "for i in range(1,11):\n",
    "    for j in range(1,11):\n",
    "        H[i-1,j-1] = H_nm(i, j, x, Vx)\n",
    "        \n",
    "    \n",
    "\n",
    "### compute eigenvalues and eigenvectors of H_mat\n",
    "### store eigenvalues to E_opt and eigenvectors to c_opt\n",
    "### note using np.linalg.eigh() will sort the\n",
    "### eigenpairs starting from lowest eigenvalue\n",
    "E_opt, c_opt = np.linalg.eigh(H)\n",
    "\n",
    "\n",
    "### print lowest eigenvalues corresponding to the \n",
    "### variational estimate of the ground state energy\n",
    "print(E_opt[0])\n",
    "\n",
    "### print coefficients that define the trial wavefunction with the lowest eigenvalue\n",
    "### which corresponds to the variational estimate of the ground state wavefunction\n",
    "print(c_opt[0])"
   ]
  },
  {
   "cell_type": "markdown",
   "metadata": {},
   "source": [
    "3.  Considering the modified box in Question 1, compute the first-order correction to the ground-state energy eigenfunction and the 2nd-order correction to the ground-state energy according to perturbation theory.  The general expression for the first-order correction to the energy eigenfunctions is\n",
    "\n",
    "\\begin{equation}\n",
    "|\\psi_n^{(1)}(x) \\rangle = \\sum_{m \\neq n} \\frac{\\langle \\psi_m^{(0)}(x) | V(x) |\\psi_n^{(0)}(x) \\rangle }{E_n^{(0)} - E_m^{(0)}} |\\psi_m^{(0)}(x) \\rangle,\n",
    "\\end{equation}\n",
    "\n",
    "and the general expression for the second-order correction to the energy eigenvalues is\n",
    "\n",
    "\\begin{equation}\n",
    "E_n^{(2)} = \\sum_{m \\neq n} \\frac{|\\langle \\psi_m^{(0)}(x) | V(x) | \\psi_n^{(0)}(x) \\rangle|^2}{E_n^{(0)} - E_m^{(0)}}.\n",
    "\\end{equation}\n",
    "\n",
    "Once again, use the first 10 energy eigenstates of the ordinary particle in a box in these expressions and\n",
    "\n",
    "  a. Plot the first-order corrected ground-state wavefunction against the unperturbed ground-state and the \n",
    "  variational ground-state\n",
    "  \n",
    "  b.  Compare the second-order corrected ground-state energy against the unperturbed ground-state energy and the variational energy.\n",
    "  \n",
    "\n",
    "**Solution to 3.a**\n",
    "In perturbation theory, the notation $|\\psi_m^{(0)}\\rangle$ denotes the eigenfunctions of the unperturbed \n",
    "system (these are also called the \"zero-th order eigenfunctions\"), and $E_m^{(0)}$ are the eigenvalues\n",
    "of the unperturbed system (these are also \"zero-th order energies\").  Therefore, we can say the following\n",
    "\n",
    "$$ \\hat{H}_0 |\\psi_m^{(0)}\\rangle = E_m^{(0)}|\\psi_m^{(0)}\\rangle, $$\n",
    "\n",
    "where just as before (in atomic units), \n",
    "\n",
    "$$  \\hat{H}_0 = -\\frac{1}{2} \\frac{d^2}{dx^2}, $$\n",
    "\n",
    "\n",
    "$$ E_m^{(0)} = \\frac{\\pi^2 m^2}{2}, $$\n",
    "\n",
    "and \n",
    "\n",
    "$$ \\psi_m^{(0)} = \\sqrt{2} {\\rm sin}\\left(m \\pi x\\right). $$\n",
    "\n",
    "\n",
    "This means that all of the integrals required for the pertubative expansion of $|\\psi_n^{(1)}(x) \\rangle$ (the first-order eigenfunctions) and $E_n^{(2)}$ (the second-order energies) involve functions you already know.  Isn't that exciting??? Yes it is.  In fact, things will work very similarly to our construction of the ${\\bf H}$ matrix for problem 2, though only the perturbing potential is involved and the terms are scaled by the inverse of energy differences.  We will create a function that computes either $\\frac{\\langle \\psi_m^{(0)}(x) | V(x) |\\psi_n^{(0)}(x) \\rangle }{E_n^{(0)} - E_m^{(0)}}$ or $\\frac{|\\langle \\psi_m^{(0)}(x) | V(x) | \\psi_n^{(0)}(x) \\rangle|^2}{E_n^{(0)} - E_m^{(0)}}$ depending on if we want the first-order eigenfunctions or the second-order energies.\n",
    "\n",
    "**(a) From the plots below, we see that $\\psi_1^{(1)}$ is very small compared to $\\psi_1^{(0)}$, which suggests the perturbation is pretty small!**\n",
    "\n",
    "**(b) From the calculation below, we see that $E_1^{(2)} = -5.375 \\cdot 10^{-5}$, and that $E_1^{(0)} + E_1^{(2)} = 4.93474$ atomic units.  We found from the variational method that the ground state energy was $E_{var} = 5.43474$ atomic units.  We should caution that the first-order energy correction should be computed as well for apt comparison between the perturbative and the variational approximation!**"
   ]
  },
  {
   "cell_type": "code",
   "execution_count": 46,
   "metadata": {},
   "outputs": [
    {
     "data": {
      "image/png": "[encoded data removed]",
      "text/plain": [
       "<Figure size 432x288 with 1 Axes>"
      ]
     },
     "metadata": {
      "needs_background": "light"
     },
     "output_type": "display_data"
    },
    {
     "data": {
      "image/png": "[encoded data removed]",
      "text/plain": [
       "<Figure size 432x288 with 1 Axes>"
      ]
     },
     "metadata": {
      "needs_background": "light"
     },
     "output_type": "display_data"
    },
    {
     "name": "stdout",
     "output_type": "stream",
     "text": [
      " Second-order energy correction is  -5.3756642426767774e-05\n",
      " 0th-order energy is 4.934802200544679\n",
      " E_1^(0) + E_1^(2) is 4.934748443902253\n"
     ]
    }
   ],
   "source": [
    "# function to compute the perturbative term for the\n",
    "# first-order eigenfunctions (if kind='first') or \n",
    "# second-order energy (if kind='second') \n",
    "# for state 'n' involving state 'm' with 'potential' evaluated along 'x'\n",
    "# !!! This will be generic for any state, and to compute the\n",
    "#     corrections for the ground-state, we will set n = 1 !!!\n",
    "def perturbation_element(n, m, x, potential, kind):\n",
    "    \n",
    "    # psi_n^(0)\n",
    "    psi_n = np.sqrt(2) * np.sin(n*np.pi*x)\n",
    "    # psi_m\n",
    "    psi_m = np.sqrt(2) * np.sin(m*np.pi*x)\n",
    "    \n",
    "    # E_n^(0)\n",
    "    E_n = n**2 * np.pi**2 / 2\n",
    "    # E_m^(0)\n",
    "    E_m = m**2 * np.pi**2 / 2\n",
    "    \n",
    "    # denominator\n",
    "    denominator = E_n - E_m\n",
    "    \n",
    "    # integrand for numerator\n",
    "    integrand = psi_m * potential * psi_n\n",
    "    \n",
    "    # integral for numerator\n",
    "    numerator_integral = np.trapz(integrand, x)\n",
    "    \n",
    "    # numerator if kind=='first'\n",
    "    if kind=='first':\n",
    "        numerator = numerator_integral\n",
    "    # nuerator if kind=='second'\n",
    "    elif kind=='second':\n",
    "        numerator = numerator_integral**2\n",
    "    # default will be for the first-order eigenfunctions\n",
    "    else:\n",
    "        numerator = numerator_integral\n",
    "    \n",
    "    return numerator / denominator\n",
    "\n",
    "\n",
    "# !!! ok let's call this thing to compute the first order correction to the ground-state wavefunction!\n",
    "\n",
    "# first create an empty array the same length as psi_1\n",
    "psi_first_order = np.zeros_like(psi_1)\n",
    "\n",
    "# now loop from m = 2 to 10 and add corrections to this function\n",
    "for m in range(2, 11):\n",
    "    # get zeroth order psi_m^(0)\n",
    "    psi_m_0_order = np.sqrt(2) * np.sin(m * np.pi * x)\n",
    "    # get weight of psi_m^(0) to the perturbative correction to psi_1^(1)\n",
    "    weight = perturbation_element(1, m, x, Vx, 'first')\n",
    "    # update psi_first_order\n",
    "    psi_first_order += weight * psi_m_0_order\n",
    "    \n",
    "\n",
    "plt.plot(x, psi_first_order, 'red', label='$\\psi_1^{(1)}$')\n",
    "plt.legend()\n",
    "plt.show()\n",
    "\n",
    "plt.plot(x, psi_1, 'blue', label='$\\psi_1^{(0)}$')\n",
    "plt.plot(x, psi_1+psi_first_order, 'g--', label='$\\psi_1^{(0)}+\\psi_1^{(1)}$')\n",
    "plt.legend()\n",
    "plt.show()\n",
    "\n",
    "\n",
    "# !!! OK let's now call this thing to compute the second order correction to the ground-state energy!\n",
    "\n",
    "# initialize the second order energy correction\n",
    "E_1_second_order = 0\n",
    "\n",
    "# now loop from m = 2 to 10 and add corrections to the energy\n",
    "for m in range(2, 11):\n",
    "    # update energy\n",
    "    E_1_second_order += perturbation_element(1, m, x, Vx, 'second')\n",
    "\n",
    "print(\" Second-order energy correction is \", E_1_second_order)\n",
    "print(\" 0th-order energy is\", np.pi**2/2)\n",
    "print(\" E_1^(0) + E_1^(2) is\", np.pi**2/2 + E_1_second_order)"
   ]
  },
  {
   "cell_type": "markdown",
   "metadata": {},
   "source": [
    "4. Use the following function as a trial wavefunction for the particle-in-a-box groundstate:\n",
    "\\begin{equation}\n",
    "\\phi(x) = c_1 x (L - x) + c_2 x (L-x)^2 + c_3 x^4(L-x) + c_4 x^2(L-x)^2.\n",
    "\\end{equation}\n",
    "Compare the energy expectation value of $\\phi(x)$ to $\\psi_1(x)$, the true ground state of the particle in a box of length $L$.  Discuss whether or not this result is consistent with the Variational principle.\n",
    "\n",
    "**Solution** To compute the energy expectation value, we need to apply the un-perturbed particle in a box Hamiltonian on $\\phi(x)$ and then project the result onto $\\phi(x)$ and integrate, while also dividing by integral of the square modulus of $\\phi(x)$:\n",
    "\n",
    "\\begin{align} \n",
    "\\langle E \\rangle &= \\frac{\\int_0^L \\phi(x) \\hat{H} \\phi(x) }{\\int_0^L \\phi(x) \\phi(x) dx} \\\\\n",
    "\\newline \n",
    "&= -\\frac{\\int_0^L \\phi(x) \\frac{1}{2} \\frac{d^2}{dx^2} \\phi(x) }{\\int_0^L \\phi(x) \\phi(x) dx} \\\\\n",
    "\\newline\n",
    "&= -\\frac{1\\int_0^L \\phi(x)  \\phi''(x) }{2 \\int_0^L \\phi(x) \\phi(x) dx}\n",
    "\\end{align}\n",
    "\n",
    "Of course, we can take the second derivative of $\\phi(x)$ with respect to $x$ by hand, but we might as well\n",
    "use python to do it.  Recall that we can fit a spline to functions in python using \n",
    "scipy's `InterpolatedUnivariateSpline` function and then easily generate the derivatives of splines with simple commands.  This is how we will approach this problem, and then we will once again \n",
    "take the integrals using numpy's `trapz` function.\n",
    "\n",
    " \n",
    "**Final Answer: Expectation value of this trial function is  5.047467758406873 atomic units\n",
    "while the True ground state energy is  4.934802200544679 atomic units; this is consistent\n",
    "with the variational principle which guarantees that the energy expectation value of any trial wavefunction\n",
    "must be greater than or equal to the true ground state energy.**  \n"
   ]
  },
  {
   "cell_type": "code",
   "execution_count": 52,
   "metadata": {},
   "outputs": [
    {
     "name": "stdout",
     "output_type": "stream",
     "text": [
      " Expectation value of this trial function is  5.047467758406873 atomic units\n",
      " True ground state energy is  4.934802200544679 atomic units\n"
     ]
    },
    {
     "data": {
      "image/png": "[encoded data removed]",
      "text/plain": [
       "<Figure size 432x288 with 1 Axes>"
      ]
     },
     "metadata": {
      "needs_background": "light"
     },
     "output_type": "display_data"
    }
   ],
   "source": [
    "from scipy.interpolate import InterpolatedUnivariateSpline\n",
    "\n",
    "# compute the phi function and store to an array the same length as x\n",
    "phi_x = x*(L-x) + x*(L-x)**2 + x**4*(L-x) + x**2*(L-x)**2\n",
    "\n",
    "# let's plot this to see how it looks!\n",
    "# plot against psi_1(x) for fun!\n",
    "plt.plot(x, phi_x, 'red', label='$\\phi(x)$')\n",
    "plt.plot(x, psi_1, 'blue', label='$\\psi_1(x)$')\n",
    "plt.legend()\n",
    "\n",
    "# fit a spline to phi_x\n",
    "phi_spline = InterpolatedUnivariateSpline(x, phi_x, k=3)\n",
    "\n",
    "# take first derivative of the phi spline\n",
    "phi_p_spline = phi_spline.derivative()\n",
    "\n",
    "# take the second derivative of the phi spline\n",
    "phi_pp_spline = phi_p_spline.derivative()\n",
    "\n",
    "# store phi_prime_prime values to a list the same length as x\n",
    "phi_pp = phi_pp_spline(x)\n",
    "\n",
    "# ok let's compute the integrand for the numerator\n",
    "numerator_integrand = -1 * phi_x * phi_pp\n",
    "# now the denominator integrand\n",
    "denominator_integrand = 2 * phi_x * phi_x\n",
    "\n",
    "# integrate to get numerator and denominator\n",
    "numerator = np.trapz(numerator_integrand, x)\n",
    "denominator = np.trapz(denominator_integrand, x)\n",
    "\n",
    "expectation = numerator / denominator\n",
    "\n",
    "print(\" Expectation value of this trial function is \", expectation, \"atomic units\")\n",
    "print(\" True ground state energy is \", np.pi**2/2, \"atomic units\")"
   ]
  },
  {
   "cell_type": "markdown",
   "metadata": {},
   "source": [
    "5.  The energy expression for second-order Moller-Plesset Perturbation Theory is \n",
    "\\begin{equation}\n",
    "E_{MP2} = 2 \\sum_{i,j,a,b}^N \\frac{\\langle ij | V | ab \\rangle \\langle ab | V | ij \\rangle}{\\epsilon_i + \\epsilon_j - \\epsilon_a - \\epsilon_b} - \\sum_{i,j,a,b}^N \\frac{\\langle ij | V | ab \\rangle \\langle ab | V | ji \\rangle}{\\epsilon_i + \\epsilon_j - \\epsilon_a - \\epsilon_b}\n",
    "\\end{equation}\n",
    "where $N$ is the number of molecular orbitals, $\\epsilon_p$ is the molecular orbital energy\n",
    "of orbital $p$, and $\\langle pq | V | rs \\rangle$ is the 2-electron integral\n",
    "involving orbitals $\\phi_p, \\phi_q, \\phi_r$, and $\\phi_s$.  \n",
    "\n",
    "**Explain how the computational cost of evaluating the MP2 energy scales with the number of molecular orbitals.**  "
   ]
  },
  {
   "cell_type": "markdown",
   "metadata": {},
   "source": [
    "Because the energy evaluation for MP2 involves sums that run over 4 independent indices, the cost of evaluating the energy scales approximately as the 4th power of the number of molecular orbitals.  More precisely, the sums include two independent indices over the orbitals that are occupied in the Hartree-Fock reference and two independent sums over orbitals that are unoccupied (virtual) in the Hartree-Fock references, which means that the scaling goes as\n",
    "$N_o^2 \\cdot N_v^2$, where $N_o$ indicates the number of occupied orbitals and $N_v$ indicates the number of virtual orbitals."
   ]
  },
  {
   "cell_type": "code",
   "execution_count": null,
   "metadata": {},
   "outputs": [],
   "source": []
  }
 ],
 "metadata": {
  "kernelspec": {
   "display_name": "Python 3",
   "language": "python",
   "name": "python3"
  },
  "language_info": {
   "codemirror_mode": {
    "name": "ipython",
    "version": 3
   },
   "file_extension": ".py",
   "mimetype": "text/x-python",
   "name": "python",
   "nbconvert_exporter": "python",
   "pygments_lexer": "ipython3",
   "version": "3.8.5"
  }
 },
 "nbformat": 4,
 "nbformat_minor": 2
}
