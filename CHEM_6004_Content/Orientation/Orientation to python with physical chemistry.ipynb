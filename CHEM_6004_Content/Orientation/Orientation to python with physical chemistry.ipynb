{
 "cells": [
  {
   "cell_type": "markdown",
   "metadata": {},
   "source": [
    "# Orientation to Python\n",
    "\n",
    "Chem 6004, Spring 2022\n",
    "\n",
    "This will introduce some of the basic concepts required for scientific computing in python.\n",
    "In particular, the following concepts will be illustrated:\n",
    "\n",
    "\n",
    "- Basic use of numpy \n",
    "- Basic use of matplotlib\n",
    "- Arrays\n",
    "- Loops\n",
    "- Timing\n",
    "- Functions\n",
    "\n",
    "We will start with the illustrative example discussed in class, namely, the kinetic energy \n",
    "and potential energy of a collection or $N$ charged particle.\n",
    "\n",
    "\\begin{equation}\n",
    "T = \\sum_{i=1}^N \\frac{1}{2} m_i v_i^2.\n",
    "\\end{equation}\n",
    "\n",
    "A natural way to store the masses and velocities of the particles is in an array.  The following lines of code \n",
    "will import numpy and create two numpy arrays that can be used to store the masses and velocities of $N=10$ particles"
   ]
  },
  {
   "cell_type": "code",
   "execution_count": null,
   "metadata": {},
   "outputs": [],
   "source": [
    "import numpy as np\n",
    "import time\n",
    "\n",
    "### Number of particles will be 10\n",
    "Npart = 10\n",
    "        \n",
    "''' create an array 'm' and 'v' to store the masses and velocities of the 10 particles... \n",
    "    initially, each entry in 'm' and 'v' will be zero, and we will have to assign values later '''\n"
   ]
  },
  {
   "cell_type": "markdown",
   "metadata": {},
   "source": [
    "We can use a for loop to access all the entries in 'm' and 'v' and assign them values.  For simplicity,\n",
    "we will give each particle the same mass (1.0 in natural units of mass) and the same velocity (2.5 in natural\n",
    "units of velocity)."
   ]
  },
  {
   "cell_type": "code",
   "execution_count": null,
   "metadata": {},
   "outputs": [],
   "source": [
    "''' use for-loop to fill values of m and v here! '''\n",
    "\n",
    "### Now that values have been assigned, print to confirm they are what you expect\n",
    "print(\"Printing array of masses: \",m)\n",
    "print(\"Printing array of velocities: \",v)"
   ]
  },
  {
   "cell_type": "code",
   "execution_count": null,
   "metadata": {},
   "outputs": [],
   "source": [
    "# time how long it takes to compute the kinetic energy\n",
    "start = time.time()\n",
    "''' compute array of kinetic energy values and also total kinetic energy here! '''\n",
    "\n",
    "end = time.time()\n",
    "print(end-start)\n",
    "### confirm that T is indeed an array with an entry for the kinetic energy of each particle\n",
    "print(T)"
   ]
  },
  {
   "cell_type": "markdown",
   "metadata": {},
   "source": [
    "Finally, we can perform arithmetic operations directly with the arrays to create a new array of kinetic\n",
    "energies of each particle.  The following line will compute \n",
    "\\begin{equation}\n",
    "T_i = \\frac{1}{2} m_i v_i^2.\n",
    "\\end{equation}\n",
    "for each particle indexed by $i$.\n"
   ]
  },
  {
   "cell_type": "markdown",
   "metadata": {},
   "source": [
    "We can compute the total kinetic energy by summing up the entries within T.  This can be done using another\n",
    "for loop, but it can also be done making use of a numpy function called 'sum'.  We will use both to confirm they give \n",
    "the same result."
   ]
  },
  {
   "cell_type": "code",
   "execution_count": null,
   "metadata": {},
   "outputs": [],
   "source": [
    "### initialize a sum variable to zero\n",
    "T_tot_loop = 0.\n",
    "\n",
    "''' loop over elements of the T array and compute the sum '''\n",
    "\n",
    "''' compute the sum using np.sum and store to T_tot_sum instead '''\n",
    "\n",
    "\n",
    "### print both sums to confirm both methods give the same answer\n",
    "print(\"Result from loop is \",T_tot_loop)\n",
    "print(\"Result from numpy sum is \",T_tot_sum)"
   ]
  },
  {
   "cell_type": "markdown",
   "metadata": {},
   "source": [
    "Next let's consider the potential energy:\n",
    "\\begin{equation}\n",
    "V_i = \\sum_{j \\neq i}^N \\frac{q_i q_j}{r_{ij}}. \n",
    "\\end{equation}\n",
    "Again for simplicity, we will consider the particles to be in 1 dimension, so we can write the separation simply as\n",
    "\\begin{equation}\n",
    "r_{ij} = \\sqrt{(x_i - x_j)^2}\n",
    "\\end{equation}\n",
    "where $x_i$ indicates the position of particle $i$ and $x_j$ the position of particle $j$.\n",
    "The total potential energy will be a sum over the potential energy for each individual particle, so we can \n",
    "see we need to compute two nested sums to get the total potential energy:\n",
    "\\begin{equation}\n",
    "V = \\sum_{i=1}^N \\sum_{j \\neq i}^N \\frac{q_i q_j}{ r_{ij}}. \n",
    "\\end{equation}\n",
    "\n",
    "We can see we need a few more quantities to compute this sum: we will need the charge for each particle,\n",
    "and we will need the separation between each particle pair, which of course means we need the positions\n",
    "of all the particles.  We can store the charges and positions as simples 1-D arrays again, but to store\n",
    "the separations between particle pairs, it is more natural to store them in a 2-D array.  Once again for simplicity, \n",
    "we will assign each particle a charge of 1 natural unit and we will space each particle evenly along the $x$-axis with an interparticle separation of 0.2 natural units of length.  By the way, we will also assume $\\frac{1}{4 \\pi \\epsilon_0} = 1$ in our natural unit system. \n"
   ]
  },
  {
   "cell_type": "code",
   "execution_count": null,
   "metadata": {},
   "outputs": [],
   "source": [
    "''' create 1-D arrays of length Npart for q... assign each particle charge of 1 natural unit '''\n",
    "\n",
    "\n",
    "### create a 1-D array of length Npart for x... use np.linspace to automatically\n",
    "### assign values since we want the particles evenly spaced.\n",
    "x = np.linspace(0,(Npart-1)*0.2,Npart)\n",
    "\n",
    "### create a 2-D array that is Npart x Npart for the separations between particle pairs\n",
    "r = np.zeros((Npart,Npart))\n",
    "\n",
    "### compute all separations using two nested for-loops to access the positions of each particle\n",
    "for i in range(0,Npart):\n",
    "    for j in range(0,Npart):\n",
    "        ''' compute separations here! '''\n",
    "\n",
    "### now print all arrays \n",
    "print(\"Printing array of charges \",q)\n",
    "print(\"Printing array of charges \",x)\n",
    "print(\"Printing array of charges \\n\",r)\n",
    "\n"
   ]
  },
  {
   "cell_type": "markdown",
   "metadata": {},
   "source": [
    "We could write a few more nested for loops to compute the potential energy for us,\n",
    "but it is worth using this opportunity to illustrate one more useful concept, which is the concept of a \n",
    "function.  If one were simulating a material, one might want to compute the potential energy many times during\n",
    "the simulation as the positions of the particles change... it would be silly to have to write a new set of nested for loops every time you wanted your simulation to do this, so you can package the calculation into something called a function that can be called whenever you want to calculate the potential energy."
   ]
  },
  {
   "cell_type": "code",
   "execution_count": null,
   "metadata": {},
   "outputs": [],
   "source": [
    "### function to compute potential energy given an array of separations and an array of charges\n",
    "def Potential(sep_array, charge_array):\n",
    "    ''' presumably the number of particles is equal to the length of the array of charges '''\n",
    "    \n",
    "    \n",
    "    ### initialize the potential energy to zer\n",
    "    Pot = 0.\n",
    "    ### nested loop\n",
    "    for i in range(0,N):\n",
    "        for j in range(0,N):\n",
    "           ''' compute the potential energy only for non-same particles! '''\n",
    "    ### return the total potential energy!\n",
    "    return Pot\n",
    "            "
   ]
  },
  {
   "cell_type": "markdown",
   "metadata": {},
   "source": [
    "Now we can simply call our $Potential$ function and pass it $r$ and $q$ as arguments, and it will return the total potential energy for us!"
   ]
  },
  {
   "cell_type": "code",
   "execution_count": null,
   "metadata": {},
   "outputs": [],
   "source": [
    "### Compute total potential energy and store it as the variable V_tot\n",
    "V_tot = Potential(r, q)\n",
    "\n",
    "### print it to see what it is!\n",
    "print(V_tot)"
   ]
  },
  {
   "cell_type": "markdown",
   "metadata": {},
   "source": [
    "### Shifting to quantum mechanics and the particle in a box model!\n",
    "Use numpy to create an array of 100 x-values between 0 and $L$, where $L$ is defined to be 10 (in atomic units).  Call this array $x$."
   ]
  },
  {
   "cell_type": "code",
   "execution_count": null,
   "metadata": {},
   "outputs": [],
   "source": [
    "''' create array of 𝑥-values here! '''"
   ]
  },
  {
   "cell_type": "markdown",
   "metadata": {},
   "source": [
    "Use the built-in numpy functions `np.sqrt()` and `np.sin()`, along with the built-in constant `np.pi`, to create an array of ground-state wavefunction values for the particle-in-a-box of length $L=10$ atomic units,\n",
    "\\begin{equation}\n",
    "\\psi_1(x) = \\sqrt{\\frac{2}{L}} {\\rm sin}\\left(\\frac{ \\pi x}{L}\\right).\n",
    "\\end{equation}\n",
    "Call this array psi_x"
   ]
  },
  {
   "cell_type": "code",
   "execution_count": null,
   "metadata": {},
   "outputs": [],
   "source": [
    "''' create array of psi values here! '''"
   ]
  },
  {
   "cell_type": "markdown",
   "metadata": {},
   "source": [
    "Use the plotting capabilities of the library matplotlib to plot $\\psi_1(x)$ vs $x$."
   ]
  },
  {
   "cell_type": "code",
   "execution_count": null,
   "metadata": {},
   "outputs": [],
   "source": [
    "from matplotlib import pyplot as plt\n",
    "\n",
    "''' create plot object by issuing the command plt.plot(x_data, y_data) w\n",
    "    where x_data is the name of the array that contains your x-values and y_data is the name of\n",
    "    the array that contains your y-values. '''\n"
   ]
  },
  {
   "cell_type": "markdown",
   "metadata": {},
   "source": [
    "Evaluate (by hand)\n",
    "\\begin{equation}\n",
    "\\hat{H} \\psi_1(x)\n",
    "\\end{equation}\n",
    "where in atomic units,\n",
    "\\begin{equation}\n",
    "\\hat{H} = \\frac{-1}{2} \\frac{d^2}{dx^2}.\n",
    "\\end{equation}\n",
    "\n",
    "You should obtain as a result $E_1 \\psi_1(x)$.  Plot both \n",
    "$\\psi_1(x)$ against $x$ and $E_1 \\psi_1(x)$ against $x$.\n"
   ]
  },
  {
   "cell_type": "code",
   "execution_count": null,
   "metadata": {},
   "outputs": [],
   "source": []
  },
  {
   "cell_type": "markdown",
   "metadata": {},
   "source": [
    "Now imagine that an electric potential has been applied to your box, such that the Hamiltonian operator can now be written like:\n",
    "\\begin{equation}\n",
    "\\hat{H}_p = \\frac{-1}{2} \\frac{d^2}{dx^2} + \\frac{1}{2} x.\n",
    "\\end{equation}\n",
    "Evaluate $\\hat{H}_p \\psi_1(x)$ and plot the result against $x$ so that you can compare \n",
    "the plot to both $\\psi_1(x)$ vs $x$ and $E_1 \\psi_1(x)$ vs $x$.\n",
    "\n",
    "Hint: Create a numpy array that models the electric potential\n",
    "`Vx = 1/2. * x`\n",
    "so that you can basically create an array called `Hp_on_psi` that is mathematically equal to \n",
    "\\begin{equation}\n",
    "\\hat{H}_p \\psi_1(x) = E_1 \\psi_1(x) + \\frac{1}{2}x \\psi_1(x).\n",
    "\\end{equation}"
   ]
  },
  {
   "cell_type": "code",
   "execution_count": null,
   "metadata": {},
   "outputs": [],
   "source": []
  },
  {
   "cell_type": "markdown",
   "metadata": {},
   "source": [
    "# Homework Questions!\n",
    "- How does the total kinetic energy of a collection of $N$ particles grow with $N$ assuming each particle has the same average kinetic energy?  Compute the total kinetic energy for five different values of $N$ and plot the results using $pyplot$. \n",
    "- How does the total potential energy of a collection of $N$ equally spaced charged particles grow with $N$?  Compute the the total potential energy for five different values of $N$ and plot the results.\n",
    "- Use the $time$ library in python to determine how the time required to compute the kinetic and potential energy for the five different values of $N$; plot the time required vs $N$ and discuss if the kinetic seems to scale linearly and the potential seems to scale quadratically with $N$."
   ]
  },
  {
   "cell_type": "code",
   "execution_count": null,
   "metadata": {},
   "outputs": [],
   "source": []
  }
 ],
 "metadata": {
  "kernelspec": {
   "display_name": "Python 3",
   "language": "python",
   "name": "python3"
  },
  "language_info": {
   "codemirror_mode": {
    "name": "ipython",
    "version": 3
   },
   "file_extension": ".py",
   "mimetype": "text/x-python",
   "name": "python",
   "nbconvert_exporter": "python",
   "pygments_lexer": "ipython3",
   "version": "3.8.5"
  }
 },
 "nbformat": 4,
 "nbformat_minor": 2
}
