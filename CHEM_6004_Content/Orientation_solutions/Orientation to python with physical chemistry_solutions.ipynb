{
 "cells": [
  {
   "cell_type": "markdown",
   "metadata": {},
   "source": [
    "# Orientation to Python\n",
    "\n",
    "Chem 6004\n",
    "January 28, 2022\n",
    "\n",
    "This will introduce some of the basic concepts required for scientific computing in python.\n",
    "In particular, the following concepts will be illustrated:\n",
    "\n",
    "\n",
    "- Basic use of numpy \n",
    "- Basic use of matplotlib\n",
    "- Arrays\n",
    "- Loops\n",
    "- Timing\n",
    "- Functions\n",
    "\n",
    "We will start with the illustrative example discussed in class, namely, the kinetic energy \n",
    "and potential energy of a collection or $N$ charged particle.\n",
    "\n",
    "\\begin{equation}\n",
    "T = \\sum_{i=1}^N \\frac{1}{2} m_i v_i^2.\n",
    "\\end{equation}\n",
    "\n",
    "\n",
    "A natural way to store the masses and velocities of the particles is in an array.  The following lines of code \n",
    "will import numpy and create two numpy arrays that can be used to store the masses and velocities of $N=10$ particles"
   ]
  },
  {
   "cell_type": "code",
   "execution_count": 1,
   "metadata": {
    "code_folding": []
   },
   "outputs": [
    {
     "name": "stdout",
     "output_type": "stream",
     "text": [
      "10\n",
      "[0. 0. 0. 0. 0. 0. 0. 0. 0. 0.]\n",
      "[0. 0. 0. 0. 0. 0. 0. 0. 0. 0.]\n"
     ]
    }
   ],
   "source": [
    "import numpy as np\n",
    "import time\n",
    "\n",
    "### Number of particles will be 10\n",
    "Npart = 10\n",
    "\n",
    "print(Npart)\n",
    "\n",
    "''' create an array 'm' and 'v' to store the masses and velocities of the 10 particles... \n",
    "    initially, each entry in 'm' and 'v' will be zero, and we will have to assign values later '''\n",
    "\n",
    "m = np.zeros(Npart)\n",
    "v = np.zeros(Npart)\n",
    "\n",
    "print(m)\n",
    "print(v)\n",
    "\n"
   ]
  },
  {
   "cell_type": "markdown",
   "metadata": {},
   "source": [
    "We can use a for loop to access all the entries in 'm' and 'v' and assign them values.  For simplicity,\n",
    "we will give each particle the same mass (1.0 in natural units of mass) and the same velocity (2.5 in natural\n",
    "units of velocity)."
   ]
  },
  {
   "cell_type": "code",
   "execution_count": 2,
   "metadata": {},
   "outputs": [
    {
     "name": "stdout",
     "output_type": "stream",
     "text": [
      "Printing array of masses:  [1. 1. 1. 1. 1. 1. 1. 1. 1. 1.]\n",
      "Printing array of velocities:  [2.5 2.5 2.5 2.5 2.5 2.5 2.5 2.5 2.5 2.5]\n"
     ]
    }
   ],
   "source": [
    "''' use for-loop to fill values of m and v here! '''\n",
    "for i in range(0,Npart):\n",
    "    m[i] = 1.0\n",
    "    v[i] = 2.5\n",
    "    \n",
    "### Now that values have been assigned, print to confirm they are what you expect\n",
    "print(\"Printing array of masses: \",m)\n",
    "print(\"Printing array of velocities: \",v)"
   ]
  },
  {
   "cell_type": "code",
   "execution_count": 3,
   "metadata": {},
   "outputs": [
    {
     "name": "stdout",
     "output_type": "stream",
     "text": [
      "0.00010800361633300781\n",
      "[3.125 3.125 3.125 3.125 3.125 3.125 3.125 3.125 3.125 3.125]\n"
     ]
    }
   ],
   "source": [
    "# this array will store kinetic energy of each particle\n",
    "T = np.zeros(Npart)\n",
    "# time how long it takes to compute the kinetic energy\n",
    "start = time.time()\n",
    "''' compute array of kinetic energy values and also total kinetic energy here! '''\n",
    "for i in range(0,Npart):\n",
    "    T[i] = 1/2 * m[i] * v[i] ** 2\n",
    "end = time.time()\n",
    "print(end-start)\n",
    "### confirm that T is indeed an array with an entry for the kinetic energy of each particle\n",
    "print(T)"
   ]
  },
  {
   "cell_type": "markdown",
   "metadata": {},
   "source": [
    "Finally, we can perform arithmetic operations directly with the arrays to create a new array of kinetic\n",
    "energies of each particle.  The following line will compute \n",
    "\\begin{equation}\n",
    "T_i = \\frac{1}{2} m_i v_i^2.\n",
    "\\end{equation}\n",
    "for each particle indexed by $i$.\n"
   ]
  },
  {
   "cell_type": "markdown",
   "metadata": {},
   "source": [
    "We can compute the total kinetic energy by summing up the entries within T.  This can be done using another\n",
    "for loop, but it can also be done making use of a numpy function called 'sum'.  We will use both to confirm they give \n",
    "the same result."
   ]
  },
  {
   "cell_type": "code",
   "execution_count": 4,
   "metadata": {},
   "outputs": [
    {
     "name": "stdout",
     "output_type": "stream",
     "text": [
      "Time taken by loop is 6.008148193359375e-05\n",
      "Time taken by numpy is  0.00016689300537109375\n",
      "Result from loop is  31.25\n",
      "Result from numpy sum is  31.25\n"
     ]
    }
   ],
   "source": [
    "### initialize a sum variable to zero\n",
    "T_tot_loop = 0.\n",
    "\n",
    "''' loop over elements of the T array and compute the sum '''\n",
    "start_loop = time.time()\n",
    "for i in range(0,Npart):\n",
    "    #print(T_tot_loop)\n",
    "    T_tot_loop = T_tot_loop + T[i]\n",
    "end_loop = time.time()\n",
    "\n",
    "print(\"Time taken by loop is\",end_loop-start_loop)\n",
    "''' compute the sum using np.sum and store to T_tot_sum instead '''\n",
    "start_numpy = time.time()\n",
    "T_tot_sum = np.sum(T)\n",
    "end_numpy = time.time()\n",
    "print(\"Time taken by numpy is \",end_numpy-start_numpy)\n",
    "\n",
    "### print both sums to confirm both methods give the same answer\n",
    "print(\"Result from loop is \",T_tot_loop)\n",
    "print(\"Result from numpy sum is \",T_tot_sum)"
   ]
  },
  {
   "cell_type": "markdown",
   "metadata": {},
   "source": [
    "Reminder about dimensional quantities:\n",
    "Fundamental dimensions include\n",
    "\n",
    "- Time (SI unit is the second)\n",
    "- Length (SI unit is the meter)\n",
    "- Mass (SI unit is kg)\n",
    "- Temperature (SI unit is K)\n",
    "- Electrical Current (SI unit is amp)\n",
    "- Electrical Charge (SI unit is Coulomb)\n",
    "\n",
    "For atomic and molecular systems, a common natural unit system is called the atomic unit system.  In the atomic unit system, the following quantites have magnitude 1:\n",
    "\n",
    "- Charge of the electron is 1 a.u. of charge\n",
    "- Mass of the electron is 1 a.u. of mass\n",
    "- Most probably radial value of the 1s orbital of the hydrogen atom is 1 a.u. of length (Bohr)\n",
    "- $1/4\\pi \\epsilon_0$ is equal to 1 a.u. of permittivity\n",
    "\n",
    "$V = \\frac{q_1 q_2}{4 \\pi \\epsilon_0 r}$\n",
    "\n",
    "Next let's consider the potential energy:\n",
    "\n",
    "\n",
    "\\begin{equation}\n",
    "V_i = \\sum_{j \\neq i}^N \\frac{q_i q_j}{r_{ij}}. \n",
    "\\end{equation}\n",
    "Again for simplicity, we will consider the particles to be in 1 dimension, so we can write the separation simply as\n",
    "\\begin{equation}\n",
    "r_{ij} = \\sqrt{(x_i - x_j)^2}\n",
    "\\end{equation}\n",
    "where $x_i$ indicates the position of particle $i$ and $x_j$ the position of particle $j$.\n",
    "The total potential energy will be a sum over the potential energy for each individual particle, so we can \n",
    "see we need to compute two nested sums to get the total potential energy:\n",
    "\\begin{equation}\n",
    "V = \\sum_{i=1}^N \\sum_{j \\neq i}^N \\frac{q_i q_j}{ r_{ij}}. \n",
    "\\end{equation}\n",
    "\n",
    "We can see we need a few more quantities to compute this sum: we will need the charge for each particle,\n",
    "and we will need the separation between each particle pair, which of course means we need the positions\n",
    "of all the particles.  We can store the charges and positions as simples 1-D arrays again, but to store\n",
    "the separations between particle pairs, it is more natural to store them in a 2-D array.  Once again for simplicity, \n",
    "we will assign each particle a charge of 1 natural unit and we will space each particle evenly along the $x$-axis with an interparticle separation of 0.2 natural units of length.  By the way, we will also assume $\\frac{1}{4 \\pi \\epsilon_0} = 1$ in our natural unit system. \n"
   ]
  },
  {
   "cell_type": "code",
   "execution_count": 5,
   "metadata": {},
   "outputs": [
    {
     "name": "stdout",
     "output_type": "stream",
     "text": [
      "Printing array of charges  [1. 1. 1. 1. 1. 1. 1. 1. 1. 1.]\n",
      "Printing array of charges  [0.  0.2 0.4 0.6 0.8 1.  1.2 1.4 1.6 1.8]\n",
      "Printing array of charges \n",
      " [[0.  0.2 0.4 0.6 0.8 1.  1.2 1.4 1.6 1.8]\n",
      " [0.2 0.  0.2 0.4 0.6 0.8 1.  1.2 1.4 1.6]\n",
      " [0.4 0.2 0.  0.2 0.4 0.6 0.8 1.  1.2 1.4]\n",
      " [0.6 0.4 0.2 0.  0.2 0.4 0.6 0.8 1.  1.2]\n",
      " [0.8 0.6 0.4 0.2 0.  0.2 0.4 0.6 0.8 1. ]\n",
      " [1.  0.8 0.6 0.4 0.2 0.  0.2 0.4 0.6 0.8]\n",
      " [1.2 1.  0.8 0.6 0.4 0.2 0.  0.2 0.4 0.6]\n",
      " [1.4 1.2 1.  0.8 0.6 0.4 0.2 0.  0.2 0.4]\n",
      " [1.6 1.4 1.2 1.  0.8 0.6 0.4 0.2 0.  0.2]\n",
      " [1.8 1.6 1.4 1.2 1.  0.8 0.6 0.4 0.2 0. ]]\n"
     ]
    }
   ],
   "source": [
    "''' create 1-D arrays of length Npart for q... assign each particle charge of 1 natural unit '''\n",
    "q = np.zeros(Npart)\n",
    "\n",
    "for i in range(0, Npart):\n",
    "    q[i] = 1\n",
    "\n",
    "\n",
    "### create a 1-D array of length Npart for x... use np.linspace to automatically\n",
    "### assign values since we want the particles evenly spaced.\n",
    "x = np.linspace(0,(Npart-1)*0.2,Npart)\n",
    "\n",
    "### create a 2-D array that is Npart x Npart for the separations between particle pairs\n",
    "r = np.zeros((Npart,Npart))\n",
    "\n",
    "### compute all separations using two nested for-loops to access the positions of each particle\n",
    "for i in range(0,Npart):\n",
    "    for j in range(0,Npart):\n",
    "        ''' compute separations here! '''\n",
    "        r[i,j] = np.sqrt( (x[i]-x[j])**2 )\n",
    "\n",
    "### now print all arrays \n",
    "print(\"Printing array of charges \",q)\n",
    "print(\"Printing array of charges \",x)\n",
    "print(\"Printing array of charges \\n\",r)\n",
    "\n"
   ]
  },
  {
   "cell_type": "markdown",
   "metadata": {},
   "source": [
    "We could write a few more nested for loops to compute the potential energy for us,\n",
    "but it is worth using this opportunity to illustrate one more useful concept, which is the concept of a \n",
    "function.  If one were simulating a material, one might want to compute the potential energy many times during\n",
    "the simulation as the positions of the particles change... it would be silly to have to write a new set of nested for loops every time you wanted your simulation to do this, so you can package the calculation into something called a function that can be called whenever you want to calculate the potential energy."
   ]
  },
  {
   "cell_type": "code",
   "execution_count": 6,
   "metadata": {},
   "outputs": [],
   "source": [
    "### function to compute potential energy given an array of separations and an array of charges\n",
    "def Potential(sep_array, charge_array):\n",
    "    ''' presumably the number of particles is equal to the length of the array of charges '''\n",
    "    N = len(charge_array)\n",
    "    \n",
    "    \n",
    "    ### initialize the potential energy to zer\n",
    "    Pot = 0.\n",
    "    ### nested loop\n",
    "    for i in range(0,N):\n",
    "        for j in range(0,N):\n",
    "            if i!=j:\n",
    "                V = q[i] * q[j] / r[i,j]\n",
    "                Pot += V / 2.\n",
    "        \n",
    "    ### return the total potential energy!\n",
    "    return Pot\n",
    "            "
   ]
  },
  {
   "cell_type": "markdown",
   "metadata": {},
   "source": [
    "Now we can simply call our $Potential$ function and pass it $r$ and $q$ as arguments, and it will return the total potential energy for us!"
   ]
  },
  {
   "cell_type": "code",
   "execution_count": 7,
   "metadata": {},
   "outputs": [
    {
     "name": "stdout",
     "output_type": "stream",
     "text": [
      "96.44841269841271\n"
     ]
    }
   ],
   "source": [
    "### Compute total potential energy and store it as the variable V_tot\n",
    "V_tot = Potential(r, q)\n",
    "\n",
    "### print it to see what it is!\n",
    "print(V_tot)"
   ]
  },
  {
   "cell_type": "markdown",
   "metadata": {},
   "source": [
    "### Shifting to quantum mechanics and the particle in a box model!\n",
    "Use numpy to create an array of 100 x-values between 0 and $L$, where $L$ is defined to be 10 (in atomic units).  Call this array $x$."
   ]
  },
  {
   "cell_type": "code",
   "execution_count": 8,
   "metadata": {},
   "outputs": [
    {
     "name": "stdout",
     "output_type": "stream",
     "text": [
      "[ 0.   0.1  0.2  0.3  0.4  0.5  0.6  0.7  0.8  0.9  1.   1.1  1.2  1.3\n",
      "  1.4  1.5  1.6  1.7  1.8  1.9  2.   2.1  2.2  2.3  2.4  2.5  2.6  2.7\n",
      "  2.8  2.9  3.   3.1  3.2  3.3  3.4  3.5  3.6  3.7  3.8  3.9  4.   4.1\n",
      "  4.2  4.3  4.4  4.5  4.6  4.7  4.8  4.9  5.   5.1  5.2  5.3  5.4  5.5\n",
      "  5.6  5.7  5.8  5.9  6.   6.1  6.2  6.3  6.4  6.5  6.6  6.7  6.8  6.9\n",
      "  7.   7.1  7.2  7.3  7.4  7.5  7.6  7.7  7.8  7.9  8.   8.1  8.2  8.3\n",
      "  8.4  8.5  8.6  8.7  8.8  8.9  9.   9.1  9.2  9.3  9.4  9.5  9.6  9.7\n",
      "  9.8  9.9 10. ]\n"
     ]
    }
   ],
   "source": [
    "''' create array of 𝑥-values here! '''\n",
    "L = 10\n",
    "x = np.linspace(0,L,101)\n",
    "print(x)"
   ]
  },
  {
   "cell_type": "markdown",
   "metadata": {},
   "source": [
    "Use the built-in numpy functions `np.sqrt()` and `np.sin()`, along with the built-in constant `np.pi`, to create an array of ground-state wavefunction values for the particle-in-a-box of length $L=10$ atomic units,\n",
    "\\begin{equation}\n",
    "\\psi_1(x) = \\sqrt{\\frac{2}{L}} {\\rm sin}\\left(\\frac{ \\pi x}{L}\\right).\n",
    "\\end{equation}\n",
    "Call this array psi_x"
   ]
  },
  {
   "cell_type": "code",
   "execution_count": 9,
   "metadata": {},
   "outputs": [],
   "source": [
    "''' create array of psi values here! '''\n",
    "psi_x = np.sqrt(2/L) * np.sin( np.pi * x / L )"
   ]
  },
  {
   "cell_type": "markdown",
   "metadata": {},
   "source": [
    "Use the plotting capabilities of the library matplotlib to plot $\\psi_1(x)$ vs $x$."
   ]
  },
  {
   "cell_type": "code",
   "execution_count": 10,
   "metadata": {},
   "outputs": [
    {
     "data": {
      "text/plain": [
       "' create plot object by issuing the command plt.plot(x_data, y_data) w\\n    where x_data is the name of the array that contains your x-values and y_data is the name of\\n    the array that contains your y-values. '"
      ]
     },
     "execution_count": 10,
     "metadata": {},
     "output_type": "execute_result"
    },
    {
     "data": {
      "image/png": "[encoded data removed]",
      "text/plain": [
       "<Figure size 432x288 with 1 Axes>"
      ]
     },
     "metadata": {
      "needs_background": "light"
     },
     "output_type": "display_data"
    }
   ],
   "source": [
    "from matplotlib import pyplot as plt\n",
    "\n",
    "plt.plot(x, psi_x, 'red',label='Psi_1(x)')\n",
    "plt.xlabel(\"x value\")\n",
    "plt.ylabel(\"Psi value\")\n",
    "plt.legend()\n",
    "\n",
    "''' create plot object by issuing the command plt.plot(x_data, y_data) w\n",
    "    where x_data is the name of the array that contains your x-values and y_data is the name of\n",
    "    the array that contains your y-values. '''\n"
   ]
  },
  {
   "cell_type": "markdown",
   "metadata": {},
   "source": [
    "Evaluate (by hand)\n",
    "\\begin{equation}\n",
    "\\hat{H} \\psi_1(x)\n",
    "\\end{equation}\n",
    "where in atomic units,\n",
    "\\begin{equation}\n",
    "\\hat{H} = \\frac{-1}{2} \\frac{d^2}{dx^2}.\n",
    "\\end{equation}\n",
    "\n",
    "You should obtain as a result $E_1 \\psi_1(x)$.  Plot both \n",
    "$\\psi_1(x)$ against $x$ and $E_1 \\psi_1(x)$ against $x$.\n"
   ]
  },
  {
   "cell_type": "code",
   "execution_count": 11,
   "metadata": {},
   "outputs": [
    {
     "data": {
      "text/plain": [
       "<matplotlib.legend.Legend at 0x7faae06da4f0>"
      ]
     },
     "execution_count": 11,
     "metadata": {},
     "output_type": "execute_result"
    },
    {
     "data": {
      "image/png": "[encoded data removed]",
      "text/plain": [
       "<Figure size 432x288 with 1 Axes>"
      ]
     },
     "metadata": {
      "needs_background": "light"
     },
     "output_type": "display_data"
    }
   ],
   "source": [
    "E1_psi_x = np.pi ** 2 / (2 * L ** 2) * psi_x\n",
    "plt.plot(x, psi_x, 'red', label='psi_1(x)')\n",
    "plt.plot(x, E1_psi_x, 'blue', label='E_1 psi_1(x)')\n",
    "plt.legend()"
   ]
  },
  {
   "cell_type": "markdown",
   "metadata": {},
   "source": [
    "Now imagine that an electric potential has been applied to your box, such that the Hamiltonian operator can now be written like:\n",
    "\\begin{equation}\n",
    "\\hat{H}_p = \\frac{-1}{2} \\frac{d^2}{dx^2} + \\frac{1}{2} x.\n",
    "\\end{equation}\n",
    "Evaluate $\\hat{H}_p \\psi_1(x)$ and plot the result against $x$ so that you can compare \n",
    "the plot to both $\\psi_1(x)$ vs $x$ and $E_1 \\psi_1(x)$ vs $x$.\n",
    "\n",
    "Hint: Create a numpy array that models the electric potential\n",
    "`Vx = 1/2. * x`\n",
    "so that you can basically create an array called `Hp_on_psi` that is mathematically equal to \n",
    "\\begin{equation}\n",
    "\\hat{H}_p \\psi_1(x) = E_1 \\psi_1(x) + \\frac{1}{2}x \\psi_1(x).\n",
    "\\end{equation}"
   ]
  },
  {
   "cell_type": "code",
   "execution_count": 12,
   "metadata": {},
   "outputs": [
    {
     "data": {
      "image/png": "[encoded data removed]",
      "text/plain": [
       "<Figure size 432x288 with 1 Axes>"
      ]
     },
     "metadata": {
      "needs_background": "light"
     },
     "output_type": "display_data"
    }
   ],
   "source": [
    "### this has a similar expression as before, but with one additional term from the potential!\n",
    "Hp_psi_x = np.pi ** 2 / (2 * L ** 2) * psi_x + 0.5 * x * psi_x\n",
    "\n",
    "### plot Hp_psi_x vs psi_x and E1_psi_x to see the difference!\n",
    "plt.plot(x, psi_x, 'red', label='psi_1(x)')\n",
    "plt.plot(x, E1_psi_x, 'blue', label='E_1 psi_1(x)')\n",
    "plt.plot(x, Hp_psi_x, 'green', label='H_p psi_1(x)')\n",
    "plt.legend()\n",
    "plt.show()"
   ]
  },
  {
   "cell_type": "markdown",
   "metadata": {},
   "source": [
    "You can see in the plot above that the shape of $\\hat{H}_P \\psi_1(x)$ is clearly different than $\\psi_1(x)$, which means that $\\psi_1(x)$ is not an eigenfunction of $\\hat{H}_P$!"
   ]
  },
  {
   "cell_type": "markdown",
   "metadata": {},
   "source": [
    "# Homework Questions!\n",
    "- How does the total kinetic energy of a collection of $N$ particles grow with $N$ assuming each particle has the same average kinetic energy?  Compute the total kinetic energy for five different values of $N$ and plot the results using $pyplot$.\n",
    "\n",
    "- How does the total potential energy of a collection of $N$ equally spaced charged particles grow with $N$?  Compute the the total potential energy for five different values of $N$ and plot the results.\n",
    "\n",
    "- Use the $time$ library in python to determine how the time required to compute the kinetic and potential energy for the five different values of $N$; plot the time required vs $N$ and discuss if the kinetic seems to scale linearly and the potential seems to scale quadratically with $N$.\n",
    "\n",
    "Answer/Strategy:  There are many ways to solve this, but probably the most convenient (i.e. least number of lines of code to be written) involves creating an array to hold 5 different values of $N$, and then looping over the values entries in that array, forming the corresponding $m$ and $v$ arrays and computing the total kinetic energy for each particle number, and saving the results for each particle number in its own array.  Once that is done, one can plot the array containing the 5 different particle numbers against the array containing the different total kinetic energy values.  One can infer from the plots, and reason from analysis of the computations themselves, that\n",
    "\n",
    "a. The total kinetic energy scales linearly with the number of particles since each individual particle contributes to the total kinetic energy only through it's individual mass and velocity.  The time required to compute the total kinetic energy also scales linearly with the number of particles for the same reason: there will be $N_{part}$ distinct kinetic energy terms to compute and sum over in the computation of the total kinetic energy.\n",
    "\n",
    "b. The total potential energy scales quadratically with the number of particles since each particle *pair* contributes to the total potential energy, and the number of unique particle pairs grows as $N_{part} (N_{part}-1)/2 \\approx N_{part}^2$ in the limit of large $N_{part}$.  The time required to compute the total potential energy also scales \n",
    "quadratically with the number of particles for the same reason: there will be $N_{part} (N_{part}-1)/2$ distinct contributions to the potential energy to compute and sum over.\n"
   ]
  },
  {
   "cell_type": "code",
   "execution_count": 13,
   "metadata": {},
   "outputs": [
    {
     "data": {
      "image/png": "[encoded data removed]",
      "text/plain": [
       "<Figure size 432x288 with 1 Axes>"
      ]
     },
     "metadata": {
      "needs_background": "light"
     },
     "output_type": "display_data"
    },
    {
     "data": {
      "image/png": "[encoded data removed]",
      "text/plain": [
       "<Figure size 432x288 with 1 Axes>"
      ]
     },
     "metadata": {
      "needs_background": "light"
     },
     "output_type": "display_data"
    }
   ],
   "source": [
    "\n",
    "### Create an array with 5 different values of Npart\n",
    "### I'll choose to double number of particle numbers in each entry\n",
    "N_array = [10, 20, 40, 80, 160]\n",
    "### Create an array with 5 different entries that will store the total kinetic\n",
    "### energy for each number of Npart\n",
    "Kin_array = np.zeros(len(N_array))\n",
    "### Create an array with 5 different entries that will store the total potential\n",
    "### energy for each number of Npart\n",
    "Pot_array = np.zeros(len(N_array))\n",
    "### create an array of the same length at N_array that will store\n",
    "### the time taken to compute total kinetic energy for each number of particles\n",
    "kin_time_array = np.zeros(len(N_array))\n",
    "### create an array of the same length at N_array that will store\n",
    "### the time taken to compute total potential energy for each number of particles\n",
    "pot_time_array = np.zeros(len(N_array))\n",
    "### Loop through elements of N_array... assign the appropriate\n",
    "### arrays of particle masses, velocities, positions, charges, and separations\n",
    "### in each case and then compute kinetic and potential energy, taking time in each case.\n",
    "for i in range(0,len(N_array)):\n",
    "    ### define all arrays for this number of particles\n",
    "    m = np.ones(N_array[i])*1.0\n",
    "    v = np.ones(N_array[i])*2.5\n",
    "    q = np.ones(N_array[i])\n",
    "    x = np.linspace(0,(N_array[i]-1)*0.2,N_array[i])\n",
    "    ### need to compute separation values for r array\n",
    "    r = np.zeros((N_array[i],N_array[i]))\n",
    "    for j in range(0,len(m)):\n",
    "        for k in range(0,len(m)):\n",
    "            r[j][k] = np.sqrt( (x[j] - x[k])**2)\n",
    "    ### now that m, v, q, and r are defined for  compute total kinetic energy,\n",
    "    ### store the result to Kin_array, time how long it takes to compute\n",
    "    ### the kinetic energy, and store the time in time_array\n",
    "    ### kinetic energy first\n",
    "    start_time = time.time()\n",
    "    # create array of kinetic energy values for each particle!\n",
    "    T = 0.5 * m * v ** 2\n",
    "    # sum them all together \n",
    "    Kin_array[i] = np.sum(T)\n",
    "    end_time = time.time()\n",
    "    kin_time_array[i] = end_time - start_time\n",
    "    ### potential energy second\n",
    "    start_time = time.time()\n",
    "    Pot_array[i] = Potential(r, q)\n",
    "    end_time = time.time()\n",
    "    pot_time_array[i] = end_time - start_time\n",
    "plt.plot(N_array, Kin_array, 'blue', label='kinetic')\n",
    "plt.plot(N_array, Pot_array, 'red', label='potential')\n",
    "plt.xlabel(\"Number of particles\")\n",
    "plt.ylabel(\"Energy (a.u.)\")\n",
    "plt.title(\"Energy vs Number of Particles\")\n",
    "plt.legend()\n",
    "plt.show()\n",
    "plt.plot(N_array, kin_time_array, 'blue', label='kinetic')\n",
    "plt.plot(N_array, pot_time_array, 'red', label='potential')\n",
    "plt.ylabel(\"Time (seconds)\")\n",
    "plt.xlabel(\"Number of particles\")\n",
    "plt.title(\"Time vs Number of Particles\")\n",
    "plt.legend()\n",
    "plt.show()\n"
   ]
  }
 ],
 "metadata": {
  "kernelspec": {
   "display_name": "Python 3",
   "language": "python",
   "name": "python3"
  },
  "language_info": {
   "codemirror_mode": {
    "name": "ipython",
    "version": 3
   },
   "file_extension": ".py",
   "mimetype": "text/x-python",
   "name": "python",
   "nbconvert_exporter": "python",
   "pygments_lexer": "ipython3",
   "version": "3.8.5"
  }
 },
 "nbformat": 4,
 "nbformat_minor": 2
}
