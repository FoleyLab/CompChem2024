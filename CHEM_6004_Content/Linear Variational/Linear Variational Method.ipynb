{
 "cells": [
  {
   "cell_type": "markdown",
   "metadata": {},
   "source": [
    "# Computational Exercise 1:  Linear Variational Principle\n",
    "We will apply the Linear Variational Method to the particle in a box of length $10$ atomic unitw \n",
    "with a delta function potential centered at $x=5$ atomic units.  In particular, we will optimize\n",
    "the trial wavefunction given by \n",
    "\\begin{equation}\n",
    "\\Phi(x) = \\sum_{i=1}^N c_i \\psi_i(x)\n",
    "\\end{equation}\n",
    "where the coefficients $c_i$ are real numbers\n",
    "and $\\psi_i(x)$ are the energy eigenfunctions of the particle in a box with no potential:\n",
    "\\begin{equation}\n",
    "\\psi_n(x) = \\sqrt{\\frac{2}{10} } {\\rm sin}\\left(\\frac{n \\pi x}{10} \\right).\n",
    "\\end{equation}\n",
    "\n",
    "We will seek to minimize the energy functional through the expansion coefficients, where the\n",
    "energy functional can be written as\n",
    "\\begin{equation}\n",
    "E[\\Phi(x)] = \\frac{\\int_0^{\\infty} \\Phi^* (x) \\: \\hat{H} \\: \\Phi(x) dx }{\\int_0^{\\infty} \\Phi^* (x) \\: \\Phi(x) dx }.\n",
    "\\end{equation}\n",
    "\n",
    "\n",
    "The Hamiltonian operator in the box is given by \n",
    "\\begin{equation}\n",
    "\\hat{H} = -\\frac{\\hbar^2}{2m} \\frac{d^2}{dx^2} + \\delta(x-5);\n",
    "\\end{equation}\n",
    "in natural units, $\\hbar$ and $m$ are equal to 1.\n",
    "\n",
    "As we saw in class, $E[\\Phi(x)]$ can be expanded as\n",
    "\\begin{equation}\n",
    "E[\\Phi(x)] \\sum_{i=1}^N \\sum_{j=1}^N c_i c_j S_{ij} = \\sum_{i=1}^N \\sum_{j=1}^N c_i c_j H_{ij}\n",
    "\\end{equation}\n",
    "where \n",
    "\\begin{equation}\n",
    "S_{ij} = \\int_0^L \\psi_i(x) \\psi_j(x) dx = \\delta_{ij}\n",
    "\\end{equation}\n",
    "and\n",
    "\\begin{equation}\n",
    "H_{ij} = \\int_0^L \\psi_i(x) \\hat{H} \\psi_j(x) dx. \n",
    "\\end{equation}\n",
    "\n",
    "### Questions Part 1:\n",
    "1. Work out a general expression for the integrals $H_{ij}$\n",
    "2. Write a python function that takes the indices $i$ and $j$ and returns\n",
    "the value of the integral $H_{ij}$.  Skeleton code for this function follows.\n",
    "3. Show that differentiating the energy functional with respect to all coefficients and setting the derivative to zero results in the following set of equations:\n",
    "\\begin{equation}\n",
    "\\sum_i^N H_{ik} c_i = E[\\Phi(x)] c_k\n",
    "\\end{equation}\n",
    "This can be written as an eigenvalue equation\n",
    "\\begin{equation}\n",
    "{\\bf H} {\\bf c} = E {\\bf c},\n",
    "\\end{equation}\n",
    "where ${\\bf H}$ is the matrix whose elements are given by $H_{ij}$ and ${\\bf c}$ is the vector of coefficients.\n"
   ]
  },
  {
   "cell_type": "code",
   "execution_count": 2,
   "metadata": {},
   "outputs": [],
   "source": [
    "import numpy as np\n",
    "### Function to return integrals involving Hamiltonian and basis functions\n",
    "def H_ij(i, j):\n",
    "    ### if i==j, you need to worry about kinetic and potential\n",
    "    ### if i!=j, you only need to worry about potential...\n",
    "    ### so check if i==j and handle the two cases accordingly\n",
    "    ### store the result in the variable called ham_int\n",
    "    ham_int = 0\n",
    "    if i==j:\n",
    "    else:\n",
    "        ### code to evaluate H_ij here!\n",
    "    return ham_int"
   ]
  },
  {
   "cell_type": "markdown",
   "metadata": {},
   "source": [
    "Create an array called $H_mat$ that can be used to store the Hamiltonian matrix elements.  We can start by considering a trial wavefunction that is an expansion of the first 3 PIB energy eigenfunctions, so our Hamiltonian in this case should be a 3x3 matrix."
   ]
  },
  {
   "cell_type": "markdown",
   "metadata": {},
   "source": [
    "You can use two nested $for$ loops along with your $H_{ij}$ function to fill out the values of this matrix."
   ]
  },
  {
   "cell_type": "code",
   "execution_count": null,
   "metadata": {},
   "outputs": [],
   "source": [
    "### loop over indices of the basis you are expanding in\n",
    "### and compute and store the corresponding Hamiltonian matrix elements\n",
    "for i in range(0,3):\n",
    "    for j in range(0,3):\n",
    "        H_mat[i][j] = H_ij(i, j)\n",
    "\n",
    "### Print the resulting Hamiltonian matrix\n",
    "print(H_mat)"
   ]
  },
  {
   "cell_type": "markdown",
   "metadata": {},
   "source": [
    "Before systematically identifying the optimal coefficients, it is instructive to try a few \"trial\" wavefunctions \"by hand\".  A few suggestions include:\n",
    "\\begin{equation}\n",
    "{\\bf c} = \\left(1, 0, 0 \\right) \\;  {\\bf c} = \\left(0, 1, 0 \\right) \\: {\\bf c} = \\left(0, 0, 1 \\right)\n",
    "\\end{equation}\n",
    "\\begin{equation}\n",
    "{\\bf c} = \\left(\\sqrt{1/2}, \\sqrt{1/2}, 0 \\right) \\;  {\\bf c} = \\left(0, \\sqrt{1/2}, \\sqrt{1/2} \\right) \\: {\\bf c} = \\left(\\sqrt{1/2}, 0, \\sqrt{1/2} \\right)\n",
    "\\end{equation}\n",
    "\n",
    "In Matrix form, the energy functional can be computed as follows:\n",
    "\\begin{equation}\n",
    "E = {\\bf c}^t {\\bf H} {\\bf c}\n",
    "\\end{equation}\n",
    "where ${\\bf c}^t$ is just the transpose of ${\\bf c}$.  Using numpy, this can be done with the Hamiltonian matrix defined abouve and a vector ${\\bf c} = \\left(1, 0, 0 \\right)$ as follows: "
   ]
  },
  {
   "cell_type": "code",
   "execution_count": null,
   "metadata": {},
   "outputs": [],
   "source": [
    "### create an empty numpy array for the c vector\n",
    "c = np.zeros(3)\n",
    "### assign c vector to be (1, 0, 0)\n",
    "c[0] = 1\n",
    "\n",
    "### compute H_mat * c and store it to a new array called Hc\n",
    "Hc = np.dot(H_mat,c)\n",
    "\n",
    "### compute c^t * Hc and store it to a variable E\n",
    "E = np.dot(np.transpose(c),Hc)\n",
    "\n",
    "### print the result\n",
    "print(E)\n"
   ]
  },
  {
   "cell_type": "markdown",
   "metadata": {},
   "source": [
    "Continue evaluating the energy of different trial wavefunctions by changing the values of the ${\\bf c}$ vector and repeating the calculation above.  Does increasing the contribution of excited states impact the energy as you expect?  Explain.\n",
    "\n",
    "Finally, to get the optimal values of the ${\\bf c}$ vector, we can find the set of vectors (there will be 3) that satisfy the eigenvalue equation we wrote before.  We can use the $eig$ function of numpy to do this in one line:"
   ]
  },
  {
   "cell_type": "code",
   "execution_count": null,
   "metadata": {},
   "outputs": [],
   "source": [
    "### compute eigenvalues and eigenvectors of H_mat\n",
    "### store eigenvalues to E_opt and eigenvectors to c_opt\n",
    "E_opt, c_opt = np.linalg.eig(H_mat)\n",
    "\n",
    "### print lowest eigenvalues corresponding to the \n",
    "### variational estimate of the ground state energy\n",
    "print(E_opt[0])\n",
    "\n",
    "### print coefficients that define the trial wavefunction with the lowest eigenvalue\n",
    "### which corresponds to the variational estimate of the ground state wavefunction\n",
    "print(c_opt[0])"
   ]
  },
  {
   "cell_type": "markdown",
   "metadata": {},
   "source": [
    "### Questions Part 2:\n",
    "1.  Is the energy you calculated above higher or lower than the ground state energy of the ordinary particle in a box system (without the delta function potential)?\n",
    "2.  Why do you think mixing in functions that correspond to excited states in the ordinary particle in a box system actually helped to improve (i.e. lower) your energy in the system with the delta function potential?\n",
    "3.  Increase the number of basis functions to 6 (so that ${\\bf H}$ is a 6x6 matrix and ${\\bf c}$ is a vector with 6 entries) and repeat your calculation of the variational estimate of the ground state energy.  Does the energy improve (lower) compared to what it was when 3 basis functions were used?"
   ]
  }
 ],
 "metadata": {
  "kernelspec": {
   "display_name": "Python 3",
   "language": "python",
   "name": "python3"
  },
  "language_info": {
   "codemirror_mode": {
    "name": "ipython",
    "version": 3
   },
   "file_extension": ".py",
   "mimetype": "text/x-python",
   "name": "python",
   "nbconvert_exporter": "python",
   "pygments_lexer": "ipython3",
   "version": "3.8.5"
  }
 },
 "nbformat": 4,
 "nbformat_minor": 2
}
