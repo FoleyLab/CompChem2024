{
  "cells": [
    {
      "cell_type": "code",
      "execution_count": 1,
      "id": "79405478",
      "metadata": {
        "colab": {
          "base_uri": "https://localhost:8080/",
          "height": 393
        },
        "id": "79405478",
        "outputId": "d3321e4c-dc16-4764-ae64-217c7f427cb7"
      },
      "outputs": [
        {
          "output_type": "error",
          "ename": "ModuleNotFoundError",
          "evalue": "No module named 'morse'",
          "traceback": [
            "\u001b[0;31m---------------------------------------------------------------------------\u001b[0m",
            "\u001b[0;31mModuleNotFoundError\u001b[0m                       Traceback (most recent call last)",
            "\u001b[0;32m<ipython-input-1-02aa61c68238>\u001b[0m in \u001b[0;36m<cell line: 3>\u001b[0;34m()\u001b[0m\n\u001b[1;32m      1\u001b[0m \u001b[0;32mimport\u001b[0m \u001b[0mnumpy\u001b[0m \u001b[0;32mas\u001b[0m \u001b[0mnp\u001b[0m\u001b[0;34m\u001b[0m\u001b[0;34m\u001b[0m\u001b[0m\n\u001b[1;32m      2\u001b[0m \u001b[0;32mfrom\u001b[0m \u001b[0mmatplotlib\u001b[0m \u001b[0;32mimport\u001b[0m \u001b[0mpyplot\u001b[0m \u001b[0;32mas\u001b[0m \u001b[0mplt\u001b[0m\u001b[0;34m\u001b[0m\u001b[0;34m\u001b[0m\u001b[0m\n\u001b[0;32m----> 3\u001b[0;31m \u001b[0;32mfrom\u001b[0m \u001b[0mmorse\u001b[0m \u001b[0;32mimport\u001b[0m \u001b[0mMorse\u001b[0m\u001b[0;34m,\u001b[0m \u001b[0mFAC\u001b[0m\u001b[0;34m\u001b[0m\u001b[0;34m\u001b[0m\u001b[0m\n\u001b[0m\u001b[1;32m      4\u001b[0m \u001b[0;34m\u001b[0m\u001b[0m\n\u001b[1;32m      5\u001b[0m \u001b[0;34m\u001b[0m\u001b[0m\n",
            "\u001b[0;31mModuleNotFoundError\u001b[0m: No module named 'morse'",
            "",
            "\u001b[0;31m---------------------------------------------------------------------------\u001b[0;32m\nNOTE: If your import is failing due to a missing package, you can\nmanually install dependencies using either !pip or !apt.\n\nTo view examples of installing some common dependencies, click the\n\"Open Examples\" button below.\n\u001b[0;31m---------------------------------------------------------------------------\u001b[0m\n"
          ],
          "errorDetails": {
            "actions": [
              {
                "action": "open_url",
                "actionText": "Open Examples",
                "url": "/notebooks/snippets/importing_libraries.ipynb"
              }
            ]
          }
        }
      ],
      "source": [
        "import numpy as np\n",
        "from matplotlib import pyplot as plt\n",
        "from morse import Morse, FAC\n",
        "\n",
        "\n",
        "# Atom masses in atomic mass units\n",
        "#mH, mF = 1., 19.\n",
        "mH, mF = 1.0, 23.985041689\n",
        "\n",
        "# Equilibrium bondlength in meters\n",
        "#re = 0.915801e-10\n",
        "re = 2.0168266478525405e-10\n",
        "\n",
        "\n",
        "# potential energy at minimum, ok to set at zero\n",
        "Te = -43842320.8199833\n",
        "\n",
        "# Morse parameters in wavenumbers\n",
        "#we, wexe = 4196.112054123941, 108.50866999528301\n",
        "we, wexe = 1158.10509247255, 2.1995232601745265\n",
        "\n",
        "# create Morse object\n",
        "X = Morse(mH, mF, we, wexe, re, Te)\n",
        "\n",
        "# create Morse grid - will make grids in SI (self.r) and atomic units (self.r_au)\n",
        "X.make_rgrid()\n",
        "\n",
        "# create Morse potential on SI grid, will make potential in SI (self.V) and atomic units (self.V_au)\n",
        "X.V = X.Vmorse(X.r)\n",
        "\n",
        "# plot Morse potential in atomic units\n",
        "plt.plot(X.r_au, X.V_au)\n",
        "plt.xlabel(\"Bond length (atomic units)\")\n",
        "plt.ylabel(\"Potential (atomic units)\")\n",
        "plt.show()"
      ]
    },
    {
      "cell_type": "code",
      "execution_count": null,
      "id": "089a5c4f",
      "metadata": {
        "id": "089a5c4f",
        "outputId": "21aa7d3b-bf16-48c7-cce2-96db39f81225"
      },
      "outputs": [
        {
          "name": "stdout",
          "output_type": "stream",
          "text": [
            "Norm in au is 0.9999999999999999\n",
            "Norm in si is 1.0000000000000002\n"
          ]
        },
        {
          "data": {
            "image/png": "[encoded data removed]",
            "text/plain": [
              "<Figure size 640x480 with 1 Axes>"
            ]
          },
          "metadata": {},
          "output_type": "display_data"
        }
      ],
      "source": [
        "# calculate an eigenstate of the Morse oscillator\n",
        "# self.psi_si will be normalized in SI units\n",
        "# self.psi_au will be normalized in atomic units\n",
        "\n",
        "# calculate psi_20\n",
        "psi = X.calc_psi_z(0)\n",
        "\n",
        "# check normalization in SI units\n",
        "norm_si = np.trapz(X.psi_si ** 2, X.r)\n",
        "\n",
        "# check normalization in atomic units\n",
        "norm_au = np.trapz(X.psi_au ** 2,  X.r_au)\n",
        "print(F'Norm in au is {norm_au}')\n",
        "print(F'Norm in si is {norm_si}')\n",
        "\n",
        "# plot the normalized eigenfunction in atomic units against the potential in atomic units\n",
        "plt.plot(X.r_au, X.V_au)\n",
        "plt.plot(X.r_au, X.psi_au)\n",
        "#plt.plot(X.r_au, X.r_au-X.r_eq_au)\n",
        "plt.show()"
      ]
    },
    {
      "cell_type": "markdown",
      "id": "623dddde-221f-439a-beec-30b5cd023e25",
      "metadata": {
        "id": "623dddde-221f-439a-beec-30b5cd023e25"
      },
      "source": [
        "Recall the three coupled Hamiltonians:\n",
        "p dot A Hamiltonian,\n",
        "\\begin{equation}\n",
        "    \\hat{H}_{\\rm p \\cdot A} = \\frac{\\hat{p}^2}{2m} + V(\\hat{x})  + \\hbar \\omega \\hat{b}^{\\dagger} \\hat{b} -  \\frac{z}{m} \\hat{p} \\cdot  {\\bf A}_0 ( \\hat{b}^{\\dagger} + \\hat{b}) + \\frac{z^2}{2m}  {\\bf A}_0^2 ( \\hat{b}^{\\dagger} + \\hat{b})^2,\n",
        "\\end{equation}\n",
        "the d dot E Hamiltonian,\n",
        "\\begin{equation}\n",
        "    \\hat{H}_{\\rm d \\cdot E} = \\frac{\\hat{p}^2}{2m} + V(\\hat{x}) + \\hbar \\omega \\hat{b}^{\\dagger} \\hat{b} + i\\omega \\hat{\\mu} \\cdot {\\bf A}_0 ( \\hat{b}^{\\dagger} - \\hat{b}) +\\frac{\\omega_{{\\rm cav}}}{\\hbar} ( \\hat{\\mu} \\cdot {\\bf A}_0)^2\n",
        "\\end{equation}\n",
        "or the Pauli-Fierz (PF) Hamiltonian,\n",
        "\\begin{equation}\n",
        "    \\hat{H}_{\\rm d \\cdot E} = \\frac{\\hat{p}^2}{2m}+ V(\\hat{x}) + \\hbar \\omega \\hat{b}^{\\dagger} \\hat{b} - \\omega \\hat{\\mu} \\cdot {\\bf A}_0 ( \\hat{b}^{\\dagger} + \\hat{b}) +\\frac{\\omega_{{\\rm cav}}}{\\hbar} ( \\hat{\\mu} \\cdot {\\bf A}_0)^2\n",
        "\\end{equation}\n",
        "\n",
        "The matter Hamiltonian terms $\\frac{\\hat{p}^2}{2m} + V(\\hat{x})$ have been solved by either our Morse, quartic perturbation, or finite difference approach and our photon Hamiltonian term $\\hbar \\omega \\hat{b}^{\\dagger} \\hat{b}$ is also already known.  We need to evaluate\n",
        "the additional coupling elements.  For the d.E and PF Hamiltonians, the coupling elements will involve matter matrix elements with of the form\n",
        "\\begin{equation}\n",
        "\\langle \\psi_i | \\hat{\\mu} | \\psi_f \\rangle = z \\langle \\psi_i | \\hat{x} | \\psi_f \\rangle\n",
        "\\end{equation}\n",
        "and the p.A Hamiltonian will have matrix elements of the form\n",
        "\\begin{equation}\n",
        "\\langle \\psi_i | \\hat{p} | \\psi_f \\rangle = i m \\left(E_i - E_f \\right) \\langle \\psi_i | \\hat{x} | \\psi_f \\rangle\n",
        "\\end{equation}\n",
        "where $E_n$ is the energy associated with matter state $n$, $m$ is the reduced mass, and $i$ is the imaginary unit.  Hence, we need to be able to compute matrix elements of the position operator with our matter states.  The following function will accomplish this.\n"
      ]
    },
    {
      "cell_type": "code",
      "execution_count": null,
      "id": "eb007d24-fef0-4686-8899-4de1502dc68d",
      "metadata": {
        "id": "eb007d24-fef0-4686-8899-4de1502dc68d",
        "outputId": "8a05724e-ea0e-4bb2-84b4-ca56ca31888b"
      },
      "outputs": [
        {
          "name": "stdout",
          "output_type": "stream",
          "text": [
            "0.03020945496467519\n",
            "-0.01451584458490009\n",
            "-0.4688158269027078\n"
          ]
        }
      ],
      "source": [
        "def position_matrix_element(instance, i, j):\n",
        "    \"\"\" A function to compute position matrix elements between states i and j using grid x\n",
        "\n",
        "    Arguments\n",
        "    ---------\n",
        "    instance : class instance\n",
        "        the instance of the class you want to use for the states\n",
        "\n",
        "    i : int\n",
        "        index of bra state\n",
        "\n",
        "    j : int\n",
        "        index of ket state\n",
        "\n",
        "    Returns\n",
        "    -------\n",
        "    x_ij : float\n",
        "        the matrix element <i | x | j>\n",
        "\n",
        "    \"\"\"\n",
        "    instance.calc_psi_z(i)\n",
        "    psi_i = instance.psi_au\n",
        "    instance.calc_psi_z(j)\n",
        "    psi_j = instance.psi_au\n",
        "    integrand = psi_i * (instance.r_au - instance.r_eq_au) * psi_j\n",
        "    x_ij = np.trapz(integrand, instance.r_au)\n",
        "    return x_ij\n",
        "\n",
        "\n",
        "x_01 = position_matrix_element(X, 0, 1)\n",
        "x_02 = position_matrix_element(X, 0, 2)\n",
        "\n",
        "print(x_00)\n",
        "print(x_02)\n",
        "\n",
        "\n",
        "dipole_au = -0.8113388\n",
        "q_au = dipole_au / X.r_eq_au\n",
        "print(q_au)"
      ]
    },
    {
      "cell_type": "code",
      "execution_count": null,
      "id": "c4e543df-553b-44bf-9966-f0b0aac2eccd",
      "metadata": {
        "id": "c4e543df-553b-44bf-9966-f0b0aac2eccd"
      },
      "outputs": [],
      "source": []
    }
  ],
  "metadata": {
    "kernelspec": {
      "display_name": "Python 3 (ipykernel)",
      "language": "python",
      "name": "python3"
    },
    "language_info": {
      "codemirror_mode": {
        "name": "ipython",
        "version": 3
      },
      "file_extension": ".py",
      "mimetype": "text/x-python",
      "name": "python",
      "nbconvert_exporter": "python",
      "pygments_lexer": "ipython3",
      "version": "3.12.0"
    },
    "colab": {
      "provenance": []
    }
  },
  "nbformat": 4,
  "nbformat_minor": 5
}